{
 "cells": [
  {
   "cell_type": "markdown",
   "id": "90b66748",
   "metadata": {},
   "source": [
    "# Problem Set 2"
   ]
  },
  {
   "cell_type": "code",
   "execution_count": 1,
   "id": "e15d6fa4",
   "metadata": {},
   "outputs": [],
   "source": [
    "%%capture\n",
    "# Capture suppresses output to screen\n",
    "import stata_setup\n",
    "stata_setup.config(\"/Applications/Stata 17\", \"be\")"
   ]
  },
  {
   "cell_type": "code",
   "execution_count": 2,
   "id": "d15277a3",
   "metadata": {},
   "outputs": [
    {
     "name": "stdout",
     "output_type": "stream",
     "text": [
      "\n",
      ". /* Define paths for data and output */\n",
      ". global data \"Data\"\n",
      "\n",
      ". global output \"Output\"\n",
      "\n",
      ". \n"
     ]
    }
   ],
   "source": [
    "%%stata\n",
    "/* Define paths for data and output */\n",
    "global data \"Data\"\n",
    "global output \"Output\""
   ]
  },
  {
   "cell_type": "code",
   "execution_count": 3,
   "id": "d275e885",
   "metadata": {},
   "outputs": [],
   "source": [
    "%%capture\n",
    "%%stata\n",
    "log using \"$output/Econ672Ps2.log\", replace"
   ]
  },
  {
   "cell_type": "markdown",
   "id": "0b2da5e2",
   "metadata": {},
   "source": [
    "## Assignment:  Econ 672 Problem Set 2\n",
    "Author: Jon Holder"
   ]
  },
  {
   "cell_type": "markdown",
   "id": "f87bb2a2",
   "metadata": {},
   "source": [
    "## Q1 - Read in Data File"
   ]
  },
  {
   "cell_type": "code",
   "execution_count": 4,
   "id": "57370ff0",
   "metadata": {},
   "outputs": [
    {
     "name": "stdout",
     "output_type": "stream",
     "text": [
      "\n",
      ". use \"$data/econ672_njs_data.dta\", clear\n",
      "\n",
      ". describe\n",
      "\n",
      "Contains data from Data/econ672_njs_data.dta\n",
      " Observations:        20,601                  \n",
      "    Variables:            11                  22 Dec 2014 11:36\n",
      "-------------------------------------------------------------------------------\n",
      "Variable      Storage   Display    Value\n",
      "    name         type    format    label      Variable label\n",
      "-------------------------------------------------------------------------------\n",
      "bifid           double  %7.0f                 \n",
      "sex             byte    %8.0g      sexlbl     \n",
      "age             byte    %4.0f                 \n",
      "race            byte    %8.0g      raclbl     \n",
      "esum18i         float   %9.0g                 \n",
      "bfyrearn        float   %9.0g                 \n",
      "ra_stat         byte    %8.0g      raslbl     \n",
      "bfeduca         byte    %8.0g                 \n",
      "totch18         byte    %8.0g                 \n",
      "site_num        byte    %8.0g      sitlbl     \n",
      "enroll          float   %9.0g                 \n",
      "-------------------------------------------------------------------------------\n",
      "Sorted by: bifid\n",
      "\n",
      ". summarize\n",
      "\n",
      "    Variable |        Obs        Mean    Std. dev.       Min        Max\n",
      "-------------+---------------------------------------------------------\n",
      "       bifid |     20,601    131808.6    20795.56     100110     169992\n",
      "         sex |     20,601    .4568225    .4981443          0          1\n",
      "         age |     20,601    29.30702    10.52068         16         82\n",
      "        race |     20,601    1.646037    .8114741          1          4\n",
      "     esum18i |     14,192    9513.183    9546.872          0      93951\n",
      "-------------+---------------------------------------------------------\n",
      "    bfyrearn |     17,043    2810.803     4050.78          0      64436\n",
      "     ra_stat |     20,601     1.32178    .4671706          1          2\n",
      "     bfeduca |     20,254    11.42821    1.776717          7         18\n",
      "     totch18 |     18,659     1.17241    1.438531          0         20\n",
      "    site_num |     20,601     8.08218    4.694295          1         16\n",
      "-------------+---------------------------------------------------------\n",
      "      enroll |     20,601    .4278918    .4947851          0          1\n",
      "\n",
      ". \n"
     ]
    }
   ],
   "source": [
    "%%stata\n",
    "use \"$data/econ672_njs_data.dta\", clear\n",
    "describe\n",
    "summarize"
   ]
  },
  {
   "cell_type": "markdown",
   "id": "755e0e26",
   "metadata": {},
   "source": [
    "## Q2 - Create *treatment* variable"
   ]
  },
  {
   "cell_type": "code",
   "execution_count": 5,
   "id": "b0ebb41a",
   "metadata": {},
   "outputs": [
    {
     "name": "stdout",
     "output_type": "stream",
     "text": [
      "\n",
      ". /* Create treatment =1 if in treatment group */\n",
      ". generate treatment =(ra_stat==1)\n",
      "\n",
      ". label variable treatment \"=1 if in treatment group\"\n",
      "\n",
      ". \n",
      ". /* Drop observations that have missing earnings */\n",
      ". drop if esum18i <= 0\n",
      "(2,476 observations deleted)\n",
      "\n",
      ". \n",
      ". /* Drop treatment observations that were in control and not in JTPA */\n",
      ". drop if (enroll==0 & treatment==1)\n",
      "(4,680 observations deleted)\n",
      "\n",
      ". \n"
     ]
    }
   ],
   "source": [
    "%%stata\n",
    "/* Create treatment =1 if in treatment group */\n",
    "generate treatment =(ra_stat==1)\n",
    "label variable treatment \"=1 if in treatment group\"\n",
    "\n",
    "/* Drop observations that have missing earnings */\n",
    "drop if esum18i <= 0\n",
    "\n",
    "/* Drop treatment observations that were in control and not in JTPA */\n",
    "drop if (enroll==0 & treatment==1)"
   ]
  },
  {
   "cell_type": "code",
   "execution_count": 6,
   "id": "4dbc7ee8",
   "metadata": {},
   "outputs": [
    {
     "name": "stdout",
     "output_type": "stream",
     "text": [
      "\n",
      "  =1 if in |\n",
      " treatment |        enroll\n",
      "     group |         0          1 |     Total\n",
      "-----------+----------------------+----------\n",
      "         0 |     5,596        156 |     5,752 \n",
      "         1 |         0      7,693 |     7,693 \n",
      "-----------+----------------------+----------\n",
      "     Total |     5,596      7,849 |    13,445 \n"
     ]
    }
   ],
   "source": [
    "%%stata\n",
    "tab treatment enroll"
   ]
  },
  {
   "cell_type": "markdown",
   "id": "1c83ea96",
   "metadata": {},
   "source": [
    "## Q3 - Create indicators key pre-experiment info is missing."
   ]
  },
  {
   "cell_type": "code",
   "execution_count": 7,
   "id": "72081762",
   "metadata": {},
   "outputs": [
    {
     "name": "stdout",
     "output_type": "stream",
     "text": [
      "\n",
      ". generate miss_child=(totch18==0 | totch18==.)\n",
      "\n",
      ". label variable miss_child \"=1 if no children <18 or data missing\"\n",
      "\n",
      ". \n",
      ". generate miss_educ=(bfeduca==0 | bfeduca==.)\n",
      "\n",
      ". label variable miss_educ \"=1 if education is 0 or data missing\"\n",
      "\n",
      ". \n",
      ". generate miss_earn=(bfyrearn==0 | bfyrearn==.)\n",
      "\n",
      ". label variable miss_earn \"=1 if bfearn is 0 or data missing\"\n",
      "\n",
      ". \n",
      ". /* Replace missing values in main parameters with 0 */\n",
      ". replace totch18=0 if miss_child==1\n",
      "(1,194 real changes made)\n",
      "\n",
      ". replace bfeduca=0 if miss_educ==1\n",
      "(208 real changes made)\n",
      "\n",
      ". replace bfyrearn=0 if miss_earn==1\n",
      "(2,272 real changes made)\n",
      "\n",
      ". \n"
     ]
    }
   ],
   "source": [
    "%%stata\n",
    "generate miss_child=(totch18==0 | totch18==.)\n",
    "label variable miss_child \"=1 if no children <18 or data missing\"\n",
    "\n",
    "generate miss_educ=(bfeduca==0 | bfeduca==.)\n",
    "label variable miss_educ \"=1 if education is 0 or data missing\"\n",
    "\n",
    "generate miss_earn=(bfyrearn==0 | bfyrearn==.)\n",
    "label variable miss_earn \"=1 if bfearn is 0 or data missing\"\n",
    "\n",
    "/* Replace missing values in main parameters with 0 */\n",
    "replace totch18=0 if miss_child==1\n",
    "replace bfeduca=0 if miss_educ==1\n",
    "replace bfyrearn=0 if miss_earn==1"
   ]
  },
  {
   "cell_type": "code",
   "execution_count": 8,
   "id": "96d96e99",
   "metadata": {},
   "outputs": [
    {
     "name": "stdout",
     "output_type": "stream",
     "text": [
      "(variables nonmissing or string)\n"
     ]
    }
   ],
   "source": [
    "%%stata\n",
    "misstable summarize totch18 bfeduca bfyrearn"
   ]
  },
  {
   "cell_type": "markdown",
   "id": "b7011556",
   "metadata": {},
   "source": [
    "## Q4 - Estimate OLS experimental assignment to earnings"
   ]
  },
  {
   "cell_type": "code",
   "execution_count": 9,
   "id": "df3d8534",
   "metadata": {},
   "outputs": [
    {
     "name": "stdout",
     "output_type": "stream",
     "text": [
      "\n",
      ". regress esum18i treatment, robust\n",
      "\n",
      "Linear regression                               Number of obs     =      8,991\n",
      "                                                F(1, 8989)        =       0.22\n",
      "                                                Prob > F          =     0.6383\n",
      "                                                R-squared         =     0.0000\n",
      "                                                Root MSE          =     9190.7\n",
      "\n",
      "------------------------------------------------------------------------------\n",
      "             |               Robust\n",
      "     esum18i | Coefficient  std. err.      t    P>|t|     [95% conf. interval]\n",
      "-------------+----------------------------------------------------------------\n",
      "   treatment |   93.15785     198.17     0.47   0.638    -295.3005    481.6162\n",
      "       _cons |   11489.34   154.0876    74.56   0.000     11187.29    11791.38\n",
      "------------------------------------------------------------------------------\n",
      "\n",
      ". eststo baseOls\n",
      "\n",
      ". \n",
      ". /* Print to log file */\n",
      ". esttab baseOls, ar2 se obslast scalars(F) ///\n",
      ">     coeflabels(treatment \"In treatment group\")\n",
      "\n",
      "----------------------------\n",
      "                      (1)   \n",
      "                  esum18i   \n",
      "----------------------------\n",
      "In treatme~p        93.16   \n",
      "                  (198.2)   \n",
      "\n",
      "_cons             11489.3***\n",
      "                  (154.1)   \n",
      "----------------------------\n",
      "adj. R-sq          -0.000   \n",
      "F                   0.221   \n",
      "N                    8991   \n",
      "----------------------------\n",
      "Standard errors in parentheses\n",
      "* p<0.05, ** p<0.01, *** p<0.001\n",
      "\n",
      ". \n",
      ". /* Printable table for report *\n",
      "> esttab baseOls using $output/tableQ4.tex, ///\n",
      ">     replace ///\n",
      ">     ar2 se obslast scalars(F) ///\n",
      ">     oeflabels(treatment \"In treatment group\")\n",
      "\n"
     ]
    }
   ],
   "source": [
    "%%stata\n",
    "regress esum18i treatment, robust\n",
    "eststo baseOls\n",
    "\n",
    "/* Print to log file */\n",
    "esttab baseOls, ar2 se obslast scalars(F) ///\n",
    "    coeflabels(treatment \"In treatment group\")\n",
    "\n",
    "/* Printable table for report *\n",
    "esttab baseOls using $output/tableQ4.tex, ///\n",
    "    replace ///\n",
    "    ar2 se obslast scalars(F) ///\n",
    "    oeflabels(treatment \"In treatment group\")"
   ]
  },
  {
   "cell_type": "markdown",
   "id": "f1c3bf57",
   "metadata": {},
   "source": [
    "## Q5 - Estimate with OLS and covariates"
   ]
  },
  {
   "cell_type": "code",
   "execution_count": 10,
   "id": "b3bd8f26",
   "metadata": {},
   "outputs": [],
   "source": [
    "%%stata\n",
    "global covariates \"sex i.race age totch18 bfeduca bfyrearn i.site_num miss_child miss_educ miss_earn\""
   ]
  },
  {
   "cell_type": "code",
   "execution_count": 11,
   "id": "21739c5b",
   "metadata": {},
   "outputs": [
    {
     "name": "stdout",
     "output_type": "stream",
     "text": [
      "\n",
      ". regress esum18i treatment $covariates, cluster(site_num)\n",
      "\n",
      "Linear regression                               Number of obs     =      8,991\n",
      "                                                F(11, 15)         =          .\n",
      "                                                Prob > F          =          .\n",
      "                                                R-squared         =     0.1598\n",
      "                                                Root MSE          =     8436.5\n",
      "\n",
      "                              (Std. err. adjusted for 16 clusters in site_num)\n",
      "------------------------------------------------------------------------------\n",
      "             |               Robust\n",
      "     esum18i | Coefficient  std. err.      t    P>|t|     [95% conf. interval]\n",
      "-------------+----------------------------------------------------------------\n",
      "   treatment |   187.4787   286.6478     0.65   0.523    -423.4966    798.4539\n",
      "         sex |   4265.399   245.1583    17.40   0.000     3742.856    4787.941\n",
      "             |\n",
      "        race |\n",
      "   Black     |  -2017.531   376.8463    -5.35   0.000     -2820.76   -1214.302\n",
      "   Hispanic  |  -1118.829   367.9532    -3.04   0.008    -1903.103   -334.5554\n",
      "   Other     |  -818.2525   1166.966    -0.70   0.494    -3305.582    1669.077\n",
      "             |\n",
      "         age |   3.423982   19.28126     0.18   0.861    -37.67306    44.52102\n",
      "     totch18 |   364.6101   72.37286     5.04   0.000      210.351    518.8691\n",
      "     bfeduca |   734.8889   52.37288    14.03   0.000     623.2588    846.5191\n",
      "    bfyrearn |   .4662846   .0421534    11.06   0.000     .3764367    .5561325\n",
      "             |\n",
      "    site_num |\n",
      "         CI  |  -582.7398    253.973    -2.29   0.037     -1124.07   -41.40919\n",
      "         CV  |   1146.599   281.0994     4.08   0.001     547.4498    1745.748\n",
      "         HF  |    354.295   295.5429     1.20   0.249    -275.6398    984.2298\n",
      "         IN  |   1702.385   235.7448     7.22   0.000     1199.907    2204.863\n",
      "         JC  |    2330.75   284.8301     8.18   0.000     1723.649    2937.851\n",
      "         JK  |   540.8526   403.1353     1.34   0.200    -318.4099    1400.115\n",
      "         LC  |  -133.2984   236.9926    -0.56   0.582    -638.4362    371.8393\n",
      "         MD  |   1741.819   259.2433     6.72   0.000     1189.255    2294.383\n",
      "         MN  |  -800.4007   262.4462    -3.05   0.008    -1359.791   -241.0098\n",
      "         MT  |  -558.1069   231.7699    -2.41   0.029    -1052.113   -64.10101\n",
      "         NE  |  -1009.205   288.1723    -3.50   0.003    -1623.429   -394.9798\n",
      "         OH  |  -2104.409   250.1316    -8.41   0.000    -2637.552   -1571.266\n",
      "         OK  |   3142.081   417.4482     7.53   0.000     2252.312    4031.851\n",
      "         PR  |   1190.335   183.3824     6.49   0.000     799.4643    1581.205\n",
      "         SM  |  -436.1119   242.9529    -1.80   0.093    -953.9538       81.73\n",
      "             |\n",
      "  miss_child |  -51.87204   269.5558    -0.19   0.850    -626.4166    522.6725\n",
      "   miss_educ |   8633.161   1137.841     7.59   0.000     6207.909    11058.41\n",
      "   miss_earn |  -78.73257   263.9217    -0.30   0.770    -641.2684    483.8033\n",
      "       _cons |  -446.2969   855.2346    -0.52   0.609    -2269.186    1376.592\n",
      "------------------------------------------------------------------------------\n",
      "\n",
      ". eststo olsCovariates\n",
      "\n",
      ". \n"
     ]
    }
   ],
   "source": [
    "%%stata\n",
    "regress esum18i treatment $covariates, cluster(site_num)\n",
    "eststo olsCovariates"
   ]
  },
  {
   "cell_type": "markdown",
   "id": "97cf1ba0",
   "metadata": {},
   "source": [
    "---"
   ]
  },
  {
   "cell_type": "markdown",
   "id": "876c01e3",
   "metadata": {},
   "source": [
    "## Difference-in-differences"
   ]
  },
  {
   "cell_type": "markdown",
   "id": "4fedad1e",
   "metadata": {},
   "source": [
    "## Q7 - Difference-in-Difference"
   ]
  },
  {
   "cell_type": "markdown",
   "id": "499d9e8a",
   "metadata": {},
   "source": [
    "Estimate difference between JTPA participation and control group.  \n",
    "Control group is people not enrolled in JTPA.  \n",
    "Treatment group is people enrolled in JTPA and assigned to the control group.  \n",
    "Treatment is enrollment in JTPA and assigned control group."
   ]
  },
  {
   "cell_type": "code",
   "execution_count": 17,
   "id": "14895772",
   "metadata": {},
   "outputs": [
    {
     "name": "stdout",
     "output_type": "stream",
     "text": [
      "\n",
      ". generate didTreatment=(enroll==1 & treatment==0)\n",
      "\n",
      ". generate didTreatXenroll = enroll*didTreatment\n",
      "\n",
      ". \n"
     ]
    }
   ],
   "source": [
    "%%stata\n",
    "generate didTreatment=(enroll==1 & treatment==0)"
   ]
  },
  {
   "cell_type": "code",
   "execution_count": 13,
   "id": "12af9285",
   "metadata": {},
   "outputs": [
    {
     "name": "stdout",
     "output_type": "stream",
     "text": [
      "(4,454 missing values generated)\n"
     ]
    }
   ],
   "source": [
    "%%stata\n",
    "generate diffEarn=esum18i-bfyrearn"
   ]
  },
  {
   "cell_type": "code",
   "execution_count": 31,
   "id": "ff9a3f46",
   "metadata": {},
   "outputs": [
    {
     "name": "stdout",
     "output_type": "stream",
     "text": [
      "\n",
      "------------------------\n",
      "             |      Mean\n",
      "-------------+----------\n",
      "didTreatment |          \n",
      "  0          |  9047.134\n",
      "  1          |  8189.514\n",
      "  Total      |  9036.737\n",
      "------------------------\n"
     ]
    }
   ],
   "source": [
    "%%stata\n",
    "table didTreatment, statistic(mean diffEarn)"
   ]
  },
  {
   "cell_type": "code",
   "execution_count": 29,
   "id": "e01ab7d2",
   "metadata": {},
   "outputs": [
    {
     "name": "stdout",
     "output_type": "stream",
     "text": [
      "\n",
      ". /*       outcome */\n",
      ". regress diffEarn didTreatment,robust\n",
      "\n",
      "Linear regression                               Number of obs     =      8,991\n",
      "                                                F(1, 8989)        =       1.10\n",
      "                                                Prob > F          =     0.2940\n",
      "                                                R-squared         =     0.0001\n",
      "                                                Root MSE          =     8949.1\n",
      "\n",
      "------------------------------------------------------------------------------\n",
      "             |               Robust\n",
      "    diffEarn | Coefficient  std. err.      t    P>|t|     [95% conf. interval]\n",
      "-------------+----------------------------------------------------------------\n",
      "didTreatment |  -857.6207   817.1391    -1.05   0.294      -2459.4    744.1583\n",
      "       _cons |   9047.134   95.01691    95.22   0.000      8860.88    9233.389\n",
      "------------------------------------------------------------------------------\n",
      "\n",
      ". \n"
     ]
    }
   ],
   "source": [
    "%%stata\n",
    "regress diffEarn didTreatment,robust"
   ]
  },
  {
   "cell_type": "markdown",
   "id": "2c93386b",
   "metadata": {},
   "source": [
    "---"
   ]
  },
  {
   "cell_type": "markdown",
   "id": "bc290d27",
   "metadata": {},
   "source": [
    "## Regression Discontinuity"
   ]
  },
  {
   "cell_type": "markdown",
   "id": "e177b5cf",
   "metadata": {},
   "source": [
    "## Q9 - Drop Data from the control group with miss_earn==1"
   ]
  },
  {
   "cell_type": "code",
   "execution_count": 90,
   "id": "52fc54ee",
   "metadata": {},
   "outputs": [
    {
     "name": "stdout",
     "output_type": "stream",
     "text": [
      "(2,221 observations deleted)\n"
     ]
    }
   ],
   "source": [
    "%%stata\n",
    "drop if treatment==0 & miss_earn==1"
   ]
  },
  {
   "cell_type": "markdown",
   "id": "0c1734a5",
   "metadata": {},
   "source": [
    "## Q10 - Create rdtreat=1 for Control Group with bfyrearn<=2650"
   ]
  },
  {
   "cell_type": "code",
   "execution_count": 91,
   "id": "f4c9bc62",
   "metadata": {},
   "outputs": [],
   "source": [
    "%%stata\n",
    "generate rdtreat=(treatment==0 & bfyrearn<=2650)"
   ]
  },
  {
   "cell_type": "markdown",
   "id": "b58f0c19",
   "metadata": {},
   "source": [
    "## Q11 - Construct a regression discontinuity with a window of \\$500 on each side"
   ]
  },
  {
   "cell_type": "code",
   "execution_count": 111,
   "id": "ee5a5135",
   "metadata": {},
   "outputs": [],
   "source": [
    "%%stata\n",
    "global window \"bfyrearn>=2150 & bfyrearn<=3150\""
   ]
  },
  {
   "cell_type": "code",
   "execution_count": 130,
   "id": "9d8e1aef",
   "metadata": {},
   "outputs": [
    {
     "name": "stdout",
     "output_type": "stream",
     "text": [
      "\n",
      ". /* \n",
      ">     Calculate differences in mean for data on each side\n",
      ">     of the window\n",
      "> */\n",
      ". table rdtreat if $window & treatment==0, ///\n",
      ">     statistic(mean esum18i) ///\n",
      ">     statistic(semean esum18i)\n",
      "\n",
      "------------------------------------------------\n",
      "        |      Mean   Standard error of the mean\n",
      "--------+---------------------------------------\n",
      "rdtreat |                                       \n",
      "  0     |  11161.82                      648.808\n",
      "  1     |  11978.42                     736.4323\n",
      "  Total |  11499.72                     487.1008\n",
      "------------------------------------------------\n",
      "\n",
      ". regress esum18i rdtreat if $window & ///\n",
      ">     treatment==0, robust\n",
      "\n",
      "Linear regression                               Number of obs     =        290\n",
      "                                                F(1, 288)         =       0.69\n",
      "                                                Prob > F          =     0.4060\n",
      "                                                R-squared         =     0.0024\n",
      "                                                Root MSE          =     8299.6\n",
      "\n",
      "------------------------------------------------------------------------------\n",
      "             |               Robust\n",
      "     esum18i | Coefficient  std. err.      t    P>|t|     [95% conf. interval]\n",
      "-------------+----------------------------------------------------------------\n",
      "     rdtreat |    816.599   981.2898     0.83   0.406     -1114.81    2748.008\n",
      "       _cons |   11161.82   649.1392    17.19   0.000     9884.159    12439.48\n",
      "------------------------------------------------------------------------------\n",
      "\n",
      ". \n"
     ]
    }
   ],
   "source": [
    "%%stata\n",
    "/* \n",
    "    Calculate differences in mean for data on each side\n",
    "    of the window\n",
    "*/\n",
    "table rdtreat if $window & treatment==0, ///\n",
    "    statistic(mean esum18i) ///\n",
    "    statistic(semean esum18i)\n",
    "regress esum18i rdtreat if $window & ///\n",
    "    treatment==0, robust"
   ]
  },
  {
   "cell_type": "code",
   "execution_count": 121,
   "id": "f54ae683",
   "metadata": {},
   "outputs": [
    {
     "name": "stdout",
     "output_type": "stream",
     "text": [
      "\n",
      "RD Plot with evenly spaced mimicking variance number of bins using spacings est\n",
      "> imators.\n",
      "\n",
      "      Cutoff c = 2650 | Left of c  Right of c        Number of obs  =        67\n",
      "> 9\n",
      "----------------------+----------------------        Kernel         =    Unifor\n",
      "> m\n",
      "        Number of obs |       299         380\n",
      "   Eff. Number of obs |       299         380\n",
      "  Order poly. fit (p) |         1           1\n",
      "     BW poly. fit (h) |   500.000     500.000\n",
      " Number of bins scale |     1.000       1.000\n",
      "\n",
      "Outcome: esum18i. Running variable: bfyrearn.\n",
      "---------------------------------------------\n",
      "                      | Left of c  Right of c\n",
      "----------------------+----------------------\n",
      "        Bins selected |        22          17\n",
      "   Average bin length |    22.727      29.412\n",
      "    Median bin length |    22.727      29.412\n",
      "----------------------+----------------------\n",
      "    IMSE-optimal bins |         3           5\n",
      "  Mimicking Var. bins |        22          17\n",
      "----------------------+----------------------\n",
      "Rel. to IMSE-optimal: | \n",
      "        Implied scale |     7.333       3.400\n",
      "    WIMSE var. weight |     0.003       0.025\n",
      "    WIMSE bias weight |     0.997       0.975\n",
      "---------------------------------------------\n",
      "\n"
     ]
    },
    {
     "data": {
      "image/svg+xml": [
       "<svg xmlns=\"http://www.w3.org/2000/svg\" xmlns:xlink=\"http://www.w3.org/1999/xlink\" version=\"1.1\" width=\"6.000in\" height=\"4.000in\" viewBox=\"0 0 3960 2640\">\n",
       "\t<desc>Stata Graph - Graph</desc>\n",
       "\t<rect x=\"0\" y=\"0\" width=\"3960\" height=\"2640\" style=\"fill:#EAF2F3;stroke:none\"/>\n",
       "\t<rect x=\"0.00\" y=\"0.00\" width=\"3959.88\" height=\"2640.00\" style=\"fill:#EAF2F3\"/>\n",
       "\t<rect x=\"2.88\" y=\"2.88\" width=\"3954.12\" height=\"2634.24\" style=\"fill:none;stroke:#EAF2F3;stroke-width:5.76\"/>\n",
       "\t<rect x=\"290.81\" y=\"252.41\" width=\"3568.21\" height=\"1886.75\" style=\"fill:#FFFFFF\"/>\n",
       "\t<rect x=\"293.69\" y=\"255.29\" width=\"3562.45\" height=\"1880.99\" style=\"fill:none;stroke:#FFFFFF;stroke-width:5.76\"/>\n",
       "\t<line x1=\"290.81\" y1=\"2081.19\" x2=\"3859.02\" y2=\"2081.19\" style=\"stroke:#EAF2F3;stroke-width:8.64\"/>\n",
       "\t<line x1=\"290.81\" y1=\"1638.43\" x2=\"3859.02\" y2=\"1638.43\" style=\"stroke:#EAF2F3;stroke-width:8.64\"/>\n",
       "\t<line x1=\"290.81\" y1=\"1195.78\" x2=\"3859.02\" y2=\"1195.78\" style=\"stroke:#EAF2F3;stroke-width:8.64\"/>\n",
       "\t<line x1=\"290.81\" y1=\"753.14\" x2=\"3859.02\" y2=\"753.14\" style=\"stroke:#EAF2F3;stroke-width:8.64\"/>\n",
       "\t<line x1=\"290.81\" y1=\"310.49\" x2=\"3859.02\" y2=\"310.49\" style=\"stroke:#EAF2F3;stroke-width:8.64\"/>\n",
       "\t<line x1=\"1992.99\" y1=\"2139.16\" x2=\"1992.99\" y2=\"252.41\" style=\"stroke:#000000;stroke-width:7.20\"/>\n",
       "\t<circle cx=\"391.30\" cy=\"1854.76\" r=\"19.29\" style=\"fill:#A0A0A0\"/>\n",
       "\t<circle cx=\"391.30\" cy=\"1854.76\" r=\"14.97\" style=\"fill:none;stroke:#A0A0A0;stroke-width:8.64\"/>\n",
       "\t<circle cx=\"465.80\" cy=\"1802.58\" r=\"19.29\" style=\"fill:#A0A0A0\"/>\n",
       "\t<circle cx=\"465.80\" cy=\"1802.58\" r=\"14.97\" style=\"fill:none;stroke:#A0A0A0;stroke-width:8.64\"/>\n",
       "\t<circle cx=\"540.29\" cy=\"1206.11\" r=\"19.29\" style=\"fill:#A0A0A0\"/>\n",
       "\t<circle cx=\"540.29\" cy=\"1206.11\" r=\"14.97\" style=\"fill:none;stroke:#A0A0A0;stroke-width:8.64\"/>\n",
       "\t<circle cx=\"614.79\" cy=\"1756.52\" r=\"19.29\" style=\"fill:#A0A0A0\"/>\n",
       "\t<circle cx=\"614.79\" cy=\"1756.52\" r=\"14.97\" style=\"fill:none;stroke:#A0A0A0;stroke-width:8.64\"/>\n",
       "\t<circle cx=\"689.29\" cy=\"1496.97\" r=\"19.29\" style=\"fill:#A0A0A0\"/>\n",
       "\t<circle cx=\"689.29\" cy=\"1496.97\" r=\"14.97\" style=\"fill:none;stroke:#A0A0A0;stroke-width:8.64\"/>\n",
       "\t<circle cx=\"763.79\" cy=\"1672.92\" r=\"19.29\" style=\"fill:#A0A0A0\"/>\n",
       "\t<circle cx=\"763.79\" cy=\"1672.92\" r=\"14.97\" style=\"fill:none;stroke:#A0A0A0;stroke-width:8.64\"/>\n",
       "\t<circle cx=\"838.28\" cy=\"1684.37\" r=\"19.29\" style=\"fill:#A0A0A0\"/>\n",
       "\t<circle cx=\"838.28\" cy=\"1684.37\" r=\"14.97\" style=\"fill:none;stroke:#A0A0A0;stroke-width:8.64\"/>\n",
       "\t<circle cx=\"912.78\" cy=\"1282.11\" r=\"19.29\" style=\"fill:#A0A0A0\"/>\n",
       "\t<circle cx=\"912.78\" cy=\"1282.11\" r=\"14.97\" style=\"fill:none;stroke:#A0A0A0;stroke-width:8.64\"/>\n",
       "\t<circle cx=\"987.28\" cy=\"1569.46\" r=\"19.29\" style=\"fill:#A0A0A0\"/>\n",
       "\t<circle cx=\"987.28\" cy=\"1569.46\" r=\"14.97\" style=\"fill:none;stroke:#A0A0A0;stroke-width:8.64\"/>\n",
       "\t<circle cx=\"1061.78\" cy=\"1483.13\" r=\"19.29\" style=\"fill:#A0A0A0\"/>\n",
       "\t<circle cx=\"1061.78\" cy=\"1483.13\" r=\"14.97\" style=\"fill:none;stroke:#A0A0A0;stroke-width:8.64\"/>\n",
       "\t<circle cx=\"1136.27\" cy=\"1907.06\" r=\"19.29\" style=\"fill:#A0A0A0\"/>\n",
       "\t<circle cx=\"1136.27\" cy=\"1907.06\" r=\"14.97\" style=\"fill:none;stroke:#A0A0A0;stroke-width:8.64\"/>\n",
       "\t<circle cx=\"1210.77\" cy=\"1586.93\" r=\"19.29\" style=\"fill:#A0A0A0\"/>\n",
       "\t<circle cx=\"1210.77\" cy=\"1586.93\" r=\"14.97\" style=\"fill:none;stroke:#A0A0A0;stroke-width:8.64\"/>\n",
       "\t<circle cx=\"1285.27\" cy=\"1347.23\" r=\"19.29\" style=\"fill:#A0A0A0\"/>\n",
       "\t<circle cx=\"1285.27\" cy=\"1347.23\" r=\"14.97\" style=\"fill:none;stroke:#A0A0A0;stroke-width:8.64\"/>\n",
       "\t<circle cx=\"1359.77\" cy=\"1596.91\" r=\"19.29\" style=\"fill:#A0A0A0\"/>\n",
       "\t<circle cx=\"1359.77\" cy=\"1596.91\" r=\"14.97\" style=\"fill:none;stroke:#A0A0A0;stroke-width:8.64\"/>\n",
       "\t<circle cx=\"1434.26\" cy=\"1517.73\" r=\"19.29\" style=\"fill:#A0A0A0\"/>\n",
       "\t<circle cx=\"1434.26\" cy=\"1517.73\" r=\"14.97\" style=\"fill:none;stroke:#A0A0A0;stroke-width:8.64\"/>\n",
       "\t<circle cx=\"1508.76\" cy=\"1399.86\" r=\"19.29\" style=\"fill:#A0A0A0\"/>\n",
       "\t<circle cx=\"1508.76\" cy=\"1399.86\" r=\"14.97\" style=\"fill:none;stroke:#A0A0A0;stroke-width:8.64\"/>\n",
       "\t<circle cx=\"1583.26\" cy=\"1727.93\" r=\"19.29\" style=\"fill:#A0A0A0\"/>\n",
       "\t<circle cx=\"1583.26\" cy=\"1727.93\" r=\"14.97\" style=\"fill:none;stroke:#A0A0A0;stroke-width:8.64\"/>\n",
       "\t<circle cx=\"1657.76\" cy=\"1495.38\" r=\"19.29\" style=\"fill:#A0A0A0\"/>\n",
       "\t<circle cx=\"1657.76\" cy=\"1495.38\" r=\"14.97\" style=\"fill:none;stroke:#A0A0A0;stroke-width:8.64\"/>\n",
       "\t<circle cx=\"1732.25\" cy=\"1843.42\" r=\"19.29\" style=\"fill:#A0A0A0\"/>\n",
       "\t<circle cx=\"1732.25\" cy=\"1843.42\" r=\"14.97\" style=\"fill:none;stroke:#A0A0A0;stroke-width:8.64\"/>\n",
       "\t<circle cx=\"1806.75\" cy=\"1496.29\" r=\"19.29\" style=\"fill:#A0A0A0\"/>\n",
       "\t<circle cx=\"1806.75\" cy=\"1496.29\" r=\"14.97\" style=\"fill:none;stroke:#A0A0A0;stroke-width:8.64\"/>\n",
       "\t<circle cx=\"1881.25\" cy=\"898.23\" r=\"19.29\" style=\"fill:#A0A0A0\"/>\n",
       "\t<circle cx=\"1881.25\" cy=\"898.23\" r=\"14.97\" style=\"fill:none;stroke:#A0A0A0;stroke-width:8.64\"/>\n",
       "\t<circle cx=\"1955.62\" cy=\"1425.05\" r=\"19.29\" style=\"fill:#A0A0A0\"/>\n",
       "\t<circle cx=\"1955.62\" cy=\"1425.05\" r=\"14.97\" style=\"fill:none;stroke:#A0A0A0;stroke-width:8.64\"/>\n",
       "\t<circle cx=\"2041.13\" cy=\"1796.23\" r=\"19.29\" style=\"fill:#A0A0A0\"/>\n",
       "\t<circle cx=\"2041.13\" cy=\"1796.23\" r=\"14.97\" style=\"fill:none;stroke:#A0A0A0;stroke-width:8.64\"/>\n",
       "\t<circle cx=\"2137.53\" cy=\"1617.90\" r=\"19.29\" style=\"fill:#A0A0A0\"/>\n",
       "\t<circle cx=\"2137.53\" cy=\"1617.90\" r=\"14.97\" style=\"fill:none;stroke:#A0A0A0;stroke-width:8.64\"/>\n",
       "\t<circle cx=\"2233.94\" cy=\"1786.92\" r=\"19.29\" style=\"fill:#A0A0A0\"/>\n",
       "\t<circle cx=\"2233.94\" cy=\"1786.92\" r=\"14.97\" style=\"fill:none;stroke:#A0A0A0;stroke-width:8.64\"/>\n",
       "\t<circle cx=\"2330.34\" cy=\"1901.95\" r=\"19.29\" style=\"fill:#A0A0A0\"/>\n",
       "\t<circle cx=\"2330.34\" cy=\"1901.95\" r=\"14.97\" style=\"fill:none;stroke:#A0A0A0;stroke-width:8.64\"/>\n",
       "\t<circle cx=\"2426.74\" cy=\"1832.30\" r=\"19.29\" style=\"fill:#A0A0A0\"/>\n",
       "\t<circle cx=\"2426.74\" cy=\"1832.30\" r=\"14.97\" style=\"fill:none;stroke:#A0A0A0;stroke-width:8.64\"/>\n",
       "\t<circle cx=\"2523.14\" cy=\"1631.17\" r=\"19.29\" style=\"fill:#A0A0A0\"/>\n",
       "\t<circle cx=\"2523.14\" cy=\"1631.17\" r=\"14.97\" style=\"fill:none;stroke:#A0A0A0;stroke-width:8.64\"/>\n",
       "\t<circle cx=\"2619.54\" cy=\"1569.57\" r=\"19.29\" style=\"fill:#A0A0A0\"/>\n",
       "\t<circle cx=\"2619.54\" cy=\"1569.57\" r=\"14.97\" style=\"fill:none;stroke:#A0A0A0;stroke-width:8.64\"/>\n",
       "\t<circle cx=\"2715.94\" cy=\"1551.76\" r=\"19.29\" style=\"fill:#A0A0A0\"/>\n",
       "\t<circle cx=\"2715.94\" cy=\"1551.76\" r=\"14.97\" style=\"fill:none;stroke:#A0A0A0;stroke-width:8.64\"/>\n",
       "\t<circle cx=\"2812.34\" cy=\"1481.20\" r=\"19.29\" style=\"fill:#A0A0A0\"/>\n",
       "\t<circle cx=\"2812.34\" cy=\"1481.20\" r=\"14.97\" style=\"fill:none;stroke:#A0A0A0;stroke-width:8.64\"/>\n",
       "\t<circle cx=\"2908.74\" cy=\"1348.02\" r=\"19.29\" style=\"fill:#A0A0A0\"/>\n",
       "\t<circle cx=\"2908.74\" cy=\"1348.02\" r=\"14.97\" style=\"fill:none;stroke:#A0A0A0;stroke-width:8.64\"/>\n",
       "\t<circle cx=\"3005.15\" cy=\"1947.22\" r=\"19.29\" style=\"fill:#A0A0A0\"/>\n",
       "\t<circle cx=\"3005.15\" cy=\"1947.22\" r=\"14.97\" style=\"fill:none;stroke:#A0A0A0;stroke-width:8.64\"/>\n",
       "\t<circle cx=\"3101.55\" cy=\"1399.64\" r=\"19.29\" style=\"fill:#A0A0A0\"/>\n",
       "\t<circle cx=\"3101.55\" cy=\"1399.64\" r=\"14.97\" style=\"fill:none;stroke:#A0A0A0;stroke-width:8.64\"/>\n",
       "\t<circle cx=\"3197.95\" cy=\"1434.24\" r=\"19.29\" style=\"fill:#A0A0A0\"/>\n",
       "\t<circle cx=\"3197.95\" cy=\"1434.24\" r=\"14.97\" style=\"fill:none;stroke:#A0A0A0;stroke-width:8.64\"/>\n",
       "\t<circle cx=\"3294.35\" cy=\"1609.96\" r=\"19.29\" style=\"fill:#A0A0A0\"/>\n",
       "\t<circle cx=\"3294.35\" cy=\"1609.96\" r=\"14.97\" style=\"fill:none;stroke:#A0A0A0;stroke-width:8.64\"/>\n",
       "\t<circle cx=\"3390.75\" cy=\"518.54\" r=\"19.29\" style=\"fill:#A0A0A0\"/>\n",
       "\t<circle cx=\"3390.75\" cy=\"518.54\" r=\"14.97\" style=\"fill:none;stroke:#A0A0A0;stroke-width:8.64\"/>\n",
       "\t<circle cx=\"3487.15\" cy=\"1415.86\" r=\"19.29\" style=\"fill:#A0A0A0\"/>\n",
       "\t<circle cx=\"3487.15\" cy=\"1415.86\" r=\"14.97\" style=\"fill:none;stroke:#A0A0A0;stroke-width:8.64\"/>\n",
       "\t<circle cx=\"3583.55\" cy=\"500.84\" r=\"19.29\" style=\"fill:#A0A0A0\"/>\n",
       "\t<circle cx=\"3583.55\" cy=\"500.84\" r=\"14.97\" style=\"fill:none;stroke:#A0A0A0;stroke-width:8.64\"/>\n",
       "\t<path d=\" M354.05 1563.90 L357.39 1563.67 L360.61 1563.44 L363.95 1563.22 L367.17 1562.99 L370.51 1562.76 L373.73 1562.54 L377.07 1562.31 L380.41 1562.08 L383.63 1561.74 L386.97 1561.52 L390.18 1561.29 L393.53 1561.06 L396.74 1560.84 L400.08 1560.61 L403.30 1560.38 L406.64 1560.15 L409.86 1559.93 L413.20 1559.70 L416.54 1559.47 L419.76 1559.25 L423.10 1559.02 L426.32 1558.79 L429.66 1558.57 L432.88 1558.34 L436.22 1558.11 L439.44 1557.89 L442.78 1557.66 L446.00 1557.43 L449.34 1557.21 L452.55 1556.86 L455.90 1556.64 L459.24 1556.41 L462.45 1556.18 L465.80 1555.96 L469.01 1555.73 L472.35 1555.50 L475.57 1555.28 L478.91 1555.05 L482.13 1554.82 L485.47 1554.60 L488.69 1554.37 L492.03 1554.14 L495.25 1553.92 L498.59 1553.69 L501.93 1553.46 L505.15 1553.23 L508.49 1553.01 L511.71 1552.78 L515.05 1552.55 L518.27 1552.33 L521.61 1551.99 L524.82 1551.76 L528.17 1551.53 L531.38 1551.31 L534.72 1551.08 L537.94 1550.85 L541.28 1550.63 L544.62 1550.40 L547.84 1550.17 L551.18 1549.94 L554.40 1549.72 L557.74 1549.49 L560.96 1549.26 L564.30 1549.04 L567.52 1548.81 L570.86 1548.58 L574.08 1548.36 L577.42 1548.13 L580.64 1547.90 L583.98 1547.68 L587.32 1547.45 L590.54 1547.11 L593.88 1546.88 L597.09 1546.66 L600.43 1546.43 L603.65 1546.20 L606.99 1545.97 L610.21 1545.75 L613.55 1545.52 L616.77 1545.29 L620.11 1545.07 L623.33 1544.84 L626.67 1544.61 L630.01 1544.39 L633.23 1544.16 L636.57 1543.93 L639.79 1543.71 L643.13 1543.48 L646.35 1543.25 L649.69 1543.03 L652.91 1542.80 L656.25 1542.57 L659.46 1542.23 L662.81 1542.00 L666.15 1541.78 L669.36 1541.55 L672.71 1541.32 L675.92 1541.10 L679.26 1540.87 L682.48 1540.64 L685.82 1540.42 L689.04 1540.19 L692.38 1539.96 L695.60 1539.74 L698.94 1539.51 L702.16 1539.28 L705.50 1539.05 L708.84 1538.83 L712.06 1538.60 L715.40 1538.37 L718.62 1538.15 L721.96 1537.92 L725.18 1537.69 L728.52 1537.35 L731.73 1537.13 L735.08 1536.90 L738.29 1536.67 L741.63 1536.45 L744.85 1536.22 L748.19 1535.99 L751.53 1535.76 L754.75 1535.54 L758.09 1535.31 L761.31 1535.08 L764.65 1534.86 L767.87 1534.63 L771.21 1534.40 L774.43 1534.18 L777.77 1533.95 L780.99 1533.72 L784.33 1533.50 L787.55 1533.27 L790.89 1533.04 L794.23 1532.82 L797.45 1532.59 L800.79 1532.25 L804.00 1532.02 L807.35 1531.79 L810.56 1531.57 L813.90 1531.34 L817.12 1531.11 L820.46 1530.89 L823.68 1530.66 L827.02 1530.43 L830.24 1530.21 L833.58 1529.98 L836.92 1529.75 L840.14 1529.53 L843.48 1529.30 L846.70 1529.07 L850.04 1528.84 L853.26 1528.62 L856.60 1528.39 L859.82 1528.16 L863.16 1527.94 L866.37 1527.71 L869.72 1527.37 L872.93 1527.14 L876.27 1526.92 L879.62 1526.69 L882.83 1526.46 L886.17 1526.24 L889.39 1526.01 L892.73 1525.78 L895.95 1525.56 L899.29 1525.33 L902.51 1525.10 L905.85 1524.87 L909.07 1524.65 L912.41 1524.42 L915.75 1524.19 L918.97 1523.97 L922.31 1523.74 L925.53 1523.51 L928.87 1523.29 L932.09 1523.06 L935.43 1522.83 L938.64 1522.49 L941.99 1522.27 L945.20 1522.04 L948.54 1521.81 L951.76 1521.58 L955.10 1521.36 L958.44 1521.13 L961.66 1520.90 L965.00 1520.68 L968.22 1520.45 L971.56 1520.22 L974.78 1520.00 L978.12 1519.77 L981.34 1519.54 L984.68 1519.32 L987.90 1519.09 L991.24 1518.86 L994.46 1518.64 L997.80 1518.41 L1001.14 1518.18 L1004.36 1517.95 L1007.70 1517.61 L1010.91 1517.39 L1014.26 1517.16 L1017.47 1516.93 L1020.81 1516.71 L1024.03 1516.48 L1027.37 1516.25 L1030.59 1516.03 L1033.93 1515.80 L1037.15 1515.57 L1040.49 1515.35 L1043.83 1515.12 L1047.05 1514.89 L1050.39 1514.66 L1053.61 1514.44 L1056.95 1514.21 L1060.17 1513.98 L1063.51 1513.76 L1066.72 1513.53 L1070.07 1513.30 L1073.28 1513.08 L1076.63 1512.74 L1079.84 1512.51 L1083.18 1512.28 L1086.53 1512.06 L1089.74 1511.83 L1093.08 1511.60 L1096.30 1511.38 L1099.64 1511.15 L1102.86 1510.92 L1106.20 1510.69 L1109.42 1510.47 L1112.76 1510.24 L1115.98 1510.01 L1119.32 1509.79 L1122.66 1509.56 L1125.88 1509.33 L1129.22 1509.11 L1132.44 1508.88 L1135.78 1508.65 L1138.99 1508.43 L1142.34 1508.20 L1145.55 1507.86 L1148.90 1507.63 L1152.11 1507.40 L1155.45 1507.18 L1158.67 1506.95 L1162.01 1506.72 L1165.35 1506.50 L1168.57 1506.27 L1171.91 1506.04 L1175.13 1505.82 L1178.47 1505.59 L1181.69 1505.36 L1185.03 1505.14 L1188.25 1504.91 L1191.59 1504.68 L1194.81 1504.46 L1198.15 1504.23 L1201.37 1504.00 L1204.71 1503.77 L1208.05 1503.55 L1211.27 1503.32 L1214.61 1502.98 L1217.82 1502.75 L1221.17 1502.53 L1224.38 1502.30 L1227.72 1502.07 L1230.94 1501.85 L1234.28 1501.62 L1237.50 1501.39 L1240.84 1501.17 L1244.06 1500.94 L1247.40 1500.71 L1250.74 1500.48 L1253.96 1500.26 L1257.30 1500.03 L1260.52 1499.80 L1263.86 1499.58 L1267.08 1499.35 L1270.42 1499.12 L1273.64 1498.90 L1276.98 1498.67 L1280.19 1498.44 L1283.54 1498.22 L1286.75 1497.88 L1290.09 1497.65 L1293.44 1497.42 L1296.65 1497.19 L1299.99 1496.97 L1303.21 1496.74 L1306.55 1496.51 L1309.77 1496.29 L1313.11 1496.06 L1316.33 1495.83 L1319.67 1495.61 L1322.89 1495.38 L1326.23 1495.15 L1329.45 1494.93 L1332.79 1494.70 L1336.13 1494.47 L1339.35 1494.25 L1342.69 1494.02 L1345.91 1493.79 L1349.25 1493.56 L1352.46 1493.34 L1355.81 1493.00 L1359.02 1492.77 L1362.36 1492.54 L1365.58 1492.32 L1368.92 1492.09 L1372.26 1491.86 L1375.48 1491.64 L1378.82 1491.41 L1382.04 1491.18 L1385.38 1490.96 L1388.60 1490.73 L1391.94 1490.50 L1395.16 1490.28 L1398.50 1490.05 L1401.72 1489.82 L1405.06 1489.59 L1408.28 1489.37 L1411.62 1489.14 L1414.96 1488.91 L1418.18 1488.69 L1421.52 1488.46 L1424.73 1488.12 L1428.08 1487.89 L1431.29 1487.67 L1434.63 1487.44 L1437.85 1487.21 L1441.19 1486.99 L1444.41 1486.76 L1447.75 1486.53 L1450.97 1486.30 L1454.31 1486.08 L1457.65 1485.85 L1460.87 1485.62 L1464.21 1485.40 L1467.43 1485.17 L1470.77 1484.94 L1473.99 1484.72 L1477.33 1484.49 L1480.55 1484.26 L1483.89 1484.04 L1487.10 1483.81 L1490.45 1483.58 L1493.66 1483.24 L1497.00 1483.01 L1500.35 1482.79 L1503.56 1482.56 L1506.90 1482.33 L1510.12 1482.11 L1513.46 1481.88 L1516.68 1481.65 L1520.02 1481.43 L1523.24 1481.20 L1526.58 1480.97 L1529.80 1480.75 L1533.14 1480.52 L1536.36 1480.29 L1539.70 1480.07 L1543.04 1479.84 L1546.26 1479.61 L1549.60 1479.38 L1552.82 1479.16 L1556.16 1478.93 L1559.37 1478.70 L1562.72 1478.36 L1565.93 1478.14 L1569.27 1477.91 L1572.49 1477.68 L1575.83 1477.46 L1579.05 1477.23 L1582.39 1477.00 L1585.73 1476.78 L1588.95 1476.55 L1592.29 1476.32 L1595.51 1476.09 L1598.85 1475.87 L1602.07 1475.64 L1605.41 1475.41 L1608.63 1475.19 L1611.97 1474.96 L1615.19 1474.73 L1618.53 1474.51 L1621.87 1474.28 L1625.09 1474.05 L1628.43 1473.83 L1631.64 1473.49 L1634.99 1473.26 L1638.20 1473.03 L1641.54 1472.81 L1644.76 1472.58 L1648.10 1472.35 L1651.32 1472.12 L1654.66 1471.90 L1657.88 1471.67 L1661.22 1471.44 L1664.56 1471.22 L1667.78 1470.99 L1671.12 1470.76 L1674.34 1470.54 L1677.68 1470.31 L1680.90 1470.08 L1684.24 1469.86 L1687.46 1469.63 L1690.80 1469.40 L1694.01 1469.17 L1697.36 1468.95 L1700.57 1468.72 L1703.91 1468.38 L1707.26 1468.15 L1710.47 1467.93 L1713.81 1467.70 L1717.03 1467.47 L1720.37 1467.25 L1723.59 1467.02 L1726.93 1466.79 L1730.15 1466.57 L1733.49 1466.34 L1736.71 1466.11 L1740.05 1465.89 L1743.27 1465.66 L1746.61 1465.43 L1749.95 1465.20 L1753.17 1464.98 L1756.51 1464.75 L1759.73 1464.52 L1763.07 1464.30 L1766.28 1464.07 L1769.63 1463.84 L1772.84 1463.50 L1776.18 1463.28 L1779.40 1463.05 L1782.74 1462.82 L1785.96 1462.60 L1789.30 1462.37 L1792.64 1462.14 L1795.86 1461.91 L1799.20 1461.69 L1802.42 1461.46 L1805.76 1461.23 L1808.98 1461.01 L1812.32 1460.78 L1815.54 1460.55 L1818.88 1460.33 L1822.10 1460.10 L1825.44 1459.87 L1828.65 1459.65 L1832.00 1459.42 L1835.34 1459.19 L1838.55 1458.97 L1841.90 1458.62 L1845.11 1458.40 L1848.45 1458.17 L1851.67 1457.94 L1855.01 1457.72 L1858.23 1457.49 L1861.57 1457.26 L1864.79 1457.04 L1868.13 1456.81 L1871.47 1456.58 L1874.69 1456.36 L1878.03 1456.13 L1881.25 1455.90 L1884.59 1455.68 L1887.81 1455.45 L1891.15 1455.22 L1894.37 1454.99 L1897.71 1454.77 L1900.92 1454.54 L1904.27 1454.31 L1907.48 1454.09 L1910.82 1453.75 L1914.17 1453.52 L1917.38 1453.29 L1920.72 1453.07 L1923.94 1452.84 L1927.28 1452.61 L1930.50 1452.39 L1933.84 1452.16 L1937.06 1451.93 L1940.40 1451.71 L1943.62 1451.48 L1946.96 1451.25 L1950.18 1451.02 L1953.52 1450.80 L1956.86 1450.57 L1960.08 1450.34 L1963.42 1450.12 L1966.64 1449.89 L1969.98 1449.66 L1973.19 1449.44 L1976.54 1449.21 L1979.75 1448.87 L1983.09 1448.64 L1986.31 1448.42 L1989.65 1448.19 L1992.87 1447.96\" stroke-linejoin=\"round\" style=\"fill:none;stroke:#000000;stroke-width:7.20\"/>\n",
       "\t<path d=\" M1992.87 1803.83 L1996.21 1802.69 L1999.55 1801.56 L2002.77 1800.31 L2006.11 1799.17 L2009.33 1798.04 L2012.67 1796.79 L2015.89 1795.66 L2019.23 1794.52 L2022.45 1793.28 L2025.79 1792.14 L2029.01 1790.89 L2032.35 1789.76 L2035.56 1788.62 L2038.91 1787.38 L2042.25 1786.24 L2045.46 1785.11 L2048.80 1783.86 L2052.02 1782.73 L2055.36 1781.59 L2058.58 1780.34 L2061.92 1779.21 L2065.14 1778.07 L2068.48 1776.83 L2071.70 1775.69 L2075.04 1774.44 L2078.26 1773.31 L2081.60 1772.18 L2084.94 1770.93 L2088.16 1769.79 L2091.50 1768.66 L2094.72 1767.41 L2098.06 1766.28 L2101.28 1765.14 L2104.62 1763.89 L2107.83 1762.76 L2111.18 1761.63 L2114.39 1760.38 L2117.73 1759.24 L2121.07 1758.00 L2124.29 1756.86 L2127.63 1755.73 L2130.85 1754.48 L2134.19 1753.34 L2137.41 1752.21 L2140.75 1750.96 L2143.97 1749.83 L2147.31 1748.69 L2150.53 1747.45 L2153.87 1746.31 L2157.09 1745.18 L2160.43 1743.93 L2163.77 1742.79 L2166.99 1741.55 L2170.33 1740.41 L2173.55 1739.28 L2176.89 1738.03 L2180.10 1736.90 L2183.45 1735.76 L2186.66 1734.51 L2190.00 1733.38 L2193.22 1732.24 L2196.56 1731.00 L2199.78 1729.86 L2203.12 1728.73 L2206.46 1727.48 L2209.68 1726.35 L2213.02 1725.10 L2216.24 1723.96 L2219.58 1722.83 L2222.80 1721.58 L2226.14 1720.45 L2229.36 1719.31 L2232.70 1718.06 L2235.92 1716.93 L2239.26 1715.80 L2242.47 1714.55 L2245.82 1713.41 L2249.16 1712.28 L2252.37 1711.03 L2255.72 1709.90 L2258.93 1708.65 L2262.27 1707.51 L2265.49 1706.38 L2268.83 1705.13 L2272.05 1704.00 L2275.39 1702.86 L2278.61 1701.62 L2281.95 1700.48 L2285.17 1699.35 L2288.51 1698.10 L2291.85 1696.96 L2295.07 1695.83 L2298.41 1694.58 L2301.63 1693.45 L2304.97 1692.20 L2308.19 1691.07 L2311.53 1689.93 L2314.74 1688.68 L2318.09 1687.55 L2321.30 1686.41 L2324.64 1685.17 L2327.86 1684.03 L2331.20 1682.90 L2334.54 1681.65 L2337.76 1680.52 L2341.10 1679.38 L2344.32 1678.13 L2347.66 1677.00 L2350.88 1675.75 L2354.22 1674.62 L2357.44 1673.48 L2360.78 1672.23 L2364.00 1671.10 L2367.34 1669.97 L2370.68 1668.72 L2373.90 1667.58 L2377.24 1666.45 L2380.46 1665.20 L2383.80 1664.07 L2387.01 1662.93 L2390.36 1661.68 L2393.57 1660.55 L2396.91 1659.30 L2400.13 1658.17 L2403.47 1657.03 L2406.69 1655.79 L2410.03 1654.65 L2413.37 1653.52 L2416.59 1652.27 L2419.93 1651.13 L2423.15 1650.00 L2426.49 1648.75 L2429.71 1647.62 L2433.05 1646.48 L2436.27 1645.24 L2439.61 1644.10 L2442.82 1642.85 L2446.17 1641.72 L2449.38 1640.58 L2452.73 1639.34 L2456.07 1638.20 L2459.28 1637.07 L2462.63 1635.82 L2465.84 1634.69 L2469.18 1633.55 L2472.40 1632.30 L2475.74 1631.17 L2478.96 1630.03 L2482.30 1628.79 L2485.52 1627.65 L2488.86 1626.40 L2492.08 1625.27 L2495.42 1624.14 L2498.76 1622.89 L2501.98 1621.75 L2505.32 1620.62 L2508.54 1619.37 L2511.88 1618.24 L2515.09 1617.10 L2518.44 1615.85 L2521.65 1614.72 L2525.00 1613.59 L2528.21 1612.34 L2531.55 1611.20 L2534.77 1609.96 L2538.11 1608.82 L2541.45 1607.69 L2544.67 1606.44 L2548.01 1605.30 L2551.23 1604.17 L2554.57 1602.92 L2557.79 1601.79 L2561.13 1600.65 L2564.35 1599.41 L2567.69 1598.27 L2570.91 1597.14 L2574.25 1595.89 L2577.47 1594.75 L2580.81 1593.51 L2584.15 1592.37 L2587.36 1591.24 L2590.71 1589.99 L2593.92 1588.86 L2597.27 1587.72 L2600.48 1586.47 L2603.82 1585.34 L2607.04 1584.20 L2610.38 1582.96 L2613.60 1581.82 L2616.94 1580.69 L2620.28 1579.44 L2623.50 1578.31 L2626.84 1577.06 L2630.06 1575.92 L2633.40 1574.79 L2636.62 1573.54 L2639.96 1572.41 L2643.18 1571.27 L2646.52 1570.02 L2649.74 1568.89 L2653.08 1567.76 L2656.29 1566.51 L2659.64 1565.37 L2662.98 1564.13 L2666.19 1562.99 L2669.54 1561.86 L2672.75 1560.61 L2676.09 1559.47 L2679.31 1558.34 L2682.65 1557.09 L2685.87 1555.96 L2689.21 1554.82 L2692.43 1553.58 L2695.77 1552.44 L2698.99 1551.31 L2702.33 1550.06 L2705.67 1548.92 L2708.89 1547.68 L2712.23 1546.54 L2715.45 1545.41 L2718.79 1544.16 L2722.01 1543.03 L2725.35 1541.89 L2728.56 1540.64 L2731.91 1539.51 L2735.12 1538.37 L2738.46 1537.13 L2741.68 1535.99 L2745.02 1534.86 L2748.36 1533.61 L2751.58 1532.48 L2754.92 1531.23 L2758.14 1530.09 L2761.48 1528.96 L2764.70 1527.71 L2768.04 1526.58 L2771.26 1525.44 L2774.60 1524.19 L2777.82 1523.06 L2781.16 1521.93 L2784.38 1520.68 L2787.72 1519.54 L2791.06 1518.41 L2794.28 1517.16 L2797.62 1516.03 L2800.83 1514.78 L2804.18 1513.64 L2807.39 1512.51 L2810.73 1511.26 L2813.95 1510.13 L2817.29 1508.99 L2820.51 1507.74 L2823.85 1506.61 L2827.07 1505.48 L2830.41 1504.23 L2833.75 1503.09 L2836.97 1501.96 L2840.31 1500.71 L2843.53 1499.58 L2846.87 1498.33 L2850.09 1497.19 L2853.43 1496.06 L2856.65 1494.81 L2859.99 1493.68 L2863.20 1492.54 L2866.55 1491.30 L2869.89 1490.16 L2873.10 1489.03 L2876.45 1487.78 L2879.66 1486.64 L2883.00 1485.51 L2886.22 1484.26 L2889.56 1483.13 L2892.78 1481.88 L2896.12 1480.75 L2899.34 1479.61 L2902.68 1478.36 L2905.90 1477.23 L2909.24 1476.09 L2912.58 1474.85 L2915.80 1473.71 L2919.14 1472.58 L2922.36 1471.33 L2925.70 1470.20 L2928.92 1469.06 L2932.26 1467.81 L2935.47 1466.68 L2938.82 1465.43 L2942.03 1464.30 L2945.37 1463.16 L2948.59 1461.91 L2951.93 1460.78 L2955.27 1459.65 L2958.49 1458.40 L2961.83 1457.26 L2965.05 1456.13 L2968.39 1454.88 L2971.61 1453.75 L2974.95 1452.61 L2978.17 1451.36 L2981.51 1450.23 L2984.73 1448.98 L2988.07 1447.85 L2991.29 1446.71 L2994.63 1445.47 L2997.97 1444.33 L3001.19 1443.20 L3004.53 1441.95 L3007.74 1440.81 L3011.09 1439.68 L3014.30 1438.43 L3017.64 1437.30 L3020.86 1436.16 L3024.20 1434.92 L3027.42 1433.78 L3030.76 1432.53 L3033.98 1431.40 L3037.32 1430.26 L3040.66 1429.02 L3043.88 1427.88 L3047.22 1426.75 L3050.44 1425.50 L3053.78 1424.37 L3057.00 1423.23 L3060.34 1421.98 L3063.56 1420.85 L3066.90 1419.71 L3070.11 1418.47 L3073.46 1417.33 L3076.80 1416.08 L3080.01 1414.95 L3083.36 1413.82 L3086.57 1412.57 L3089.91 1411.43 L3093.13 1410.30 L3096.47 1409.05 L3099.69 1407.92 L3103.03 1406.78 L3106.25 1405.53 L3109.59 1404.40 L3112.81 1403.27 L3116.15 1402.02 L3119.49 1400.88 L3122.71 1399.64 L3126.05 1398.50 L3129.27 1397.37 L3132.61 1396.12 L3135.83 1394.98 L3139.17 1393.85 L3142.38 1392.60 L3145.73 1391.47 L3148.94 1390.33 L3152.28 1389.09 L3155.50 1387.95 L3158.84 1386.82 L3162.18 1385.57 L3165.40 1384.43 L3168.74 1383.19 L3171.96 1382.05 L3175.30 1380.92 L3178.52 1379.67 L3181.86 1378.54 L3185.08 1377.40 L3188.42 1376.15 L3191.64 1375.02 L3194.98 1373.88 L3198.20 1372.64 L3201.54 1371.50 L3204.88 1370.37 L3208.10 1369.12 L3211.44 1367.99 L3214.65 1366.74 L3218.00 1365.60 L3221.21 1364.47 L3224.55 1363.22 L3227.77 1362.09 L3231.11 1360.95 L3234.33 1359.70 L3237.67 1358.57 L3240.89 1357.44 L3244.23 1356.19 L3247.57 1355.05 L3250.79 1353.92 L3254.13 1352.67 L3257.35 1351.54 L3260.69 1350.29 L3263.91 1349.15 L3267.25 1348.02 L3270.47 1346.77 L3273.81 1345.64 L3277.02 1344.50 L3280.37 1343.26 L3283.58 1342.12 L3286.92 1340.99 L3290.27 1339.74 L3293.48 1338.60 L3296.82 1337.47 L3300.04 1336.22 L3303.38 1335.09 L3306.60 1333.84 L3309.94 1332.71 L3313.16 1331.57 L3316.50 1330.32 L3319.72 1329.19 L3323.06 1328.05 L3326.40 1326.81 L3329.62 1325.67 L3332.96 1324.54 L3336.18 1323.29 L3339.52 1322.16 L3342.74 1321.02 L3346.08 1319.77 L3349.29 1318.64 L3352.64 1317.39 L3355.85 1316.26 L3359.19 1315.12 L3362.41 1313.87 L3365.75 1312.74 L3369.09 1311.61 L3372.31 1310.36 L3375.65 1309.22 L3378.87 1308.09 L3382.21 1306.84 L3385.43 1305.71 L3388.77 1304.46 L3391.99 1303.32 L3395.33 1302.19 L3398.55 1300.94 L3401.89 1299.81 L3405.11 1298.67 L3408.45 1297.43 L3411.79 1296.29 L3415.01 1295.16 L3418.35 1293.91 L3421.56 1292.77 L3424.91 1291.64 L3428.12 1290.39 L3431.46 1289.26 L3434.68 1288.01 L3438.02 1286.88 L3441.24 1285.74 L3444.58 1284.49 L3447.80 1283.36 L3451.14 1282.22 L3454.48 1280.98 L3457.70 1279.84 L3461.04 1278.71 L3464.26 1277.46 L3467.60 1276.33 L3470.82 1275.19 L3474.16 1273.94 L3477.38 1272.81 L3480.72 1271.56 L3483.93 1270.43 L3487.28 1269.29 L3490.49 1268.04 L3493.83 1266.91 L3497.18 1265.78 L3500.39 1264.53 L3503.73 1263.39 L3506.95 1262.26 L3510.29 1261.01 L3513.51 1259.88 L3516.85 1258.74 L3520.07 1257.49 L3523.41 1256.36 L3526.63 1255.11 L3529.97 1253.98 L3533.19 1252.84 L3536.53 1251.60 L3539.87 1250.46 L3543.09 1249.33 L3546.43 1248.08 L3549.65 1246.94 L3552.99 1245.81 L3556.20 1244.56 L3559.55 1243.43 L3562.76 1242.29 L3566.10 1241.05 L3569.32 1239.91 L3572.66 1238.66 L3576.00 1237.53 L3579.22 1236.39 L3582.56 1235.15 L3585.78 1234.01 L3589.12 1232.88 L3592.34 1231.63 L3595.68 1230.50 L3598.90 1229.36 L3602.24 1228.11 L3605.46 1226.98 L3608.80 1225.84 L3612.02 1224.60 L3615.36 1223.46 L3618.70 1222.21 L3621.92 1221.08 L3625.26 1219.94 L3628.47 1218.70 L3631.82 1217.56\" stroke-linejoin=\"round\" style=\"fill:none;stroke:#000000;stroke-width:7.20\"/>\n",
       "\t<line x1=\"290.81\" y1=\"2139.16\" x2=\"290.81\" y2=\"252.41\" style=\"stroke:#000000;stroke-width:5.76\"/>\n",
       "\t<line x1=\"290.81\" y1=\"2081.19\" x2=\"250.84\" y2=\"2081.19\" style=\"stroke:#000000;stroke-width:5.76\"/>\n",
       "\t<text x=\"200.73\" y=\"2081.19\" style=\"font-family:'Helvetica';font-size:99.99px;fill:#000000\" transform=\"rotate(-90 200.73,2081.19)\" text-anchor=\"middle\">5000</text>\n",
       "\t<line x1=\"290.81\" y1=\"1638.43\" x2=\"250.84\" y2=\"1638.43\" style=\"stroke:#000000;stroke-width:5.76\"/>\n",
       "\t<text x=\"200.73\" y=\"1638.43\" style=\"font-family:'Helvetica';font-size:99.99px;fill:#000000\" transform=\"rotate(-90 200.73,1638.43)\" text-anchor=\"middle\">10000</text>\n",
       "\t<line x1=\"290.81\" y1=\"1195.78\" x2=\"250.84\" y2=\"1195.78\" style=\"stroke:#000000;stroke-width:5.76\"/>\n",
       "\t<text x=\"200.73\" y=\"1195.78\" style=\"font-family:'Helvetica';font-size:99.99px;fill:#000000\" transform=\"rotate(-90 200.73,1195.78)\" text-anchor=\"middle\">15000</text>\n",
       "\t<line x1=\"290.81\" y1=\"753.14\" x2=\"250.84\" y2=\"753.14\" style=\"stroke:#000000;stroke-width:5.76\"/>\n",
       "\t<text x=\"200.73\" y=\"753.14\" style=\"font-family:'Helvetica';font-size:99.99px;fill:#000000\" transform=\"rotate(-90 200.73,753.14)\" text-anchor=\"middle\">20000</text>\n",
       "\t<line x1=\"290.81\" y1=\"310.49\" x2=\"250.84\" y2=\"310.49\" style=\"stroke:#000000;stroke-width:5.76\"/>\n",
       "\t<text x=\"200.73\" y=\"310.49\" style=\"font-family:'Helvetica';font-size:99.99px;fill:#000000\" transform=\"rotate(-90 200.73,310.49)\" text-anchor=\"middle\">25000</text>\n",
       "\t<line x1=\"290.81\" y1=\"2139.16\" x2=\"3859.02\" y2=\"2139.16\" style=\"stroke:#000000;stroke-width:5.76\"/>\n",
       "\t<line x1=\"518.02\" y1=\"2139.16\" x2=\"518.02\" y2=\"2175.91\" style=\"stroke:#000000;stroke-width:5.76\"/>\n",
       "\t<text x=\"518.02\" y=\"2258.28\" style=\"font-family:'Helvetica';font-size:99.99px;fill:#000000\" text-anchor=\"middle\">2200</text>\n",
       "\t<line x1=\"1173.52\" y1=\"2139.16\" x2=\"1173.52\" y2=\"2175.91\" style=\"stroke:#000000;stroke-width:5.76\"/>\n",
       "\t<text x=\"1173.52\" y=\"2258.28\" style=\"font-family:'Helvetica';font-size:99.99px;fill:#000000\" text-anchor=\"middle\">2400</text>\n",
       "\t<line x1=\"1829.15\" y1=\"2139.16\" x2=\"1829.15\" y2=\"2175.91\" style=\"stroke:#000000;stroke-width:5.76\"/>\n",
       "\t<text x=\"1829.15\" y=\"2258.28\" style=\"font-family:'Helvetica';font-size:99.99px;fill:#000000\" text-anchor=\"middle\">2600</text>\n",
       "\t<line x1=\"2484.65\" y1=\"2139.16\" x2=\"2484.65\" y2=\"2175.91\" style=\"stroke:#000000;stroke-width:5.76\"/>\n",
       "\t<text x=\"2484.65\" y=\"2258.28\" style=\"font-family:'Helvetica';font-size:99.99px;fill:#000000\" text-anchor=\"middle\">2800</text>\n",
       "\t<line x1=\"3140.16\" y1=\"2139.16\" x2=\"3140.16\" y2=\"2175.91\" style=\"stroke:#000000;stroke-width:5.76\"/>\n",
       "\t<text x=\"3140.16\" y=\"2258.28\" style=\"font-family:'Helvetica';font-size:99.99px;fill:#000000\" text-anchor=\"middle\">3000</text>\n",
       "\t<line x1=\"3795.66\" y1=\"2139.16\" x2=\"3795.66\" y2=\"2175.91\" style=\"stroke:#000000;stroke-width:5.76\"/>\n",
       "\t<text x=\"3795.66\" y=\"2258.28\" style=\"font-family:'Helvetica';font-size:99.99px;fill:#000000\" text-anchor=\"middle\">3200</text>\n",
       "\t<rect x=\"554.03\" y=\"2345.05\" width=\"3041.78\" height=\"170.84\" style=\"fill:#FFFFFF\"/>\n",
       "\t<rect x=\"556.91\" y=\"2347.93\" width=\"3036.02\" height=\"165.08\" style=\"fill:none;stroke:#000000;stroke-width:5.76\"/>\n",
       "\t<circle cx=\"612.19\" cy=\"2430.47\" r=\"19.29\" style=\"fill:#A0A0A0\"/>\n",
       "\t<circle cx=\"612.19\" cy=\"2430.47\" r=\"14.97\" style=\"fill:none;stroke:#A0A0A0;stroke-width:8.64\"/>\n",
       "\t<line x1=\"2027.27\" y1=\"2430.47\" x2=\"2401.74\" y2=\"2430.47\" style=\"stroke:#000000;stroke-width:7.20\"/>\n",
       "\t<text x=\"687.18\" y=\"2462.58\" style=\"font-family:'Helvetica';font-size:99.99px;fill:#000000\">Sample average within bin</text>\n",
       "\t<text x=\"2461.76\" y=\"2462.58\" style=\"font-family:'Helvetica';font-size:99.99px;fill:#000000\">Polynomial fit of order 1</text>\n",
       "\t<text x=\"2074.92\" y=\"197.98\" style=\"font-family:'Helvetica';font-size:139.96px;fill:#000000\" text-anchor=\"middle\">Regression function fit</text>\n",
       "</svg>"
      ],
      "text/plain": [
       "<IPython.core.display.SVG object>"
      ]
     },
     "metadata": {},
     "output_type": "display_data"
    }
   ],
   "source": [
    "%%stata\n",
    "rdplot esum18i bfyrearn if $window, c(2650) p(1)"
   ]
  },
  {
   "cell_type": "markdown",
   "id": "3516ef12",
   "metadata": {},
   "source": [
    "## Q14 - Estimate Regression Discontinuity with OLS"
   ]
  },
  {
   "cell_type": "code",
   "execution_count": 115,
   "id": "023ddbf2",
   "metadata": {},
   "outputs": [
    {
     "name": "stdout",
     "output_type": "stream",
     "text": [
      "\n",
      ". regress esum18i rdtreat bfyrearn ///\n",
      ">     if treatment==0 ///\n",
      ">       , robust\n",
      "\n",
      "Linear regression                               Number of obs     =      2,327\n",
      "                                                F(2, 2324)        =      83.39\n",
      "                                                Prob > F          =     0.0000\n",
      "                                                R-squared         =     0.0812\n",
      "                                                Root MSE          =     9255.1\n",
      "\n",
      "------------------------------------------------------------------------------\n",
      "             |               Robust\n",
      "     esum18i | Coefficient  std. err.      t    P>|t|     [95% conf. interval]\n",
      "-------------+----------------------------------------------------------------\n",
      "     rdtreat |  -841.5807   552.1034    -1.52   0.128    -1924.247     241.086\n",
      "    bfyrearn |   .6071539   .0794927     7.64   0.000     .4512699    .7630379\n",
      "       _cons |   10367.64   564.2854    18.37   0.000      9261.09     11474.2\n",
      "------------------------------------------------------------------------------\n",
      "\n",
      ". eststo rdAllData\n",
      "\n",
      ". \n"
     ]
    }
   ],
   "source": [
    "%%stata\n",
    "/* RD with all data */\n",
    "regress esum18i rdtreat bfyrearn ///\n",
    "    if treatment==0 ///\n",
    "      , robust\n",
    "eststo rdAllData"
   ]
  },
  {
   "cell_type": "code",
   "execution_count": 117,
   "id": "e2ec3a98",
   "metadata": {},
   "outputs": [
    {
     "name": "stdout",
     "output_type": "stream",
     "text": [
      "\n",
      ". regress esum18i rdtreat bfyrearn ///\n",
      ">     if treatment==0 & ///\n",
      ">        $window, robust\n",
      "\n",
      "Linear regression                               Number of obs     =        290\n",
      "                                                F(2, 287)         =       5.65\n",
      "                                                Prob > F          =     0.0039\n",
      "                                                R-squared         =     0.0304\n",
      "                                                Root MSE          =     8196.3\n",
      "\n",
      "------------------------------------------------------------------------------\n",
      "             |               Robust\n",
      "     esum18i | Coefficient  std. err.      t    P>|t|     [95% conf. interval]\n",
      "-------------+----------------------------------------------------------------\n",
      "     rdtreat |   6731.868   2010.445     3.35   0.001      2774.78    10688.96\n",
      "    bfyrearn |   10.97316   3.871118     2.83   0.005     3.353775    18.59254\n",
      "       _cons |  -21098.81   11198.91    -1.88   0.061    -43141.22    943.5969\n",
      "------------------------------------------------------------------------------\n",
      "\n",
      ". eststo rdWindow\n",
      "\n",
      ". \n"
     ]
    }
   ],
   "source": [
    "%%stata\n",
    "/* RD with -/+500 window */\n",
    "regress esum18i rdtreat bfyrearn ///\n",
    "    if treatment==0 & ///\n",
    "       $window, robust\n",
    "eststo rdWindow"
   ]
  },
  {
   "cell_type": "code",
   "execution_count": 131,
   "id": "061660cd",
   "metadata": {},
   "outputs": [
    {
     "name": "stdout",
     "output_type": "stream",
     "text": [
      "\n",
      ". esttab rdAllData rdWindow, ///\n",
      ">     ar2 se obslast ///\n",
      ">     mtitles(\"All Data\" \"Window\")\n",
      "\n",
      "--------------------------------------------\n",
      "                      (1)             (2)   \n",
      "                 All Data          Window   \n",
      "--------------------------------------------\n",
      "rdtreat            -841.6          6731.9***\n",
      "                  (552.1)        (2010.4)   \n",
      "\n",
      "bfyrearn            0.607***        10.97** \n",
      "                 (0.0795)         (3.871)   \n",
      "\n",
      "_cons             10367.6***     -21098.8   \n",
      "                  (564.3)       (11198.9)   \n",
      "--------------------------------------------\n",
      "adj. R-sq           0.080           0.024   \n",
      "N                    2327             290   \n",
      "--------------------------------------------\n",
      "Standard errors in parentheses\n",
      "* p<0.05, ** p<0.01, *** p<0.001\n",
      "\n",
      ". \n"
     ]
    }
   ],
   "source": [
    "%%stata\n",
    "esttab rdAllData rdWindow, ///\n",
    "    ar2 se obslast ///\n",
    "    mtitles(\"All Data\" \"Window\")"
   ]
  },
  {
   "cell_type": "code",
   "execution_count": null,
   "id": "76aef0ee",
   "metadata": {},
   "outputs": [],
   "source": []
  }
 ],
 "metadata": {
  "kernelspec": {
   "display_name": "Python 3",
   "language": "python",
   "name": "python3"
  },
  "language_info": {
   "codemirror_mode": {
    "name": "ipython",
    "version": 3
   },
   "file_extension": ".py",
   "mimetype": "text/x-python",
   "name": "python",
   "nbconvert_exporter": "python",
   "pygments_lexer": "ipython3",
   "version": "3.8.1"
  }
 },
 "nbformat": 4,
 "nbformat_minor": 5
}
