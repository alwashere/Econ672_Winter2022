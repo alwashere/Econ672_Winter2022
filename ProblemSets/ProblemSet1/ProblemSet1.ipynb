{
 "cells": [
  {
   "cell_type": "markdown",
   "id": "66d1a4d4",
   "metadata": {},
   "source": [
    "# Problem Set 1 "
   ]
  },
  {
   "cell_type": "code",
   "execution_count": 1,
   "id": "73d52ec0",
   "metadata": {},
   "outputs": [],
   "source": [
    "%%capture\n",
    "# Capture suppresses output to screen\n",
    "import stata_setup\n",
    "stata_setup.config(\"/Applications/Stata 17\", \"be\")"
   ]
  },
  {
   "cell_type": "code",
   "execution_count": 2,
   "id": "e4b5c8cb",
   "metadata": {},
   "outputs": [
    {
     "name": "stdout",
     "output_type": "stream",
     "text": [
      "\n",
      ". /* Define paths for data and output */\n",
      ". global data \"Data\"\n",
      "\n",
      ". global output \"Output\"\n",
      "\n",
      ". \n"
     ]
    }
   ],
   "source": [
    "%%stata\n",
    "/* Define paths for data and output */\n",
    "global data \"Data\"\n",
    "global output \"Output\""
   ]
  },
  {
   "cell_type": "code",
   "execution_count": 3,
   "id": "36e762f9",
   "metadata": {},
   "outputs": [],
   "source": [
    "%%capture\n",
    "%%stata\n",
    "log using \"$output/pd1.log\", replace"
   ]
  },
  {
   "cell_type": "markdown",
   "id": "3035893d",
   "metadata": {},
   "source": [
    "## Start Data Prep"
   ]
  },
  {
   "cell_type": "code",
   "execution_count": 161,
   "id": "1b1e51b1",
   "metadata": {},
   "outputs": [
    {
     "name": "stdout",
     "output_type": "stream",
     "text": [
      "\n",
      ". use \"$data/persico2004.dta\", clear\n",
      "\n",
      ". describe\n",
      "\n",
      "Contains data from Data/persico2004.dta\n",
      " Observations:        12,686                  \n",
      "    Variables:            50                  31 Dec 2018 19:16\n",
      "-------------------------------------------------------------------------------\n",
      "Variable      Storage   Display    Value\n",
      "    name         type    format    label      Variable label\n",
      "-------------------------------------------------------------------------------\n",
      "VERSION_R2~2014 float   %9.0g                 VERSION_R26_1 2014\n",
      "CASEID_1979     float   %9.0g                 ID# (1-12686) 79\n",
      "FAM_1B_1979     float   %9.0g      vlR0000600\n",
      "                                              AGE OF R 79\n",
      "HGC_MOTHER_1979 float   %18.0g     vlR0006500\n",
      "                                              HGC BY RS MOTHER 79\n",
      "FAMOCC_19_1979  float   %32.0g     vlR0006900\n",
      "                                              OCC OF LNGST JOB 78 STEP/MOTHERS\n",
      "                                                3D 79\n",
      "HGC_FATHER_1979 float   %18.0g     vlR0007900\n",
      "                                              HGC BY RS FATHER 79\n",
      "FAMOCC_26_1979  float   %32.0g     vlR0008300\n",
      "                                              OCC OF LNGST JOB 78 STEP/FATHERS\n",
      "                                                3D 79\n",
      "FAM_28A_1979    float   %9.0g      vlR0009100\n",
      "                                              # OF SIBS 79\n",
      "Q3_4_1979       float   %18.0g     vlR0017300\n",
      "                                              HGC 79\n",
      "Q11_4_1979      float   %9.0g      vlR0144900\n",
      "                                              DOES HLTH LIMIT KIND WRK R CAN DO\n",
      "                                                79\n",
      "Q11_5_1979      float   %9.0g      vlR0145000\n",
      "                                              DOES HLTH LIMIT AMT WRK R CAN DO\n",
      "                                                79\n",
      "Q13_5_1979      float   %9.0g      vlR0155400\n",
      "                                              TOT INC WAGES AND SALRY P-C YR 79\n",
      "SAMPLE_ID_1979  float   %21.0g     vlR0173600\n",
      "                                              SAMPLE ID 79 INT\n",
      "SAMPLE_RACE_7~N float   %23.0g     vlR0214700\n",
      "                                              RACL/ETHNIC COHORT /SCRNR 79\n",
      "SAMPLE_SEX_1979 float   %9.0g      vlR0214800\n",
      "                                              SEX OF R 79\n",
      "HRSWK_PCY_1979  float   %9.0g      vlR0215710\n",
      "                                              # OF HRS WRKD IN P-C YR 79\n",
      "MARSTAT_KE~1979 float   %13.0g     vlR0217501\n",
      "                                              MARITAL STATUS 79\n",
      "MARSTAT_KE~1980 float   %13.0g     vlR0405601\n",
      "                                              MARITAL STATUS 80\n",
      "Q3_4_1981       float   %18.0g     vlR0417400\n",
      "                                              HGC 81\n",
      "HEALTH_HEI~1981 float   %9.0g      vlR0481600\n",
      "                                              HEIGHT OF R 81\n",
      "Q11_9_1981      float   %9.0g      vlR0481700\n",
      "                                              WEIGHT OF R 81\n",
      "MARSTAT_KE~1981 float   %13.0g     vlR0618601\n",
      "                                              MARITAL STATUS 81\n",
      "HRSWK_PCY_1981  float   %9.0g      vlR0646600\n",
      "                                              # OF HRS WRKD IN P-C YR 81\n",
      "Q13_5_TRUN~1982 float   %9.0g      vlR0782101\n",
      "                                              TOT INC WAGES AND SALRY P-C YR 82\n",
      "                                                (TRUNC)\n",
      "MARSTAT_KE~1982 float   %13.0g     vlR0898401\n",
      "                                              MARITAL STATUS 82\n",
      "MARSTAT_KE~1983 float   %13.0g     vlR1144901\n",
      "                                              MARITAL STATUS 83\n",
      "MARSTAT_KE~1984 float   %13.0g     vlR1520101\n",
      "                                              MARITAL STATUS 84\n",
      "Q3_4_1985       float   %18.0g     vlR1605100\n",
      "                                              HGC 85\n",
      "HEALTH_HEI~1985 float   %9.0g      vlR1773900\n",
      "                                              HEIGHT OF R 85\n",
      "Q11_9_1985      float   %9.0g      vlR1774000\n",
      "                                              WEIGHT OF R 85\n",
      "Q13_5_TRUN~1985 float   %9.0g      vlR1778501\n",
      "                                              TOT INC WAGES AND SALRY P-C YR 85\n",
      "                                                (TRUNC)\n",
      "MARSTAT_KE~1985 float   %13.0g     vlR1890801\n",
      "                                              MARITAL STATUS 85\n",
      "MARSTAT_KE~1986 float   %13.0g     vlR2257901\n",
      "                                              MARITAL STATUS 86\n",
      "HRSWK_PCY_1986  float   %9.0g      vlR2258200\n",
      "                                              # OF HRS WRKD IN P-C YR 86\n",
      "MARSTAT_KE~1987 float   %13.0g     vlR2445301\n",
      "                                              MARITAL STATUS 87\n",
      "MARSTAT_KE~1988 float   %13.0g     vlR2871000\n",
      "                                              MARITAL STATUS 88\n",
      "MARSTAT_KE~1989 float   %13.0g     vlR3074700\n",
      "                                              MARITAL STATUS 89\n",
      "MARSTAT_KE~1990 float   %13.0g     vlR3401400\n",
      "                                              MARITAL STATUS 90\n",
      "MARSTAT_KE~1991 float   %13.0g     vlR3656800\n",
      "                                              MARITAL STATUS 91\n",
      "MARSTAT_KE~1992 float   %13.0g     vlR4007300\n",
      "                                              MARITAL STATUS 92\n",
      "SIBROS_TOT~1993 float   %9.0g      vlR4134500\n",
      "                                              TOTAL # OF SIBLINGS R HAS 93\n",
      "MARSTAT_KE~1993 float   %13.0g     vlR4418400\n",
      "                                              MARITAL STATUS 93\n",
      "MARSTAT_KE~1994 float   %19.0g     vlR5081400\n",
      "                                              MARITAL STATUS 94\n",
      "MARSTAT_KE~1996 float   %16.0g     vlR5166700\n",
      "                                              MARITAL STATUS 96\n",
      "HRSWK_PCY_1996  float   %9.0g      vlR5167100\n",
      "                                              HRS WRKD IN PAST CAL YR 96\n",
      "Q3_4_1996       float   %24.0g     vlR5221800\n",
      "                                              HGHST GRADE/YR COMPLTD & GOT\n",
      "                                                CREDIT 96\n",
      "Q11_9_1996      float   %9.0g      vlR5617500\n",
      "                                              HOW MUCH DOES R WEIGH 96\n",
      "Q13_5_TRUN~1996 float   %9.0g      vlR5626201\n",
      "                                              AMT OF R'S WAGES/SALARY/TIPS\n",
      "                                                (PCY) 96\n",
      "MARSTAT_KE~1998 float   %13.0g     vlR6479300\n",
      "                                              MARITAL STATUS 1998\n",
      "MARSTAT_KE~2000 float   %13.0g     vlR7007000\n",
      "                                              MARITAL STATUS 2000\n",
      "-------------------------------------------------------------------------------\n",
      "Sorted by: \n",
      "\n",
      ". \n"
     ]
    }
   ],
   "source": [
    "%%stata\n",
    "use \"$data/persico2004.dta\", clear\n",
    "describe"
   ]
  },
  {
   "cell_type": "markdown",
   "id": "1f2064f2",
   "metadata": {},
   "source": [
    "Examine the gender breakdown in the original 1979 sample."
   ]
  },
  {
   "cell_type": "code",
   "execution_count": 162,
   "id": "dd3dcd91",
   "metadata": {},
   "outputs": [
    {
     "name": "stdout",
     "output_type": "stream",
     "text": [
      "\n",
      "SEX OF R 79 |      Freq.     Percent        Cum.\n",
      "------------+-----------------------------------\n",
      "       MALE |      6,403       50.47       50.47\n",
      "     FEMALE |      6,283       49.53      100.00\n",
      "------------+-----------------------------------\n",
      "      Total |     12,686      100.00\n"
     ]
    }
   ],
   "source": [
    "%%stata\n",
    "tab SAMPLE_SEX_1979"
   ]
  },
  {
   "cell_type": "markdown",
   "id": "a793d6ba",
   "metadata": {},
   "source": [
    "Restrict the data to white males not in the poor supplemental group."
   ]
  },
  {
   "cell_type": "code",
   "execution_count": 163,
   "id": "84ebc7f2",
   "metadata": {},
   "outputs": [
    {
     "name": "stdout",
     "output_type": "stream",
     "text": [
      "\n",
      "-------------------------------------------------------------------------------\n",
      "SAMPLE_RACE_78SCRN                                 RACL/ETHNIC COHORT /SCRNR 79\n",
      "-------------------------------------------------------------------------------\n",
      "\n",
      "                  Type: Numeric (float)\n",
      "                 Label: vlR0214700\n",
      "\n",
      "                 Range: [1,3]                         Units: 1\n",
      "         Unique values: 3                         Missing .: 0/12,686\n",
      "\n",
      "            Tabulation: Freq.   Numeric  Label\n",
      "                        2,002         1  HISPANIC\n",
      "                        3,174         2  BLACK\n",
      "                        7,510         3  NON-BLACK, NON-HISPANIC\n",
      "\n",
      "-------------------------------------------------------------------------------\n",
      "SAMPLE_SEX_1979                                                     SEX OF R 79\n",
      "-------------------------------------------------------------------------------\n",
      "\n",
      "                  Type: Numeric (float)\n",
      "                 Label: vlR0214800\n",
      "\n",
      "                 Range: [1,2]                         Units: 1\n",
      "         Unique values: 2                         Missing .: 0/12,686\n",
      "\n",
      "            Tabulation: Freq.   Numeric  Label\n",
      "                        6,403         1  MALE\n",
      "                        6,283         2  FEMALE\n",
      "\n",
      "-------------------------------------------------------------------------------\n",
      "SAMPLE_ID_1979                                                SAMPLE ID  79 INT\n",
      "-------------------------------------------------------------------------------\n",
      "\n",
      "                  Type: Numeric (float)\n",
      "                 Label: vlR0173600\n",
      "\n",
      "                 Range: [1,20]                        Units: 1\n",
      "         Unique values: 20                        Missing .: 0/12,686\n",
      "\n",
      "              Examples: 3     CROSS MALE BLACK\n",
      "                        5     CROSS FEMALE WHITE\n",
      "                        10    SUP MALE BLACK\n",
      "                        13    SUP FEMALE BLACK\n"
     ]
    }
   ],
   "source": [
    "%%stata\n",
    "codebook SAMPLE_RACE_78SCRN SAMPLE_SEX_1979 SAMPLE_ID_1979"
   ]
  },
  {
   "cell_type": "code",
   "execution_count": 164,
   "id": "1071eb20",
   "metadata": {},
   "outputs": [
    {
     "name": "stdout",
     "output_type": "stream",
     "text": [
      "vlR0173600:\n",
      "           1 CROSS MALE WHITE\n",
      "           2 CROSS MALE WH. POOR\n",
      "           3 CROSS MALE BLACK\n",
      "           4 CROSS MALE HISPANIC\n",
      "           5 CROSS FEMALE WHITE\n",
      "           6 CROSS FEMALE WH POOR\n",
      "           7 CROSS FEMALE BLACK\n",
      "           8 CROSS FEMALE HISPANIC\n",
      "           9 SUP MALE WH POOR\n",
      "          10 SUP MALE BLACK\n",
      "          11 SUP MALE HISPANIC\n",
      "          12 SUP FEM WH POOR\n",
      "          13 SUP FEMALE BLACK\n",
      "          14 SUP FEMALE HISPANIC\n",
      "          15 MIL MALE WHITE\n",
      "          16 MIL MALE BLACK\n",
      "          17 MIL MALE HISPANIC\n",
      "          18 MIL FEMALE WHITE\n",
      "          19 MIL FEMALE BLACK\n",
      "          20 MIL FEMALE HISPANIC\n"
     ]
    }
   ],
   "source": [
    "%%stata\n",
    "label list vlR0173600"
   ]
  },
  {
   "cell_type": "markdown",
   "id": "54d76dc4",
   "metadata": {},
   "source": [
    "White, non-Hispanic respondents are coded as 3 in SAMPLE_RACE_78SCRN field.  \n",
    "Male respondents are coded as 1 in the SAMPLE_SEX_1979 field.  \n",
    "Poor white males are coded as 9 in the SAMPLE_ID_1979 field."
   ]
  },
  {
   "cell_type": "code",
   "execution_count": 165,
   "id": "a691a7e5",
   "metadata": {},
   "outputs": [
    {
     "name": "stdout",
     "output_type": "stream",
     "text": [
      "(9,638 observations deleted)\n"
     ]
    }
   ],
   "source": [
    "%%stata\n",
    "keep if SAMPLE_RACE_78SCRN==3 & SAMPLE_SEX_1979==1 & SAMPLE_ID_1979 != 9"
   ]
  },
  {
   "cell_type": "code",
   "execution_count": 166,
   "id": "9957d63b",
   "metadata": {},
   "outputs": [
    {
     "name": "stdout",
     "output_type": "stream",
     "text": [
      "  3,048\n"
     ]
    }
   ],
   "source": [
    "%%stata\n",
    "count"
   ]
  },
  {
   "cell_type": "markdown",
   "id": "c064d411",
   "metadata": {},
   "source": [
    "3,048 Observations remaining which matches the Persico, Postlewaite, and Silverman (2004) dataset."
   ]
  },
  {
   "cell_type": "markdown",
   "id": "5c0edb57",
   "metadata": {},
   "source": [
    "Generate height81"
   ]
  },
  {
   "cell_type": "code",
   "execution_count": 167,
   "id": "5149fed9",
   "metadata": {},
   "outputs": [
    {
     "name": "stdout",
     "output_type": "stream",
     "text": [
      "\n",
      "-------------------------------------------------------------------------------\n",
      "HEALTH_HEIGHT_1981                                               HEIGHT OF R 81\n",
      "-------------------------------------------------------------------------------\n",
      "\n",
      "                  Type: Numeric (float)\n",
      "                 Label: vlR0481600, but 26 nonmissing values are not labeled\n",
      "\n",
      "                 Range: [-5,609]                      Units: 1\n",
      "         Unique values: 26                        Missing .: 0/3,048\n",
      "\n",
      "              Examples: 508   \n",
      "                        510   \n",
      "                        511   \n",
      "                        600   \n"
     ]
    }
   ],
   "source": [
    "%%stata\n",
    "codebook HEALTH_HEIGHT_1981"
   ]
  },
  {
   "cell_type": "markdown",
   "id": "28d67c97",
   "metadata": {},
   "source": [
    "Error coded values are less than 0.  The error values are replaced with 900 for parsing by the tostring command.  900 is easily detectable as no one is currently 9 ft tall."
   ]
  },
  {
   "cell_type": "code",
   "execution_count": 168,
   "id": "de14be7c",
   "metadata": {},
   "outputs": [
    {
     "name": "stdout",
     "output_type": "stream",
     "text": [
      "(148 real changes made)\n"
     ]
    }
   ],
   "source": [
    "%%stata\n",
    "replace HEALTH_HEIGHT_1981=900 if HEALTH_HEIGHT_1981 < 0"
   ]
  },
  {
   "cell_type": "markdown",
   "id": "3716728c",
   "metadata": {},
   "source": [
    "Transform integer values in strings for parsing."
   ]
  },
  {
   "cell_type": "code",
   "execution_count": 169,
   "id": "0ab8a2fc",
   "metadata": {},
   "outputs": [
    {
     "name": "stdout",
     "output_type": "stream",
     "text": [
      "strHeight1981 generated as str3\n"
     ]
    }
   ],
   "source": [
    "%%stata\n",
    "tostring HEALTH_HEIGHT_1981, generate(strHeight1981)"
   ]
  },
  {
   "cell_type": "code",
   "execution_count": 170,
   "id": "194a58bc",
   "metadata": {},
   "outputs": [
    {
     "name": "stdout",
     "output_type": "stream",
     "text": [
      "\n",
      ". generate heightFt1981=substr(strHeight1981,1,1)\n",
      "\n",
      ". generate heightIn1981=substr(strHeight1981,2,3)\n",
      "\n",
      ". list heightFt1981 in 1/5\n",
      "\n",
      "     +----------+\n",
      "     | he~t1981 |\n",
      "     |----------|\n",
      "  1. |        5 |\n",
      "  2. |        5 |\n",
      "  3. |        5 |\n",
      "  4. |        5 |\n",
      "  5. |        5 |\n",
      "     +----------+\n",
      "\n",
      ". list heightIn1981 in 1/5\n",
      "\n",
      "     +----------+\n",
      "     | he~n1981 |\n",
      "     |----------|\n",
      "  1. |       03 |\n",
      "  2. |       04 |\n",
      "  3. |       05 |\n",
      "  4. |       06 |\n",
      "  5. |       11 |\n",
      "     +----------+\n",
      "\n",
      ". \n"
     ]
    }
   ],
   "source": [
    "%%stata\n",
    "generate heightFt1981=substr(strHeight1981,1,1)\n",
    "generate heightIn1981=substr(strHeight1981,2,3)\n",
    "list heightFt1981 in 1/5\n",
    "list heightIn1981 in 1/5"
   ]
  },
  {
   "cell_type": "markdown",
   "id": "b32e6759",
   "metadata": {},
   "source": [
    "Transform new inches and feet strings into integers and then combine in formula height1981 = 12*ft + inches"
   ]
  },
  {
   "cell_type": "code",
   "execution_count": 171,
   "id": "1656500d",
   "metadata": {},
   "outputs": [
    {
     "name": "stdout",
     "output_type": "stream",
     "text": [
      "\n",
      ". destring heightFt1981, replace\n",
      "heightFt1981: all characters numeric; replaced as byte\n",
      "\n",
      ". destring heightIn1981, replace\n",
      "heightIn1981: all characters numeric; replaced as byte\n",
      "\n",
      ". generate height81= 12*heightFt1981 + heightIn1981\n",
      "\n",
      ". replace height81=. if HEALTH_HEIGHT_1981==900\n",
      "(148 real changes made, 148 to missing)\n",
      "\n",
      ". label variable height81 \"Height in inches. '.' is invalid.\"\n",
      "\n",
      ". summarize height81 if height81!=.\n",
      "\n",
      "    Variable |        Obs        Mean    Std. dev.       Min        Max\n",
      "-------------+---------------------------------------------------------\n",
      "    height81 |      2,900    70.34552    2.819987         55         81\n",
      "\n",
      ". \n"
     ]
    }
   ],
   "source": [
    "%%stata\n",
    "destring heightFt1981, replace\n",
    "destring heightIn1981, replace\n",
    "generate height81= 12*heightFt1981 + heightIn1981\n",
    "replace height81=. if HEALTH_HEIGHT_1981==900\n",
    "label variable height81 \"Height in inches. '.' is invalid.\"\n",
    "summarize height81 if height81!=."
   ]
  },
  {
   "cell_type": "markdown",
   "id": "70642cb1",
   "metadata": {},
   "source": [
    "Error codes are less than 0.  The error observations are replaced by -1.  \n",
    "Generate height85"
   ]
  },
  {
   "cell_type": "code",
   "execution_count": 172,
   "id": "52d22daf",
   "metadata": {},
   "outputs": [
    {
     "name": "stdout",
     "output_type": "stream",
     "text": [
      "\n",
      ". generate height85 = HEALTH_HEIGHT_1985\n",
      "\n",
      ". replace height85=. if height85<0\n",
      "(705 real changes made, 705 to missing)\n",
      "\n",
      ". label variable height85 \"Height in inches. '.' is invalid.\"\n",
      "\n",
      ". summarize height85 if height85!=.\n",
      "\n",
      "    Variable |        Obs        Mean    Std. dev.       Min        Max\n",
      "-------------+---------------------------------------------------------\n",
      "    height85 |      2,343     70.6402    2.778447         60         80\n",
      "\n",
      ". \n"
     ]
    }
   ],
   "source": [
    "%%stata\n",
    "generate height85 = HEALTH_HEIGHT_1985\n",
    "replace height85=. if height85<0\n",
    "label variable height85 \"Height in inches. '.' is invalid.\"\n",
    "summarize height85 if height85!=."
   ]
  },
  {
   "cell_type": "markdown",
   "id": "8aaae87b",
   "metadata": {},
   "source": [
    "Create a delta height for sample."
   ]
  },
  {
   "cell_type": "code",
   "execution_count": 173,
   "id": "8963b169",
   "metadata": {},
   "outputs": [
    {
     "name": "stdout",
     "output_type": "stream",
     "text": [
      "\n",
      ". generate deltaHeight = height85-height81\n",
      "(767 missing values generated)\n",
      "\n",
      ". label variable deltaHeight \"in inches. '.' is invalid\"\n",
      "\n",
      ". summarize deltaHeight if deltaHeight!=.\n",
      "\n",
      "    Variable |        Obs        Mean    Std. dev.       Min        Max\n",
      "-------------+---------------------------------------------------------\n",
      " deltaHeight |      2,281    .2889084    1.435852        -12         14\n",
      "\n",
      ". \n"
     ]
    }
   ],
   "source": [
    "%%stata\n",
    "generate deltaHeight = height85-height81\n",
    "label variable deltaHeight \"in inches. '.' is invalid\"\n",
    "summarize deltaHeight if deltaHeight!=."
   ]
  },
  {
   "cell_type": "markdown",
   "id": "ce10ab8b",
   "metadata": {},
   "source": [
    "Create age in 1996, age96.  \n",
    "FAM_1B_1979 is the age of the respondents in 1979.  \n",
    "Negative values are invalid response for various reasons."
   ]
  },
  {
   "cell_type": "code",
   "execution_count": 174,
   "id": "1d289900",
   "metadata": {},
   "outputs": [
    {
     "name": "stdout",
     "output_type": "stream",
     "text": [
      "\n",
      "-------------------------------------------------------------------------------\n",
      "FAM_1B_1979                                                         AGE OF R 79\n",
      "-------------------------------------------------------------------------------\n",
      "\n",
      "                  Type: Numeric (float)\n",
      "                 Label: vlR0000600, but 9 nonmissing values are not labeled\n",
      "\n",
      "                 Range: [14,22]                       Units: 1\n",
      "         Unique values: 9                         Missing .: 0/3,048\n",
      "\n",
      "            Tabulation: Freq.   Numeric  Label\n",
      "                          241        14  \n",
      "                          340        15  \n",
      "                          362        16  \n",
      "                          320        17  \n",
      "                          361        18  \n",
      "                          419        19  \n",
      "                          426        20  \n",
      "                          434        21  \n",
      "                          145        22  \n"
     ]
    }
   ],
   "source": [
    "%%stata\n",
    "codebook FAM_1B_1979"
   ]
  },
  {
   "cell_type": "code",
   "execution_count": 175,
   "id": "43415ee4",
   "metadata": {},
   "outputs": [
    {
     "name": "stdout",
     "output_type": "stream",
     "text": [
      "\n",
      ". generate age96 = (1996 - 1979) + FAM_1B_1979\n",
      "\n",
      ". replace age96 =. if FAM_1B_1979 < 0\n",
      "(0 real changes made)\n",
      "\n",
      ". label variable age96 \"R age in 1996\"\n",
      "\n",
      ". summarize age96 if age > 0\n",
      "\n",
      "    Variable |        Obs        Mean    Std. dev.       Min        Max\n",
      "-------------+---------------------------------------------------------\n",
      "       age96 |      3,048    35.04101    2.363981         31         39\n",
      "\n",
      ". \n"
     ]
    }
   ],
   "source": [
    "%%stata\n",
    "generate age96 = (1996 - 1979) + FAM_1B_1979\n",
    "replace age96 =. if FAM_1B_1979 < 0\n",
    "label variable age96 \"R age in 1996\"\n",
    "summarize age96 if age > 0"
   ]
  },
  {
   "cell_type": "code",
   "execution_count": 176,
   "id": "2a37b793",
   "metadata": {},
   "outputs": [
    {
     "name": "stdout",
     "output_type": "stream",
     "text": [
      "\n",
      "    Variable |        Obs        Mean    Std. dev.       Min        Max\n",
      "-------------+---------------------------------------------------------\n",
      " FAM_1B_1979 |      3,048    18.04101    2.363981         14         22\n"
     ]
    }
   ],
   "source": [
    "%stata summarize FAM_1B_1979"
   ]
  },
  {
   "cell_type": "markdown",
   "id": "fc8c6cc9",
   "metadata": {},
   "source": [
    "Generate income, the reported income 1996.  \n",
    "Invalid values are negative. Note: 0 is a valid response for this question."
   ]
  },
  {
   "cell_type": "markdown",
   "id": "9e81e374",
   "metadata": {},
   "source": [
    "## Income & Hours"
   ]
  },
  {
   "cell_type": "code",
   "execution_count": 177,
   "id": "c1b808c7",
   "metadata": {},
   "outputs": [
    {
     "name": "stdout",
     "output_type": "stream",
     "text": [
      "\n",
      "-------------------------------------------------------------------------------\n",
      "Q13_5_TRUNC_REVISED_1996                  AMT OF R'S WAGES/SALARY/TIPS (PCY) 96\n",
      "-------------------------------------------------------------------------------\n",
      "\n",
      "                  Type: Numeric (float)\n",
      "                 Label: vlR5626201, but 304 nonmissing values are not labeled\n",
      "\n",
      "                 Range: [-5,138775]                   Units: 1\n",
      "         Unique values: 304                       Missing .: 0/3,048\n",
      "\n",
      "              Examples: -5    \n",
      "                        8000  \n",
      "                        26000 \n",
      "                        42000 \n"
     ]
    }
   ],
   "source": [
    "%%stata\n",
    "codebook Q13_5_TRUNC_REVISED_1996"
   ]
  },
  {
   "cell_type": "code",
   "execution_count": 178,
   "id": "fc40224c",
   "metadata": {},
   "outputs": [
    {
     "name": "stdout",
     "output_type": "stream",
     "text": [
      "\n",
      ". generate income = Q13_5_TRUNC_REVISED_1996\n",
      "\n",
      ". replace income =. if Q13_5_TRUNC_REVISED_1996 < 0\n",
      "(954 real changes made, 954 to missing)\n",
      "\n",
      ". label variable income \"R income (USD) in 1996 Note: top 2% truncated. '.' is \n",
      "> invalid\"\n",
      "\n",
      ". summarize income if income !=.\n",
      "\n",
      "    Variable |        Obs        Mean    Std. dev.       Min        Max\n",
      "-------------+---------------------------------------------------------\n",
      "      income |      2,094    34912.86    28871.08          0     138775\n",
      "\n",
      ". hist income, percent\n",
      "(bin=33, start=0, width=4205.303)\n",
      "\n",
      ". \n"
     ]
    },
    {
     "data": {
      "image/svg+xml": [
       "<svg xmlns=\"http://www.w3.org/2000/svg\" xmlns:xlink=\"http://www.w3.org/1999/xlink\" version=\"1.1\" width=\"6.000in\" height=\"4.000in\" viewBox=\"0 0 3960 2640\">\n",
       "\t<desc>Stata Graph - Graph</desc>\n",
       "\t<rect x=\"0\" y=\"0\" width=\"3960\" height=\"2640\" style=\"fill:#EAF2F3;stroke:none\"/>\n",
       "\t<rect x=\"0.00\" y=\"0.00\" width=\"3959.88\" height=\"2640.00\" style=\"fill:#EAF2F3\"/>\n",
       "\t<rect x=\"2.88\" y=\"2.88\" width=\"3954.12\" height=\"2634.24\" style=\"fill:none;stroke:#EAF2F3;stroke-width:5.76\"/>\n",
       "\t<rect x=\"390.80\" y=\"92.45\" width=\"3468.22\" height=\"2189.30\" style=\"fill:#FFFFFF\"/>\n",
       "\t<rect x=\"393.68\" y=\"95.33\" width=\"3462.46\" height=\"2183.54\" style=\"fill:none;stroke:#FFFFFF;stroke-width:5.76\"/>\n",
       "\t<line x1=\"390.80\" y1=\"2281.75\" x2=\"3859.02\" y2=\"2281.75\" style=\"stroke:#EAF2F3;stroke-width:8.64\"/>\n",
       "\t<line x1=\"390.80\" y1=\"1860.77\" x2=\"3859.02\" y2=\"1860.77\" style=\"stroke:#EAF2F3;stroke-width:8.64\"/>\n",
       "\t<line x1=\"390.80\" y1=\"1439.68\" x2=\"3859.02\" y2=\"1439.68\" style=\"stroke:#EAF2F3;stroke-width:8.64\"/>\n",
       "\t<line x1=\"390.80\" y1=\"1018.70\" x2=\"3859.02\" y2=\"1018.70\" style=\"stroke:#EAF2F3;stroke-width:8.64\"/>\n",
       "\t<line x1=\"390.80\" y1=\"597.61\" x2=\"3859.02\" y2=\"597.61\" style=\"stroke:#EAF2F3;stroke-width:8.64\"/>\n",
       "\t<line x1=\"390.80\" y1=\"176.63\" x2=\"3859.02\" y2=\"176.63\" style=\"stroke:#EAF2F3;stroke-width:8.64\"/>\n",
       "\t<rect x=\"500.32\" y=\"150.54\" width=\"92.44\" height=\"2131.22\" style=\"fill:#CAC27E\"/>\n",
       "\t<rect x=\"504.64\" y=\"154.86\" width=\"83.80\" height=\"2122.58\" style=\"fill:none;stroke:#D7D29E;stroke-width:8.64\"/>\n",
       "\t<rect x=\"592.76\" y=\"1658.51\" width=\"92.32\" height=\"623.25\" style=\"fill:#CAC27E\"/>\n",
       "\t<rect x=\"597.08\" y=\"1662.83\" width=\"83.68\" height=\"614.61\" style=\"fill:none;stroke:#D7D29E;stroke-width:8.64\"/>\n",
       "\t<rect x=\"685.08\" y=\"1366.96\" width=\"92.44\" height=\"914.79\" style=\"fill:#CAC27E\"/>\n",
       "\t<rect x=\"689.40\" y=\"1371.28\" width=\"83.80\" height=\"906.15\" style=\"fill:none;stroke:#D7D29E;stroke-width:8.64\"/>\n",
       "\t<rect x=\"777.52\" y=\"1015.07\" width=\"92.32\" height=\"1266.68\" style=\"fill:#CAC27E\"/>\n",
       "\t<rect x=\"781.84\" y=\"1019.39\" width=\"83.68\" height=\"1258.04\" style=\"fill:none;stroke:#D7D29E;stroke-width:8.64\"/>\n",
       "\t<rect x=\"869.84\" y=\"552.57\" width=\"92.44\" height=\"1729.18\" style=\"fill:#CAC27E\"/>\n",
       "\t<rect x=\"874.16\" y=\"556.89\" width=\"83.80\" height=\"1720.54\" style=\"fill:none;stroke:#D7D29E;stroke-width:8.64\"/>\n",
       "\t<rect x=\"962.28\" y=\"351.55\" width=\"92.32\" height=\"1930.20\" style=\"fill:#CAC27E\"/>\n",
       "\t<rect x=\"966.60\" y=\"355.87\" width=\"83.68\" height=\"1921.56\" style=\"fill:none;stroke:#D7D29E;stroke-width:8.64\"/>\n",
       "\t<rect x=\"1054.60\" y=\"552.57\" width=\"92.44\" height=\"1729.18\" style=\"fill:#CAC27E\"/>\n",
       "\t<rect x=\"1058.92\" y=\"556.89\" width=\"83.80\" height=\"1720.54\" style=\"fill:none;stroke:#D7D29E;stroke-width:8.64\"/>\n",
       "\t<rect x=\"1147.04\" y=\"321.38\" width=\"92.44\" height=\"1960.37\" style=\"fill:#CAC27E\"/>\n",
       "\t<rect x=\"1151.36\" y=\"325.70\" width=\"83.80\" height=\"1951.73\" style=\"fill:none;stroke:#D7D29E;stroke-width:8.64\"/>\n",
       "\t<rect x=\"1239.48\" y=\"834.13\" width=\"92.32\" height=\"1447.62\" style=\"fill:#CAC27E\"/>\n",
       "\t<rect x=\"1243.80\" y=\"838.45\" width=\"83.68\" height=\"1438.98\" style=\"fill:none;stroke:#D7D29E;stroke-width:8.64\"/>\n",
       "\t<rect x=\"1331.80\" y=\"793.86\" width=\"92.44\" height=\"1487.89\" style=\"fill:#CAC27E\"/>\n",
       "\t<rect x=\"1336.12\" y=\"798.18\" width=\"83.80\" height=\"1479.25\" style=\"fill:none;stroke:#D7D29E;stroke-width:8.64\"/>\n",
       "\t<rect x=\"1424.24\" y=\"1256.36\" width=\"92.32\" height=\"1025.39\" style=\"fill:#CAC27E\"/>\n",
       "\t<rect x=\"1428.56\" y=\"1260.68\" width=\"83.68\" height=\"1016.75\" style=\"fill:none;stroke:#D7D29E;stroke-width:8.64\"/>\n",
       "\t<rect x=\"1516.56\" y=\"1356.87\" width=\"92.44\" height=\"924.88\" style=\"fill:#CAC27E\"/>\n",
       "\t<rect x=\"1520.88\" y=\"1361.19\" width=\"83.80\" height=\"916.25\" style=\"fill:none;stroke:#D7D29E;stroke-width:8.64\"/>\n",
       "\t<rect x=\"1609.00\" y=\"1608.25\" width=\"92.32\" height=\"673.50\" style=\"fill:#CAC27E\"/>\n",
       "\t<rect x=\"1613.32\" y=\"1612.57\" width=\"83.68\" height=\"664.86\" style=\"fill:none;stroke:#D7D29E;stroke-width:8.64\"/>\n",
       "\t<rect x=\"1701.32\" y=\"1738.94\" width=\"92.44\" height=\"542.82\" style=\"fill:#CAC27E\"/>\n",
       "\t<rect x=\"1705.63\" y=\"1743.26\" width=\"83.80\" height=\"534.18\" style=\"fill:none;stroke:#D7D29E;stroke-width:8.64\"/>\n",
       "\t<rect x=\"1793.76\" y=\"1658.51\" width=\"92.44\" height=\"623.25\" style=\"fill:#CAC27E\"/>\n",
       "\t<rect x=\"1798.08\" y=\"1662.83\" width=\"83.80\" height=\"614.61\" style=\"fill:none;stroke:#D7D29E;stroke-width:8.64\"/>\n",
       "\t<rect x=\"1886.20\" y=\"2010.29\" width=\"92.32\" height=\"271.46\" style=\"fill:#CAC27E\"/>\n",
       "\t<rect x=\"1890.52\" y=\"2014.61\" width=\"83.68\" height=\"262.82\" style=\"fill:none;stroke:#D7D29E;stroke-width:8.64\"/>\n",
       "\t<rect x=\"1978.52\" y=\"1990.21\" width=\"92.44\" height=\"291.54\" style=\"fill:#CAC27E\"/>\n",
       "\t<rect x=\"1982.83\" y=\"1994.53\" width=\"83.80\" height=\"282.90\" style=\"fill:none;stroke:#D7D29E;stroke-width:8.64\"/>\n",
       "\t<rect x=\"2070.96\" y=\"1960.03\" width=\"92.32\" height=\"321.72\" style=\"fill:#CAC27E\"/>\n",
       "\t<rect x=\"2075.28\" y=\"1964.35\" width=\"83.68\" height=\"313.08\" style=\"fill:none;stroke:#D7D29E;stroke-width:8.64\"/>\n",
       "\t<rect x=\"2163.27\" y=\"2251.58\" width=\"92.44\" height=\"30.18\" style=\"fill:#CAC27E\"/>\n",
       "\t<rect x=\"2167.59\" y=\"2255.90\" width=\"83.80\" height=\"21.54\" style=\"fill:none;stroke:#D7D29E;stroke-width:8.64\"/>\n",
       "\t<rect x=\"2255.72\" y=\"2110.91\" width=\"92.32\" height=\"170.84\" style=\"fill:#CAC27E\"/>\n",
       "\t<rect x=\"2260.03\" y=\"2115.23\" width=\"83.68\" height=\"162.20\" style=\"fill:none;stroke:#D7D29E;stroke-width:8.64\"/>\n",
       "\t<rect x=\"2348.03\" y=\"2251.58\" width=\"92.44\" height=\"30.18\" style=\"fill:#CAC27E\"/>\n",
       "\t<rect x=\"2352.35\" y=\"2255.90\" width=\"83.80\" height=\"21.54\" style=\"fill:none;stroke:#D7D29E;stroke-width:8.64\"/>\n",
       "\t<rect x=\"2440.47\" y=\"2271.77\" width=\"92.44\" height=\"9.98\" style=\"fill:#CAC27E\"/>\n",
       "\t<rect x=\"2444.79\" y=\"2276.09\" width=\"83.80\" height=\"1.34\" style=\"fill:none;stroke:#D7D29E;stroke-width:8.64\"/>\n",
       "\t<rect x=\"3456.71\" y=\"1366.96\" width=\"92.44\" height=\"914.79\" style=\"fill:#CAC27E\"/>\n",
       "\t<rect x=\"3461.03\" y=\"1371.28\" width=\"83.80\" height=\"906.15\" style=\"fill:none;stroke:#D7D29E;stroke-width:8.64\"/>\n",
       "\t<line x1=\"390.80\" y1=\"2281.75\" x2=\"390.80\" y2=\"92.45\" style=\"stroke:#000000;stroke-width:5.76\"/>\n",
       "\t<line x1=\"390.80\" y1=\"2281.75\" x2=\"350.83\" y2=\"2281.75\" style=\"stroke:#000000;stroke-width:5.76\"/>\n",
       "\t<text x=\"300.72\" y=\"2281.75\" style=\"font-family:'Helvetica';font-size:99.99px;fill:#000000\" transform=\"rotate(-90 300.72,2281.75)\" text-anchor=\"middle\">0</text>\n",
       "\t<line x1=\"390.80\" y1=\"1860.77\" x2=\"350.83\" y2=\"1860.77\" style=\"stroke:#000000;stroke-width:5.76\"/>\n",
       "\t<text x=\"300.72\" y=\"1860.77\" style=\"font-family:'Helvetica';font-size:99.99px;fill:#000000\" transform=\"rotate(-90 300.72,1860.77)\" text-anchor=\"middle\">2</text>\n",
       "\t<line x1=\"390.80\" y1=\"1439.68\" x2=\"350.83\" y2=\"1439.68\" style=\"stroke:#000000;stroke-width:5.76\"/>\n",
       "\t<text x=\"300.72\" y=\"1439.68\" style=\"font-family:'Helvetica';font-size:99.99px;fill:#000000\" transform=\"rotate(-90 300.72,1439.68)\" text-anchor=\"middle\">4</text>\n",
       "\t<line x1=\"390.80\" y1=\"1018.70\" x2=\"350.83\" y2=\"1018.70\" style=\"stroke:#000000;stroke-width:5.76\"/>\n",
       "\t<text x=\"300.72\" y=\"1018.70\" style=\"font-family:'Helvetica';font-size:99.99px;fill:#000000\" transform=\"rotate(-90 300.72,1018.70)\" text-anchor=\"middle\">6</text>\n",
       "\t<line x1=\"390.80\" y1=\"597.61\" x2=\"350.83\" y2=\"597.61\" style=\"stroke:#000000;stroke-width:5.76\"/>\n",
       "\t<text x=\"300.72\" y=\"597.61\" style=\"font-family:'Helvetica';font-size:99.99px;fill:#000000\" transform=\"rotate(-90 300.72,597.61)\" text-anchor=\"middle\">8</text>\n",
       "\t<line x1=\"390.80\" y1=\"176.63\" x2=\"350.83\" y2=\"176.63\" style=\"stroke:#000000;stroke-width:5.76\"/>\n",
       "\t<text x=\"300.72\" y=\"176.63\" style=\"font-family:'Helvetica';font-size:99.99px;fill:#000000\" transform=\"rotate(-90 300.72,176.63)\" text-anchor=\"middle\">10</text>\n",
       "\t<text x=\"190.71\" y=\"1187.05\" style=\"font-family:'Helvetica';font-size:99.99px;fill:#000000\" transform=\"rotate(-90 190.71,1187.05)\" text-anchor=\"middle\">Percent</text>\n",
       "\t<line x1=\"390.80\" y1=\"2281.75\" x2=\"3859.02\" y2=\"2281.75\" style=\"stroke:#000000;stroke-width:5.76\"/>\n",
       "\t<line x1=\"500.32\" y1=\"2281.75\" x2=\"500.32\" y2=\"2318.39\" style=\"stroke:#000000;stroke-width:5.76\"/>\n",
       "\t<text x=\"500.32\" y=\"2400.88\" style=\"font-family:'Helvetica';font-size:99.99px;fill:#000000\" text-anchor=\"middle\">0</text>\n",
       "\t<line x1=\"1598.85\" y1=\"2281.75\" x2=\"1598.85\" y2=\"2318.39\" style=\"stroke:#000000;stroke-width:5.76\"/>\n",
       "\t<text x=\"1598.85\" y=\"2400.88\" style=\"font-family:'Helvetica';font-size:99.99px;fill:#000000\" text-anchor=\"middle\">50000</text>\n",
       "\t<line x1=\"2697.26\" y1=\"2281.75\" x2=\"2697.26\" y2=\"2318.39\" style=\"stroke:#000000;stroke-width:5.76\"/>\n",
       "\t<text x=\"2697.26\" y=\"2400.88\" style=\"font-family:'Helvetica';font-size:99.99px;fill:#000000\" text-anchor=\"middle\">100000</text>\n",
       "\t<line x1=\"3795.66\" y1=\"2281.75\" x2=\"3795.66\" y2=\"2318.39\" style=\"stroke:#000000;stroke-width:5.76\"/>\n",
       "\t<text x=\"3795.66\" y=\"2400.88\" style=\"font-family:'Helvetica';font-size:99.99px;fill:#000000\" text-anchor=\"middle\">150000</text>\n",
       "\t<text x=\"2124.91\" y=\"2501.73\" style=\"font-family:'Helvetica';font-size:99.99px;fill:#000000\" text-anchor=\"middle\">R income (USD) in 1996 Note: top 2% truncated. '.' is invalid</text>\n",
       "</svg>"
      ],
      "text/plain": [
       "<IPython.core.display.SVG object>"
      ]
     },
     "metadata": {},
     "output_type": "display_data"
    }
   ],
   "source": [
    "%%stata\n",
    "generate income = Q13_5_TRUNC_REVISED_1996\n",
    "replace income =. if Q13_5_TRUNC_REVISED_1996 < 0\n",
    "label variable income \"R income (USD) in 1996 Note: top 2% truncated. '.' is invalid\"\n",
    "summarize income if income !=.\n",
    "hist income, percent"
   ]
  },
  {
   "cell_type": "markdown",
   "id": "1d20fb98",
   "metadata": {},
   "source": [
    "Generate the variable hours, the number of hours worked in 1996.  \n",
    "Invalid values are negative. Note: 0 is a valid response for this question."
   ]
  },
  {
   "cell_type": "code",
   "execution_count": 179,
   "id": "f05ceb11",
   "metadata": {},
   "outputs": [
    {
     "name": "stdout",
     "output_type": "stream",
     "text": [
      "\n",
      ". codebook HRSWK_PCY_1996\n",
      "\n",
      "-------------------------------------------------------------------------------\n",
      "HRSWK_PCY_1996                                       HRS WRKD IN PAST CAL YR 96\n",
      "-------------------------------------------------------------------------------\n",
      "\n",
      "                  Type: Numeric (float)\n",
      "                 Label: vlR5167100, but 471 nonmissing values are not labeled\n",
      "\n",
      "                 Range: [-5,6680]                     Units: 1\n",
      "         Unique values: 471                       Missing .: 0/3,048\n",
      "\n",
      "              Examples: -5    \n",
      "                        1548  \n",
      "                        2080  \n",
      "                        2600  \n",
      "\n",
      ". summarize HRSWK_PCY_1996 if HRSWK_PCY_1996 < 0 \n",
      "\n",
      "    Variable |        Obs        Mean    Std. dev.       Min        Max\n",
      "-------------+---------------------------------------------------------\n",
      "HRSWK_P~1996 |        909   -4.969197    .2464227         -5         -3\n",
      "\n",
      ". \n"
     ]
    }
   ],
   "source": [
    "%%stata\n",
    "codebook HRSWK_PCY_1996\n",
    "summarize HRSWK_PCY_1996 if HRSWK_PCY_1996 < 0 "
   ]
  },
  {
   "cell_type": "code",
   "execution_count": 180,
   "id": "9f881bf9",
   "metadata": {},
   "outputs": [
    {
     "name": "stdout",
     "output_type": "stream",
     "text": [
      "\n",
      ". generate hours = HRSWK_PCY_1996\n",
      "\n",
      ". replace hours =. if HRSWK_PCY_1996 < 0\n",
      "(909 real changes made, 909 to missing)\n",
      "\n",
      ". label variable hours \"Hours worked. '.' is invalid\"\n",
      "\n",
      ". summarize hours if hours!=.\n",
      "\n",
      "    Variable |        Obs        Mean    Std. dev.       Min        Max\n",
      "-------------+---------------------------------------------------------\n",
      "       hours |      2,139    2222.443    918.1373          0       6680\n",
      "\n",
      ". \n"
     ]
    }
   ],
   "source": [
    "%%stata\n",
    "generate hours = HRSWK_PCY_1996\n",
    "replace hours =. if HRSWK_PCY_1996 < 0\n",
    "label variable hours \"Hours worked. '.' is invalid\"\n",
    "summarize hours if hours!=."
   ]
  },
  {
   "cell_type": "markdown",
   "id": "da82f022",
   "metadata": {},
   "source": [
    "Generate fulltime variable.  \n",
    "fulltime will be 1 if hours > 1,000.  Otherwise 0."
   ]
  },
  {
   "cell_type": "code",
   "execution_count": 181,
   "id": "a0fabce7",
   "metadata": {},
   "outputs": [
    {
     "name": "stdout",
     "output_type": "stream",
     "text": [
      "\n",
      ". generate fulltime=hours > 1000\n",
      "\n",
      ". replace fulltime=. if hours==.\n",
      "(909 real changes made, 909 to missing)\n",
      "\n",
      ". label variable fulltime \"1 if hours > 1000. '.' is invalid\"\n",
      "\n",
      ". tab fulltime if fulltime!=.\n",
      "\n",
      " 1 if hours |\n",
      "> 1000. '.' |\n",
      " is invalid |      Freq.     Percent        Cum.\n",
      "------------+-----------------------------------\n",
      "          0 |        213        9.96        9.96\n",
      "          1 |      1,926       90.04      100.00\n",
      "------------+-----------------------------------\n",
      "      Total |      2,139      100.00\n",
      "\n",
      ". \n"
     ]
    }
   ],
   "source": [
    "%%stata\n",
    "generate fulltime=hours > 1000\n",
    "replace fulltime=. if hours==.\n",
    "label variable fulltime \"1 if hours > 1000. '.' is invalid\"\n",
    "tab fulltime if fulltime!=."
   ]
  },
  {
   "cell_type": "markdown",
   "id": "e651c09a",
   "metadata": {},
   "source": [
    "Generate ln(wages).  Stata will generate '.' (missing value) for ln(0)"
   ]
  },
  {
   "cell_type": "code",
   "execution_count": 182,
   "id": "4b60586b",
   "metadata": {},
   "outputs": [
    {
     "name": "stdout",
     "output_type": "stream",
     "text": [
      "\n",
      ". generate lnWage=ln(income/hours)\n",
      "(1,140 missing values generated)\n",
      "\n",
      ". replace lnWage=. if income==. | hours==.\n",
      "(0 real changes made)\n",
      "\n",
      ". label variable lnWage \"Ln of income/hours\"\n",
      "\n",
      ". summarize lnWage if lnWage!=.\n",
      "\n",
      "    Variable |        Obs        Mean    Std. dev.       Min        Max\n",
      "-------------+---------------------------------------------------------\n",
      "      lnWage |      1,908    2.605704    .6915462  -2.091864   6.620073\n",
      "\n",
      ". \n"
     ]
    }
   ],
   "source": [
    "%%stata\n",
    "generate lnWage=ln(income/hours)\n",
    "replace lnWage=. if income==. | hours==.\n",
    "label variable lnWage \"Ln of income/hours\"\n",
    "summarize lnWage if lnWage!=."
   ]
  },
  {
   "cell_type": "markdown",
   "id": "60a1c643",
   "metadata": {},
   "source": [
    "Generate basicOLS == 1 if lnWage, height81, height95, age96 are all present."
   ]
  },
  {
   "cell_type": "code",
   "execution_count": 183,
   "id": "63c5a20d",
   "metadata": {},
   "outputs": [
    {
     "name": "stdout",
     "output_type": "stream",
     "text": [
      "\n",
      ". generate basicOLS=(lnWage!=. & /// \n",
      ">                    height81!=. & ///\n",
      ">                    height85!=. & ///\n",
      ">                    age96!=.)\n",
      "\n",
      ". label variable basicOLS \"lnWage, height81, height85, age96 are all valid\"\n",
      "\n",
      ". tab basicOLS\n",
      "\n",
      "    lnWage, |\n",
      "  height81, |\n",
      "  height85, |\n",
      "  age96 are |\n",
      "  all valid |      Freq.     Percent        Cum.\n",
      "------------+-----------------------------------\n",
      "          0 |      1,230       40.35       40.35\n",
      "          1 |      1,818       59.65      100.00\n",
      "------------+-----------------------------------\n",
      "      Total |      3,048      100.00\n",
      "\n",
      ". \n"
     ]
    }
   ],
   "source": [
    "%%stata\n",
    "generate basicOLS=(lnWage!=. & /// \n",
    "                   height81!=. & ///\n",
    "                   height85!=. & ///\n",
    "                   age96!=.)\n",
    "label variable basicOLS \"lnWage, height81, height85, age96 are all valid\"\n",
    "tab basicOLS"
   ]
  },
  {
   "cell_type": "markdown",
   "id": "4bb48fbd",
   "metadata": {},
   "source": [
    "Generate educ.  This is the highest level of education \n",
    "    reported from the 1979,1988, 1994, and 1996 surveys."
   ]
  },
  {
   "cell_type": "code",
   "execution_count": 184,
   "id": "fe14f111",
   "metadata": {},
   "outputs": [
    {
     "name": "stdout",
     "output_type": "stream",
     "text": [
      "\n",
      "-------------------------------------------------------------------------------\n",
      "Q3_4_1979                                                                HGC 79\n",
      "-------------------------------------------------------------------------------\n",
      "\n",
      "                  Type: Numeric (float)\n",
      "                 Label: vlR0017300, but 1 nonmissing value is not labeled\n",
      "\n",
      "                 Range: [-3,16]                       Units: 1\n",
      "         Unique values: 14                        Missing .: 0/3,048\n",
      "\n",
      "              Examples: 9     9TH GRADE\n",
      "                        10    10TH GRADE\n",
      "                        12    12TH GRADE\n",
      "                        12    12TH GRADE\n",
      "\n",
      "-------------------------------------------------------------------------------\n",
      "Q3_4_1981                                                                HGC 81\n",
      "-------------------------------------------------------------------------------\n",
      "\n",
      "                  Type: Numeric (float)\n",
      "                 Label: vlR0417400, but 2 nonmissing values are not labeled\n",
      "\n",
      "                 Range: [-5,95]                       Units: 1\n",
      "         Unique values: 17                        Missing .: 0/3,048\n",
      "\n",
      "              Examples: -4    \n",
      "                        -4    \n",
      "                        10    10TH GRADE\n",
      "                        12    12TH GRADE\n",
      "\n",
      "-------------------------------------------------------------------------------\n",
      "Q3_4_1985                                                                HGC 85\n",
      "-------------------------------------------------------------------------------\n",
      "\n",
      "                  Type: Numeric (float)\n",
      "                 Label: vlR1605100, but 2 nonmissing values are not labeled\n",
      "\n",
      "                 Range: [-5,95]                       Units: 1\n",
      "         Unique values: 16                        Missing .: 0/3,048\n",
      "\n",
      "              Examples: -5    \n",
      "                        -4    \n",
      "                        -4    \n",
      "                        -4    \n",
      "\n",
      "-------------------------------------------------------------------------------\n",
      "Q3_4_1996                                HGHST GRADE/YR COMPLTD & GOT CREDIT 96\n",
      "-------------------------------------------------------------------------------\n",
      "\n",
      "                  Type: Numeric (float)\n",
      "                 Label: vlR5221800, but 2 nonmissing values are not labeled\n",
      "\n",
      "                 Range: [-5,20]                       Units: 1\n",
      "         Unique values: 15                        Missing .: 0/3,048\n",
      "\n",
      "              Examples: -5    \n",
      "                        -4    \n",
      "                        -4    \n",
      "                        -4    \n"
     ]
    }
   ],
   "source": [
    "%%stata\n",
    "codebook Q3_4_*"
   ]
  },
  {
   "cell_type": "code",
   "execution_count": 185,
   "id": "b659de5f",
   "metadata": {},
   "outputs": [
    {
     "name": "stdout",
     "output_type": "stream",
     "text": [
      "vlR0017300:\n",
      "           0 NONE\n",
      "           1 1ST GRADE\n",
      "           2 2ND GRADE\n",
      "           3 3RD GRADE\n",
      "           4 4TH GRADE\n",
      "           5 5TH GRADE\n",
      "           6 6TH GRADE\n",
      "           7 7TH GRADE\n",
      "           8 8TH GRADE\n",
      "           9 9TH GRADE\n",
      "          10 10TH GRADE\n",
      "          11 11TH GRADE\n",
      "          12 12TH GRADE\n",
      "          13 1ST YR COL\n",
      "          14 2ND YR COL\n",
      "          15 3RD YR COL\n",
      "          16 4TH YR COL\n",
      "          17 5TH YR COL\n",
      "          18 6TH YR COL\n",
      "          19 7TH YR COL\n",
      "          20 8TH YR COL OR MORE\n",
      "          95 UNGRADED\n",
      "vlR0417400:\n",
      "           0 NONE\n",
      "           1 1ST GRADE\n",
      "           2 2ND GRADE\n",
      "           3 3RD GRADE\n",
      "           4 4TH GRADE\n",
      "           5 5TH GRADE\n",
      "           6 6TH GRADE\n",
      "           7 7TH GRADE\n",
      "           8 8TH GRADE\n",
      "           9 9TH GRADE\n",
      "          10 10TH GRADE\n",
      "          11 11TH GRADE\n",
      "          12 12TH GRADE\n",
      "          13 1ST YR COL\n",
      "          14 2ND YR COL\n",
      "          15 3RD YR COL\n",
      "          16 4TH YR COL\n",
      "          17 5TH YR COL\n",
      "          18 6TH YR COL\n",
      "          19 7TH YR COL\n",
      "          20 8TH YR COL OR MORE\n",
      "          95 UNGRADED\n",
      "vlR1605100:\n",
      "           0 NONE\n",
      "           1 1ST GRADE\n",
      "           2 2ND GRADE\n",
      "           3 3RD GRADE\n",
      "           4 4TH GRADE\n",
      "           5 5TH GRADE\n",
      "           6 6TH GRADE\n",
      "           7 7TH GRADE\n",
      "           8 8TH GRADE\n",
      "           9 9TH GRADE\n",
      "          10 10TH GRADE\n",
      "          11 11TH GRADE\n",
      "          12 12TH GRADE\n",
      "          13 1ST YR COL\n",
      "          14 2ND YR COL\n",
      "          15 3RD YR COL\n",
      "          16 4TH YR COL\n",
      "          17 5TH YR COL\n",
      "          18 6TH YR COL\n",
      "          19 7TH YR COL\n",
      "          20 8TH YR COL OR MORE\n",
      "          95 UNGRADED\n",
      "vlR5221800:\n",
      "           1 1ST GRADE\n",
      "           2 2ND GRADE\n",
      "           3 3RD GRADE\n",
      "           4 4TH GRADE\n",
      "           5 5TH GRADE\n",
      "           6 6TH GRADE\n",
      "           7 7TH GRADE\n",
      "           8 8TH GRADE\n",
      "           9 9TH GRADE\n",
      "          10 10TH GRADE\n",
      "          11 11TH GRADE\n",
      "          12 12TH GRADE\n",
      "          13 1ST YEAR COLLEGE\n",
      "          14 2ND YEAR COLLEGE\n",
      "          15 3RD YEAR COLLEGE\n",
      "          16 4TH YEAR COLLEGE\n",
      "          17 5TH YEAR COLLEGE\n",
      "          18 6TH YEAR COLLEGE\n",
      "          19 7TH YEAR COLLEGE\n",
      "          20 8TH YEAR COLLEGE OR MORE\n",
      "          95 UNGRADED\n"
     ]
    }
   ],
   "source": [
    "%%stata\n",
    "label list vlR0017300 vlR0417400 vlR1605100 vlR5221800"
   ]
  },
  {
   "cell_type": "markdown",
   "id": "690071f9",
   "metadata": {},
   "source": [
    "95 is ungraded.  This will be replaces by 0 so rowmax does not capture this as the highest grade."
   ]
  },
  {
   "cell_type": "code",
   "execution_count": 186,
   "id": "5f48c36b",
   "metadata": {},
   "outputs": [
    {
     "name": "stdout",
     "output_type": "stream",
     "text": [
      "\n",
      ". foreach n of numlist 1979 1981 1985 1996 {\n",
      "  2.     generate Q3_4_`n'_norm = Q3_4_`n'\n",
      "  3.     replace Q3_4_`n'_norm = 0 if Q3_4_`n'_norm ==95\n",
      "  4. }\n",
      "(0 real changes made)\n",
      "(1 real change made)\n",
      "(1 real change made)\n",
      "(0 real changes made)\n",
      "\n",
      ". summarize Q3_4_*_norm\n",
      "\n",
      "    Variable |        Obs        Mean    Std. dev.       Min        Max\n",
      "-------------+---------------------------------------------------------\n",
      "Q3_4_1979_~m |      3,048    10.52329    2.327639         -3         16\n",
      "Q3_4_1981_~m |      3,048    3.973425    8.052316         -5         18\n",
      "Q3_4_1985_~m |      3,048   -.5442913    7.568742         -5         20\n",
      "Q3_4_1996_~m |      3,048    -3.24147    4.494108         -5         20\n",
      "\n",
      ". \n"
     ]
    }
   ],
   "source": [
    "%%stata\n",
    "foreach n of numlist 1979 1981 1985 1996 {\n",
    "    generate Q3_4_`n'_norm = Q3_4_`n'\n",
    "    replace Q3_4_`n'_norm = 0 if Q3_4_`n'_norm ==95\n",
    "}\n",
    "summarize Q3_4_*_norm"
   ]
  },
  {
   "cell_type": "code",
   "execution_count": 187,
   "id": "a70a35a1",
   "metadata": {},
   "outputs": [
    {
     "name": "stdout",
     "output_type": "stream",
     "text": [
      "\n",
      ". egen educ=rowmax(Q3_4_*_norm)\n",
      "\n",
      ". replace educ=. if educ<0\n",
      "(6 real changes made, 6 to missing)\n",
      "\n",
      ". summarize educ\n",
      "\n",
      "    Variable |        Obs        Mean    Std. dev.       Min        Max\n",
      "-------------+---------------------------------------------------------\n",
      "        educ |      3,042    12.23176    2.239346          5         20\n",
      "\n",
      ". \n"
     ]
    }
   ],
   "source": [
    "%%stata\n",
    "egen educ=rowmax(Q3_4_*_norm)\n",
    "replace educ=. if educ<0\n",
    "summarize educ"
   ]
  },
  {
   "cell_type": "code",
   "execution_count": 188,
   "id": "3f90561f",
   "metadata": {},
   "outputs": [
    {
     "name": "stdout",
     "output_type": "stream",
     "text": [
      "(bin=34, start=5, width=.44117647)\n"
     ]
    },
    {
     "data": {
      "image/svg+xml": [
       "<svg xmlns=\"http://www.w3.org/2000/svg\" xmlns:xlink=\"http://www.w3.org/1999/xlink\" version=\"1.1\" width=\"6.000in\" height=\"4.000in\" viewBox=\"0 0 3960 2640\">\n",
       "\t<desc>Stata Graph - Graph</desc>\n",
       "\t<rect x=\"0\" y=\"0\" width=\"3960\" height=\"2640\" style=\"fill:#EAF2F3;stroke:none\"/>\n",
       "\t<rect x=\"0.00\" y=\"0.00\" width=\"3959.88\" height=\"2640.00\" style=\"fill:#EAF2F3\"/>\n",
       "\t<rect x=\"2.88\" y=\"2.88\" width=\"3954.12\" height=\"2634.24\" style=\"fill:none;stroke:#EAF2F3;stroke-width:5.76\"/>\n",
       "\t<rect x=\"390.80\" y=\"92.45\" width=\"3468.22\" height=\"2189.30\" style=\"fill:#FFFFFF\"/>\n",
       "\t<rect x=\"393.68\" y=\"95.33\" width=\"3462.46\" height=\"2183.54\" style=\"fill:none;stroke:#FFFFFF;stroke-width:5.76\"/>\n",
       "\t<line x1=\"390.80\" y1=\"2281.75\" x2=\"3859.02\" y2=\"2281.75\" style=\"stroke:#EAF2F3;stroke-width:8.64\"/>\n",
       "\t<line x1=\"390.80\" y1=\"1748.92\" x2=\"3859.02\" y2=\"1748.92\" style=\"stroke:#EAF2F3;stroke-width:8.64\"/>\n",
       "\t<line x1=\"390.80\" y1=\"1216.09\" x2=\"3859.02\" y2=\"1216.09\" style=\"stroke:#EAF2F3;stroke-width:8.64\"/>\n",
       "\t<line x1=\"390.80\" y1=\"683.26\" x2=\"3859.02\" y2=\"683.26\" style=\"stroke:#EAF2F3;stroke-width:8.64\"/>\n",
       "\t<line x1=\"390.80\" y1=\"150.54\" x2=\"3859.02\" y2=\"150.54\" style=\"stroke:#EAF2F3;stroke-width:8.64\"/>\n",
       "\t<rect x=\"502.55\" y=\"2280.05\" width=\"96.90\" height=\"1.70\" style=\"fill:#CAC27E\"/>\n",
       "\t<rect x=\"506.87\" y=\"2277.43\" width=\"88.26\" height=\"6.94\" style=\"fill:none;stroke:#D7D29E;stroke-width:8.64\"/>\n",
       "\t<rect x=\"696.34\" y=\"2278.24\" width=\"96.77\" height=\"3.52\" style=\"fill:#CAC27E\"/>\n",
       "\t<rect x=\"700.66\" y=\"2277.43\" width=\"88.13\" height=\"5.12\" style=\"fill:none;stroke:#D7D29E;stroke-width:8.64\"/>\n",
       "\t<rect x=\"890.01\" y=\"2241.48\" width=\"96.90\" height=\"40.27\" style=\"fill:#CAC27E\"/>\n",
       "\t<rect x=\"894.33\" y=\"2245.80\" width=\"88.26\" height=\"31.63\" style=\"fill:none;stroke:#D7D29E;stroke-width:8.64\"/>\n",
       "\t<rect x=\"1083.68\" y=\"2124.18\" width=\"96.90\" height=\"157.57\" style=\"fill:#CAC27E\"/>\n",
       "\t<rect x=\"1088.00\" y=\"2128.50\" width=\"88.26\" height=\"148.93\" style=\"fill:none;stroke:#D7D29E;stroke-width:8.64\"/>\n",
       "\t<rect x=\"1374.24\" y=\"2001.55\" width=\"96.90\" height=\"280.20\" style=\"fill:#CAC27E\"/>\n",
       "\t<rect x=\"1378.56\" y=\"2005.87\" width=\"88.26\" height=\"271.56\" style=\"fill:none;stroke:#D7D29E;stroke-width:8.64\"/>\n",
       "\t<rect x=\"1568.04\" y=\"1689.70\" width=\"96.77\" height=\"592.05\" style=\"fill:#CAC27E\"/>\n",
       "\t<rect x=\"1572.36\" y=\"1694.02\" width=\"88.13\" height=\"583.41\" style=\"fill:none;stroke:#D7D29E;stroke-width:8.64\"/>\n",
       "\t<rect x=\"1761.71\" y=\"1610.98\" width=\"96.90\" height=\"670.78\" style=\"fill:#CAC27E\"/>\n",
       "\t<rect x=\"1766.02\" y=\"1615.30\" width=\"88.26\" height=\"662.14\" style=\"fill:none;stroke:#D7D29E;stroke-width:8.64\"/>\n",
       "\t<rect x=\"1955.37\" y=\"460.12\" width=\"96.90\" height=\"1821.64\" style=\"fill:#CAC27E\"/>\n",
       "\t<rect x=\"1959.69\" y=\"464.44\" width=\"88.26\" height=\"1813.00\" style=\"fill:none;stroke:#D7D29E;stroke-width:8.64\"/>\n",
       "\t<rect x=\"2246.06\" y=\"1817.67\" width=\"96.77\" height=\"464.09\" style=\"fill:#CAC27E\"/>\n",
       "\t<rect x=\"2250.38\" y=\"1821.99\" width=\"88.13\" height=\"455.45\" style=\"fill:none;stroke:#D7D29E;stroke-width:8.64\"/>\n",
       "\t<rect x=\"2439.73\" y=\"1826.40\" width=\"96.90\" height=\"455.35\" style=\"fill:#CAC27E\"/>\n",
       "\t<rect x=\"2444.05\" y=\"1830.72\" width=\"88.26\" height=\"446.71\" style=\"fill:none;stroke:#D7D29E;stroke-width:8.64\"/>\n",
       "\t<rect x=\"2633.40\" y=\"1917.49\" width=\"96.90\" height=\"364.26\" style=\"fill:#CAC27E\"/>\n",
       "\t<rect x=\"2637.72\" y=\"1921.81\" width=\"88.26\" height=\"355.62\" style=\"fill:none;stroke:#D7D29E;stroke-width:8.64\"/>\n",
       "\t<rect x=\"2827.19\" y=\"2005.07\" width=\"96.77\" height=\"276.68\" style=\"fill:#CAC27E\"/>\n",
       "\t<rect x=\"2831.51\" y=\"2009.39\" width=\"88.13\" height=\"268.04\" style=\"fill:none;stroke:#D7D29E;stroke-width:8.64\"/>\n",
       "\t<rect x=\"3117.76\" y=\"2206.43\" width=\"96.77\" height=\"75.32\" style=\"fill:#CAC27E\"/>\n",
       "\t<rect x=\"3122.08\" y=\"2210.75\" width=\"88.13\" height=\"66.69\" style=\"fill:none;stroke:#D7D29E;stroke-width:8.64\"/>\n",
       "\t<rect x=\"3311.43\" y=\"2222.20\" width=\"96.90\" height=\"59.56\" style=\"fill:#CAC27E\"/>\n",
       "\t<rect x=\"3315.75\" y=\"2226.52\" width=\"88.26\" height=\"50.92\" style=\"fill:none;stroke:#D7D29E;stroke-width:8.64\"/>\n",
       "\t<rect x=\"3505.10\" y=\"2250.22\" width=\"96.90\" height=\"31.54\" style=\"fill:#CAC27E\"/>\n",
       "\t<rect x=\"3509.41\" y=\"2254.54\" width=\"88.26\" height=\"22.90\" style=\"fill:none;stroke:#D7D29E;stroke-width:8.64\"/>\n",
       "\t<rect x=\"3698.89\" y=\"2248.51\" width=\"96.77\" height=\"33.24\" style=\"fill:#CAC27E\"/>\n",
       "\t<rect x=\"3703.21\" y=\"2252.83\" width=\"88.13\" height=\"24.60\" style=\"fill:none;stroke:#D7D29E;stroke-width:8.64\"/>\n",
       "\t<line x1=\"390.80\" y1=\"2281.75\" x2=\"390.80\" y2=\"92.45\" style=\"stroke:#000000;stroke-width:5.76\"/>\n",
       "\t<line x1=\"390.80\" y1=\"2281.75\" x2=\"350.83\" y2=\"2281.75\" style=\"stroke:#000000;stroke-width:5.76\"/>\n",
       "\t<text x=\"300.72\" y=\"2281.75\" style=\"font-family:'Helvetica';font-size:99.99px;fill:#000000\" transform=\"rotate(-90 300.72,2281.75)\" text-anchor=\"middle\">0</text>\n",
       "\t<line x1=\"390.80\" y1=\"1748.92\" x2=\"350.83\" y2=\"1748.92\" style=\"stroke:#000000;stroke-width:5.76\"/>\n",
       "\t<text x=\"300.72\" y=\"1748.92\" style=\"font-family:'Helvetica';font-size:99.99px;fill:#000000\" transform=\"rotate(-90 300.72,1748.92)\" text-anchor=\"middle\">10</text>\n",
       "\t<line x1=\"390.80\" y1=\"1216.09\" x2=\"350.83\" y2=\"1216.09\" style=\"stroke:#000000;stroke-width:5.76\"/>\n",
       "\t<text x=\"300.72\" y=\"1216.09\" style=\"font-family:'Helvetica';font-size:99.99px;fill:#000000\" transform=\"rotate(-90 300.72,1216.09)\" text-anchor=\"middle\">20</text>\n",
       "\t<line x1=\"390.80\" y1=\"683.26\" x2=\"350.83\" y2=\"683.26\" style=\"stroke:#000000;stroke-width:5.76\"/>\n",
       "\t<text x=\"300.72\" y=\"683.26\" style=\"font-family:'Helvetica';font-size:99.99px;fill:#000000\" transform=\"rotate(-90 300.72,683.26)\" text-anchor=\"middle\">30</text>\n",
       "\t<line x1=\"390.80\" y1=\"150.54\" x2=\"350.83\" y2=\"150.54\" style=\"stroke:#000000;stroke-width:5.76\"/>\n",
       "\t<text x=\"300.72\" y=\"150.54\" style=\"font-family:'Helvetica';font-size:99.99px;fill:#000000\" transform=\"rotate(-90 300.72,150.54)\" text-anchor=\"middle\">40</text>\n",
       "\t<text x=\"190.71\" y=\"1187.05\" style=\"font-family:'Helvetica';font-size:99.99px;fill:#000000\" transform=\"rotate(-90 190.71,1187.05)\" text-anchor=\"middle\">Percent</text>\n",
       "\t<line x1=\"390.80\" y1=\"2281.75\" x2=\"3859.02\" y2=\"2281.75\" style=\"stroke:#000000;stroke-width:5.76\"/>\n",
       "\t<line x1=\"502.55\" y1=\"2281.75\" x2=\"502.55\" y2=\"2318.39\" style=\"stroke:#000000;stroke-width:5.76\"/>\n",
       "\t<text x=\"502.55\" y=\"2400.88\" style=\"font-family:'Helvetica';font-size:99.99px;fill:#000000\" text-anchor=\"middle\">5</text>\n",
       "\t<line x1=\"1600.34\" y1=\"2281.75\" x2=\"1600.34\" y2=\"2318.39\" style=\"stroke:#000000;stroke-width:5.76\"/>\n",
       "\t<text x=\"1600.34\" y=\"2400.88\" style=\"font-family:'Helvetica';font-size:99.99px;fill:#000000\" text-anchor=\"middle\">10</text>\n",
       "\t<line x1=\"2698.00\" y1=\"2281.75\" x2=\"2698.00\" y2=\"2318.39\" style=\"stroke:#000000;stroke-width:5.76\"/>\n",
       "\t<text x=\"2698.00\" y=\"2400.88\" style=\"font-family:'Helvetica';font-size:99.99px;fill:#000000\" text-anchor=\"middle\">15</text>\n",
       "\t<line x1=\"3795.66\" y1=\"2281.75\" x2=\"3795.66\" y2=\"2318.39\" style=\"stroke:#000000;stroke-width:5.76\"/>\n",
       "\t<text x=\"3795.66\" y=\"2400.88\" style=\"font-family:'Helvetica';font-size:99.99px;fill:#000000\" text-anchor=\"middle\">20</text>\n",
       "\t<text x=\"2124.91\" y=\"2501.73\" style=\"font-family:'Helvetica';font-size:99.99px;fill:#000000\" text-anchor=\"middle\">educ</text>\n",
       "</svg>"
      ],
      "text/plain": [
       "<IPython.core.display.SVG object>"
      ]
     },
     "metadata": {},
     "output_type": "display_data"
    }
   ],
   "source": [
    "%%stata\n",
    "histogram educ, percent"
   ]
  },
  {
   "cell_type": "markdown",
   "id": "14e43c22",
   "metadata": {},
   "source": [
    "Create variable evermarried.  Will be 1 if the person was ever married between 1979-1994.  "
   ]
  },
  {
   "cell_type": "code",
   "execution_count": 189,
   "id": "46908d34",
   "metadata": {},
   "outputs": [
    {
     "name": "stdout",
     "output_type": "stream",
     "text": [
      "\n",
      "-------------------------------------------------------------------------------\n",
      "MARSTAT_KEY_1979                                              MARITAL STATUS 79\n",
      "-------------------------------------------------------------------------------\n",
      "\n",
      "                  Type: Numeric (float)\n",
      "                 Label: vlR0217501, but 1 nonmissing value is not labeled\n",
      "\n",
      "                 Range: [-3,3]                        Units: 1\n",
      "         Unique values: 5                         Missing .: 0/3,048\n",
      "\n",
      "            Tabulation: Freq.   Numeric  Label\n",
      "                            1        -3  \n",
      "                        2,768         0  NEVER MARRIED\n",
      "                          262         1  MARRIED\n",
      "                            9         2  SEPARATED\n",
      "                            8         3  DIVORCED\n",
      "\n",
      "-------------------------------------------------------------------------------\n",
      "MARSTAT_KEY_1980                                              MARITAL STATUS 80\n",
      "-------------------------------------------------------------------------------\n",
      "\n",
      "                  Type: Numeric (float)\n",
      "                 Label: vlR0405601, but 2 nonmissing values are not labeled\n",
      "\n",
      "                 Range: [-5,3]                        Units: 1\n",
      "         Unique values: 6                         Missing .: 0/3,048\n",
      "\n",
      "            Tabulation: Freq.   Numeric  Label\n",
      "                          134        -5  \n",
      "                            1        -3  \n",
      "                        2,522         0  NEVER MARRIED\n",
      "                          355         1  MARRIED\n",
      "                           17         2  SEPARATED\n",
      "                           19         3  DIVORCED\n",
      "\n",
      "-------------------------------------------------------------------------------\n",
      "MARSTAT_KEY_1981                                              MARITAL STATUS 81\n",
      "-------------------------------------------------------------------------------\n",
      "\n",
      "                  Type: Numeric (float)\n",
      "                 Label: vlR0618601, but 1 nonmissing value is not labeled\n",
      "\n",
      "                 Range: [-5,6]                        Units: 1\n",
      "         Unique values: 6                         Missing .: 0/3,048\n",
      "\n",
      "            Tabulation: Freq.   Numeric  Label\n",
      "                          140        -5  \n",
      "                        2,359         0  NEVER MARRIED\n",
      "                          490         1  MARRIED\n",
      "                           29         2  SEPARATED\n",
      "                           27         3  DIVORCED\n",
      "                            3         6  WIDOWED\n",
      "\n",
      "-------------------------------------------------------------------------------\n",
      "MARSTAT_KEY_1982                                              MARITAL STATUS 82\n",
      "-------------------------------------------------------------------------------\n",
      "\n",
      "                  Type: Numeric (float)\n",
      "                 Label: vlR0898401, but 2 nonmissing values are not labeled\n",
      "\n",
      "                 Range: [-5,6]                        Units: 1\n",
      "         Unique values: 7                         Missing .: 0/3,048\n",
      "\n",
      "            Tabulation: Freq.   Numeric  Label\n",
      "                          137        -5  \n",
      "                            2        -3  \n",
      "                        2,194         0  NEVER MARRIED\n",
      "                          627         1  MARRIED\n",
      "                           34         2  SEPARATED\n",
      "                           51         3  DIVORCED\n",
      "                            3         6  WIDOWED\n",
      "\n",
      "-------------------------------------------------------------------------------\n",
      "MARSTAT_KEY_1983                                              MARITAL STATUS 83\n",
      "-------------------------------------------------------------------------------\n",
      "\n",
      "                  Type: Numeric (float)\n",
      "                 Label: vlR1144901, but 1 nonmissing value is not labeled\n",
      "\n",
      "                 Range: [-5,6]                        Units: 1\n",
      "         Unique values: 6                         Missing .: 0/3,048\n",
      "\n",
      "            Tabulation: Freq.   Numeric  Label\n",
      "                          109        -5  \n",
      "                        2,005         0  NEVER MARRIED\n",
      "                          820         1  MARRIED\n",
      "                           48         2  SEPARATED\n",
      "                           63         3  DIVORCED\n",
      "                            3         6  WIDOWED\n",
      "\n",
      "-------------------------------------------------------------------------------\n",
      "MARSTAT_KEY_1984                                              MARITAL STATUS 84\n",
      "-------------------------------------------------------------------------------\n",
      "\n",
      "                  Type: Numeric (float)\n",
      "                 Label: vlR1520101, but 1 nonmissing value is not labeled\n",
      "\n",
      "                 Range: [-5,6]                        Units: 1\n",
      "         Unique values: 6                         Missing .: 0/3,048\n",
      "\n",
      "            Tabulation: Freq.   Numeric  Label\n",
      "                          170        -5  \n",
      "                        1,802         0  NEVER MARRIED\n",
      "                          924         1  MARRIED\n",
      "                           64         2  SEPARATED\n",
      "                           82         3  DIVORCED\n",
      "                            6         6  WIDOWED\n",
      "\n",
      "-------------------------------------------------------------------------------\n",
      "MARSTAT_KEY_1985                                              MARITAL STATUS 85\n",
      "-------------------------------------------------------------------------------\n",
      "\n",
      "                  Type: Numeric (float)\n",
      "                 Label: vlR1890801, but 1 nonmissing value is not labeled\n",
      "\n",
      "                 Range: [-5,6]                        Units: 1\n",
      "         Unique values: 6                         Missing .: 0/3,048\n",
      "\n",
      "            Tabulation: Freq.   Numeric  Label\n",
      "                          702        -5  \n",
      "                        1,434         0  NEVER MARRIED\n",
      "                          775         1  MARRIED\n",
      "                           40         2  SEPARATED\n",
      "                           95         3  DIVORCED\n",
      "                            2         6  WIDOWED\n",
      "\n",
      "-------------------------------------------------------------------------------\n",
      "MARSTAT_KEY_1986                                              MARITAL STATUS 86\n",
      "-------------------------------------------------------------------------------\n",
      "\n",
      "                  Type: Numeric (float)\n",
      "                 Label: vlR2257901, but 1 nonmissing value is not labeled\n",
      "\n",
      "                 Range: [-5,6]                        Units: 1\n",
      "         Unique values: 6                         Missing .: 0/3,048\n",
      "\n",
      "            Tabulation: Freq.   Numeric  Label\n",
      "                          759        -5  \n",
      "                        1,253         0  NEVER MARRIED\n",
      "                          883         1  MARRIED\n",
      "                           40         2  SEPARATED\n",
      "                          112         3  DIVORCED\n",
      "                            1         6  WIDOWED\n",
      "\n",
      "-------------------------------------------------------------------------------\n",
      "MARSTAT_KEY_1987                                              MARITAL STATUS 87\n",
      "-------------------------------------------------------------------------------\n",
      "\n",
      "                  Type: Numeric (float)\n",
      "                 Label: vlR2445301, but 1 nonmissing value is not labeled\n",
      "\n",
      "                 Range: [-5,6]                        Units: 1\n",
      "         Unique values: 6                         Missing .: 0/3,048\n",
      "\n",
      "            Tabulation: Freq.   Numeric  Label\n",
      "                          800        -5  \n",
      "                        1,071         0  NEVER MARRIED\n",
      "                        1,006         1  MARRIED\n",
      "                           44         2  SEPARATED\n",
      "                          126         3  DIVORCED\n",
      "                            1         6  WIDOWED\n",
      "\n",
      "-------------------------------------------------------------------------------\n",
      "MARSTAT_KEY_1988                                              MARITAL STATUS 88\n",
      "-------------------------------------------------------------------------------\n",
      "\n",
      "                  Type: Numeric (float)\n",
      "                 Label: vlR2871000, but 2 nonmissing values are not labeled\n",
      "\n",
      "                 Range: [-5,3]                        Units: 1\n",
      "         Unique values: 6                         Missing .: 0/3,048\n",
      "\n",
      "            Tabulation: Freq.   Numeric  Label\n",
      "                          795        -5  \n",
      "                            1        -4  \n",
      "                          903         0  NEVER MARRIED\n",
      "                        1,145         1  MARRIED\n",
      "                           58         2  SEPARATED\n",
      "                          146         3  DIVORCED\n",
      "\n",
      "-------------------------------------------------------------------------------\n",
      "MARSTAT_KEY_1989                                              MARITAL STATUS 89\n",
      "-------------------------------------------------------------------------------\n",
      "\n",
      "                  Type: Numeric (float)\n",
      "                 Label: vlR3074700, but 1 nonmissing value is not labeled\n",
      "\n",
      "                 Range: [-5,3]                        Units: 1\n",
      "         Unique values: 5                         Missing .: 0/3,048\n",
      "\n",
      "            Tabulation: Freq.   Numeric  Label\n",
      "                          794        -5  \n",
      "                          811         0  NEVER MARRIED\n",
      "                        1,223         1  MARRIED\n",
      "                           44         2  SEPARATED\n",
      "                          176         3  DIVORCED\n",
      "\n",
      "-------------------------------------------------------------------------------\n",
      "MARSTAT_KEY_1990                                              MARITAL STATUS 90\n",
      "-------------------------------------------------------------------------------\n",
      "\n",
      "                  Type: Numeric (float)\n",
      "                 Label: vlR3401400, but 2 nonmissing values are not labeled\n",
      "\n",
      "                 Range: [-5,6]                        Units: 1\n",
      "         Unique values: 7                         Missing .: 0/3,048\n",
      "\n",
      "            Tabulation: Freq.   Numeric  Label\n"
     ]
    },
    {
     "name": "stdout",
     "output_type": "stream",
     "text": [
      "                          821        -5  \n",
      "                            1        -3  \n",
      "                          707         0  NEVER MARRIED\n",
      "                        1,273         1  MARRIED\n",
      "                           59         2  SEPARATED\n",
      "                          186         3  DIVORCED\n",
      "                            1         6  WIDOWED\n",
      "\n",
      "-------------------------------------------------------------------------------\n",
      "MARSTAT_KEY_1991                                              MARITAL STATUS 91\n",
      "-------------------------------------------------------------------------------\n",
      "\n",
      "                  Type: Numeric (float)\n",
      "                 Label: vlR3656800, but 1 nonmissing value is not labeled\n",
      "\n",
      "                 Range: [-5,6]                        Units: 1\n",
      "         Unique values: 6                         Missing .: 0/3,048\n",
      "\n",
      "            Tabulation: Freq.   Numeric  Label\n",
      "                          793        -5  \n",
      "                          651         0  NEVER MARRIED\n",
      "                        1,342         1  MARRIED\n",
      "                           58         2  SEPARATED\n",
      "                          203         3  DIVORCED\n",
      "                            1         6  WIDOWED\n",
      "\n",
      "-------------------------------------------------------------------------------\n",
      "MARSTAT_KEY_1992                                              MARITAL STATUS 92\n",
      "-------------------------------------------------------------------------------\n",
      "\n",
      "                  Type: Numeric (float)\n",
      "                 Label: vlR4007300, but 1 nonmissing value is not labeled\n",
      "\n",
      "                 Range: [-5,6]                        Units: 1\n",
      "         Unique values: 6                         Missing .: 0/3,048\n",
      "\n",
      "            Tabulation: Freq.   Numeric  Label\n",
      "                          796        -5  \n",
      "                          593         0  NEVER MARRIED\n",
      "                        1,384         1  MARRIED\n",
      "                           59         2  SEPARATED\n",
      "                          214         3  DIVORCED\n",
      "                            2         6  WIDOWED\n",
      "\n",
      "-------------------------------------------------------------------------------\n",
      "MARSTAT_KEY_1993                                              MARITAL STATUS 93\n",
      "-------------------------------------------------------------------------------\n",
      "\n",
      "                  Type: Numeric (float)\n",
      "                 Label: vlR4418400, but 1 nonmissing value is not labeled\n",
      "\n",
      "                 Range: [-5,6]                        Units: 1\n",
      "         Unique values: 6                         Missing .: 0/3,048\n",
      "\n",
      "            Tabulation: Freq.   Numeric  Label\n",
      "                          808        -5  \n",
      "                          530         0  NEVER MARRIED\n",
      "                        1,406         1  MARRIED\n",
      "                           74         2  SEPARATED\n",
      "                          228         3  DIVORCED\n",
      "                            2         6  WIDOWED\n",
      "\n",
      "-------------------------------------------------------------------------------\n",
      "MARSTAT_KEY_1994                                              MARITAL STATUS 94\n",
      "-------------------------------------------------------------------------------\n",
      "\n",
      "                  Type: Numeric (float)\n",
      "                 Label: vlR5081400, but 1 nonmissing value is not labeled\n",
      "\n",
      "                 Range: [-5,6]                        Units: 1\n",
      "         Unique values: 6                         Missing .: 0/3,048\n",
      "\n",
      "            Tabulation: Freq.   Numeric  Label\n",
      "                          830        -5  \n",
      "                          490         0  0: 0  NEVER MARRIED\n",
      "                        1,404         1  1: 1  MARRIED\n",
      "                           73         2  2: 2  SEPARATED\n",
      "                          249         3  3: 3  DIVORCED\n",
      "                            2         6  6: 6  WIDOWED\n",
      "\n",
      "-------------------------------------------------------------------------------\n",
      "MARSTAT_KEY_1996                                              MARITAL STATUS 96\n",
      "-------------------------------------------------------------------------------\n",
      "\n",
      "                  Type: Numeric (float)\n",
      "                 Label: vlR5166700, but 1 nonmissing value is not labeled\n",
      "\n",
      "                 Range: [-5,6]                        Units: 1\n",
      "         Unique values: 6                         Missing .: 0/3,048\n",
      "\n",
      "            Tabulation: Freq.   Numeric  Label\n",
      "                          895        -5  \n",
      "                          412         0  0: NEVER MARRIED\n",
      "                        1,398         1  1: MARRIED\n",
      "                           55         2  2: SEPARATED\n",
      "                          284         3  3: DIVORCED\n",
      "                            4         6  6: WIDOWED\n",
      "\n",
      "-------------------------------------------------------------------------------\n",
      "MARSTAT_KEY_1998                                            MARITAL STATUS 1998\n",
      "-------------------------------------------------------------------------------\n",
      "\n",
      "                  Type: Numeric (float)\n",
      "                 Label: vlR6479300, but 1 nonmissing value is not labeled\n",
      "\n",
      "                 Range: [-5,6]                        Units: 1\n",
      "         Unique values: 6                         Missing .: 0/3,048\n",
      "\n",
      "            Tabulation: Freq.   Numeric  Label\n",
      "                          975        -5  \n",
      "                          339         0  Never Married\n",
      "                        1,399         1  Married\n",
      "                           52         2  Separated\n",
      "                          278         3  Divorced\n",
      "                            5         6  Widowed\n",
      "\n",
      "-------------------------------------------------------------------------------\n",
      "MARSTAT_KEY_2000                                            MARITAL STATUS 2000\n",
      "-------------------------------------------------------------------------------\n",
      "\n",
      "                  Type: Numeric (float)\n",
      "                 Label: vlR7007000, but 2 nonmissing values are not labeled\n",
      "\n",
      "                 Range: [-5,6]                        Units: 1\n",
      "         Unique values: 7                         Missing .: 0/3,048\n",
      "\n",
      "            Tabulation: Freq.   Numeric  Label\n",
      "                        1,058        -5  \n",
      "                            2        -3  \n",
      "                          296         0  Never Married\n",
      "                        1,356         1  Married\n",
      "                           62         2  Separated\n",
      "                          269         3  Divorced\n",
      "                            5         6  Widowed\n"
     ]
    }
   ],
   "source": [
    "%%stata\n",
    "codebook MARSTAT_KEY_*"
   ]
  },
  {
   "cell_type": "markdown",
   "id": "91034911",
   "metadata": {},
   "source": [
    "Values less than 0 are error codes.  Values 1 or higher indicated the respondent is currently or was previously married and is now either separated, divorced or widowed."
   ]
  },
  {
   "cell_type": "code",
   "execution_count": 190,
   "id": "73c83abd",
   "metadata": {},
   "outputs": [
    {
     "name": "stdout",
     "output_type": "stream",
     "text": [
      "\n",
      ". /* \n",
      "> Find highest value for married.  Once respondent is above 0 then they\n",
      ">     are considered have been married.\n",
      "> */\n",
      ". egen everMarried =rowmax(MARSTAT_KEY_*)\n",
      "\n",
      ". \n",
      ". // Replace error codes with Stata missing value indicator\n",
      ". replace everMarried=. if everMarried < 0\n",
      "(0 real changes made)\n",
      "\n",
      ". \n",
      ". // Set everMarried parameter to 1 if person was ever married.\n",
      ". replace everMarried=(everMarried>0)\n",
      "(845 real changes made)\n",
      "\n",
      ". \n",
      ". tab everMarried\n",
      "\n",
      "everMarried |      Freq.     Percent        Cum.\n",
      "------------+-----------------------------------\n",
      "          0 |        656       21.52       21.52\n",
      "          1 |      2,392       78.48      100.00\n",
      "------------+-----------------------------------\n",
      "      Total |      3,048      100.00\n",
      "\n",
      ". \n"
     ]
    }
   ],
   "source": [
    "%%stata\n",
    "/* \n",
    "Find highest value for married.  Once respondent is above 0 then they\n",
    "    are considered have been married.\n",
    "*/\n",
    "egen everMarried =rowmax(MARSTAT_KEY_*)\n",
    "\n",
    "// Replace error codes with Stata missing value indicator\n",
    "replace everMarried=. if everMarried < 0\n",
    "\n",
    "// Set everMarried parameter to 1 if person was ever married.\n",
    "replace everMarried=(everMarried>0)\n",
    "\n",
    "tab everMarried"
   ]
  },
  {
   "cell_type": "markdown",
   "id": "6334f27b",
   "metadata": {},
   "source": [
    "Create momSchool. This is the highest grade of mother's years of schooling in 1979."
   ]
  },
  {
   "cell_type": "code",
   "execution_count": 191,
   "id": "f8fc89ce",
   "metadata": {},
   "outputs": [
    {
     "name": "stdout",
     "output_type": "stream",
     "text": [
      "\n",
      ". codebook HGC_MOTHER_1979\n",
      "\n",
      "-------------------------------------------------------------------------------\n",
      "HGC_MOTHER_1979                                             HGC BY RS MOTHER 79\n",
      "-------------------------------------------------------------------------------\n",
      "\n",
      "                  Type: Numeric (float)\n",
      "                 Label: vlR0006500, but 3 nonmissing values are not labeled\n",
      "\n",
      "                 Range: [-4,20]                       Units: 1\n",
      "         Unique values: 22                        Missing .: 0/3,048\n",
      "\n",
      "              Examples: 10    10TH GRADE\n",
      "                        12    12TH GRADE\n",
      "                        12    12TH GRADE\n",
      "                        13    1ST YR COL\n",
      "\n",
      ". label list vlR0006500\n",
      "vlR0006500:\n",
      "           0 NONE\n",
      "           1 1ST GRADE\n",
      "           2 2ND GRADE\n",
      "           3 3RD GRADE\n",
      "           4 4TH GRADE\n",
      "           5 5TH GRADE\n",
      "           6 6TH GRADE\n",
      "           7 7TH GRADE\n",
      "           8 8TH GRADE\n",
      "           9 9TH GRADE\n",
      "          10 10TH GRADE\n",
      "          11 11TH GRADE\n",
      "          12 12TH GRADE\n",
      "          13 1ST YR COL\n",
      "          14 2ND YR COL\n",
      "          15 3RD YR COL\n",
      "          16 4TH YR COL\n",
      "          17 5TH YR COL\n",
      "          18 6TH YR COL\n",
      "          19 7TH YR COL\n",
      "          20 8TH YR COL OR MORE\n",
      "          95 UNGRADED\n",
      "\n",
      ". summarize HGC_MOTHER_1979\n",
      "\n",
      "    Variable |        Obs        Mean    Std. dev.       Min        Max\n",
      "-------------+---------------------------------------------------------\n",
      "HGC_MOT~1979 |      3,048     11.2956    3.783988         -4         20\n",
      "\n",
      ". \n"
     ]
    }
   ],
   "source": [
    "%%stata\n",
    "codebook HGC_MOTHER_1979\n",
    "label list vlR0006500\n",
    "summarize HGC_MOTHER_1979"
   ]
  },
  {
   "cell_type": "code",
   "execution_count": 192,
   "id": "aafb18d1",
   "metadata": {},
   "outputs": [
    {
     "name": "stdout",
     "output_type": "stream",
     "text": [
      "\n",
      ". generate momSchool=HGC_MOTHER_1979\n",
      "\n",
      ". replace momSchool=. if HGC_MOTHER_1979<0\n",
      "(138 real changes made, 138 to missing)\n",
      "\n",
      ". summarize momSchool\n",
      "\n",
      "    Variable |        Obs        Mean    Std. dev.       Min        Max\n",
      "-------------+---------------------------------------------------------\n",
      "   momSchool |      2,910    11.94845    2.359148          0         20\n",
      "\n",
      ". \n"
     ]
    }
   ],
   "source": [
    "%%stata\n",
    "generate momSchool=HGC_MOTHER_1979\n",
    "replace momSchool=. if HGC_MOTHER_1979<0\n",
    "summarize momSchool"
   ]
  },
  {
   "cell_type": "markdown",
   "id": "e2e9a4fd",
   "metadata": {},
   "source": [
    "Generate momSkilled.  This will be 1 if the mother's occupation code is classified as professional/managerial."
   ]
  },
  {
   "cell_type": "code",
   "execution_count": 193,
   "id": "b4d0c992",
   "metadata": {},
   "outputs": [
    {
     "name": "stdout",
     "output_type": "stream",
     "text": [
      "\n",
      ". codebook FAMOCC_19_1979\n",
      "\n",
      "-------------------------------------------------------------------------------\n",
      "FAMOCC_19_1979                           OCC OF LNGST JOB 78 STEP/MOTHERS 3D 79\n",
      "-------------------------------------------------------------------------------\n",
      "\n",
      "                  Type: Numeric (float)\n",
      "                 Label: vlR0006900, but 193 nonmissing values are not labeled\n",
      "\n",
      "                 Range: [-4,984]                      Units: 1\n",
      "         Unique values: 193                       Missing .: 0/3,048\n",
      "\n",
      "              Examples: -4    \n",
      "                        -3    \n",
      "                        310   \n",
      "                        621   \n",
      "\n",
      ". label list vlR0006900\n",
      "vlR0006900:\n",
      "           0 0: 00      NONE\n",
      "         990 990: 990     SAME AS PRESENT JOB\n",
      "         995 995: 995     DID NOT WORK\n",
      "         996 996: 996     NEVER WORKED\n",
      "\n",
      ". \n"
     ]
    }
   ],
   "source": [
    "%%stata\n",
    "codebook FAMOCC_19_1979\n",
    "label list vlR0006900"
   ]
  },
  {
   "cell_type": "code",
   "execution_count": 194,
   "id": "77dbd69e",
   "metadata": {},
   "outputs": [
    {
     "name": "stdout",
     "output_type": "stream",
     "text": [
      "\n",
      "    Variable |        Obs        Mean    Std. dev.       Min        Max\n",
      "-------------+---------------------------------------------------------\n",
      "FAMOCC_19_~9 |      1,257   -3.932379    .3055383         -4         -1\n"
     ]
    }
   ],
   "source": [
    "%%stata\n",
    "summarize FAMOCC_19_1979 if FAMOCC_19_1979 < 0"
   ]
  },
  {
   "cell_type": "markdown",
   "id": "472ba5b2",
   "metadata": {},
   "source": [
    "Codes 1-245 are considered professional/managerial. Negative values are error codes."
   ]
  },
  {
   "cell_type": "code",
   "execution_count": 195,
   "id": "4e113b57",
   "metadata": {},
   "outputs": [
    {
     "name": "stdout",
     "output_type": "stream",
     "text": [
      "\n",
      ". generate momSkilled = FAMOCC_19_1979\n",
      "\n",
      ". replace momSkilled=. if FAMOCC_19_1979 < 0\n",
      "(1,257 real changes made, 1,257 to missing)\n",
      "\n",
      ". replace momSkilled= 1 if (momSkilled <= 245 & momSkilled!=.)\n",
      "(339 real changes made)\n",
      "\n",
      ". replace momSkilled= 0 if (momSkilled > 245 & momSkilled!=.)\n",
      "(1,438 real changes made)\n",
      "\n",
      ". tab momSkilled\n",
      "\n",
      " momSkilled |      Freq.     Percent        Cum.\n",
      "------------+-----------------------------------\n",
      "          0 |      1,438       80.29       80.29\n",
      "          1 |        353       19.71      100.00\n",
      "------------+-----------------------------------\n",
      "      Total |      1,791      100.00\n",
      "\n",
      ". \n"
     ]
    }
   ],
   "source": [
    "%%stata\n",
    "generate momSkilled = FAMOCC_19_1979\n",
    "replace momSkilled=. if FAMOCC_19_1979 < 0\n",
    "replace momSkilled= 1 if (momSkilled <= 245 & momSkilled!=.)\n",
    "replace momSkilled= 0 if (momSkilled > 245 & momSkilled!=.)\n",
    "tab momSkilled"
   ]
  },
  {
   "cell_type": "markdown",
   "id": "d808b384",
   "metadata": {},
   "source": [
    "Create dadSchool and dadSkilled. Job codes 1-245 are considered professional/managerial."
   ]
  },
  {
   "cell_type": "code",
   "execution_count": 196,
   "id": "0e5240dc",
   "metadata": {},
   "outputs": [
    {
     "name": "stdout",
     "output_type": "stream",
     "text": [
      "\n",
      "-------------------------------------------------------------------------------\n",
      "HGC_FATHER_1979                                             HGC BY RS FATHER 79\n",
      "-------------------------------------------------------------------------------\n",
      "\n",
      "                  Type: Numeric (float)\n",
      "                 Label: vlR0007900, but 3 nonmissing values are not labeled\n",
      "\n",
      "                 Range: [-4,20]                       Units: 1\n",
      "         Unique values: 24                        Missing .: 0/3,048\n",
      "\n",
      "              Examples: 9     9TH GRADE\n",
      "                        12    12TH GRADE\n",
      "                        12    12TH GRADE\n",
      "                        15    3RD YR COL\n",
      "\n",
      "-------------------------------------------------------------------------------\n",
      "FAMOCC_26_1979                           OCC OF LNGST JOB 78 STEP/FATHERS 3D 79\n",
      "-------------------------------------------------------------------------------\n",
      "\n",
      "                  Type: Numeric (float)\n",
      "                 Label: vlR0008300, but 267 nonmissing values are not labeled\n",
      "\n",
      "                 Range: [-4,965]                      Units: 1\n",
      "         Unique values: 267                       Missing .: 0/3,048\n",
      "\n",
      "              Examples: 12    \n",
      "                        245   \n",
      "                        441   \n",
      "                        661   \n"
     ]
    }
   ],
   "source": [
    "%%stata\n",
    "codebook HGC_FATHER_1979 FAMOCC_26_1979"
   ]
  },
  {
   "cell_type": "code",
   "execution_count": 197,
   "id": "490a8a39",
   "metadata": {},
   "outputs": [
    {
     "name": "stdout",
     "output_type": "stream",
     "text": [
      "\n",
      ". // Dad's education level\n",
      ". generate dadSchool=HGC_FATHER_1979\n",
      "\n",
      ". replace dadSchool=. if HGC_FATHER_1979<0\n",
      "(210 real changes made, 210 to missing)\n",
      "\n",
      ". summarize dadSchool\n",
      "\n",
      "    Variable |        Obs        Mean    Std. dev.       Min        Max\n",
      "-------------+---------------------------------------------------------\n",
      "   dadSchool |      2,838    12.21318    3.319548          0         20\n",
      "\n",
      ". \n",
      ". // Create dummy indicating whether dad is a skilled worker\n",
      ". generate dadSkilled = FAMOCC_26_1979  \n",
      "\n",
      ". replace dadSkilled=. if FAMOCC_26_1979   < 0\n",
      "(527 real changes made, 527 to missing)\n",
      "\n",
      ". replace dadSkilled= 1 if (dadSkilled <= 245 & dadSkilled!=.)\n",
      "(785 real changes made)\n",
      "\n",
      ". replace dadSkilled= 0 if (dadSkilled > 245 & dadSkilled!=.)\n",
      "(1,709 real changes made)\n",
      "\n",
      ". tab dadSkilled\n",
      "\n",
      " dadSkilled |      Freq.     Percent        Cum.\n",
      "------------+-----------------------------------\n",
      "          0 |      1,709       67.79       67.79\n",
      "          1 |        812       32.21      100.00\n",
      "------------+-----------------------------------\n",
      "      Total |      2,521      100.00\n",
      "\n",
      ". \n"
     ]
    }
   ],
   "source": [
    "%%stata\n",
    "// Dad's education level\n",
    "generate dadSchool=HGC_FATHER_1979\n",
    "replace dadSchool=. if HGC_FATHER_1979<0\n",
    "summarize dadSchool\n",
    "\n",
    "// Create dummy indicating whether dad is a skilled worker\n",
    "generate dadSkilled = FAMOCC_26_1979  \n",
    "replace dadSkilled=. if FAMOCC_26_1979   < 0\n",
    "replace dadSkilled= 1 if (dadSkilled <= 245 & dadSkilled!=.)\n",
    "replace dadSkilled= 0 if (dadSkilled > 245 & dadSkilled!=.)\n",
    "tab dadSkilled"
   ]
  },
  {
   "cell_type": "markdown",
   "id": "cf2a0a84",
   "metadata": {},
   "source": [
    "Create siblings which is equal to FAM_28A_1979. Negative values indicate invalid/lack of responses."
   ]
  },
  {
   "cell_type": "code",
   "execution_count": 198,
   "id": "01059232",
   "metadata": {},
   "outputs": [
    {
     "name": "stdout",
     "output_type": "stream",
     "text": [
      "\n",
      ". codebook FAM_28A_1979\n",
      "\n",
      "-------------------------------------------------------------------------------\n",
      "FAM_28A_1979                                                       # OF SIBS 79\n",
      "-------------------------------------------------------------------------------\n",
      "\n",
      "                  Type: Numeric (float)\n",
      "                 Label: vlR0009100, but 18 nonmissing values are not labeled\n",
      "\n",
      "                 Range: [0,17]                        Units: 1\n",
      "         Unique values: 18                        Missing .: 0/3,048\n",
      "\n",
      "              Examples: 1     \n",
      "                        2     \n",
      "                        3     \n",
      "                        4     \n",
      "\n",
      ". generate siblings=FAM_28A_1979\n",
      "\n",
      ". replace siblings=. if siblings<0\n",
      "(0 real changes made)\n",
      "\n",
      ". summarize siblings\n",
      "\n",
      "    Variable |        Obs        Mean    Std. dev.       Min        Max\n",
      "-------------+---------------------------------------------------------\n",
      "    siblings |      3,048    3.083005    2.055674          0         17\n",
      "\n",
      ". \n"
     ]
    }
   ],
   "source": [
    "%%stata\n",
    "codebook FAM_28A_1979\n",
    "generate siblings=FAM_28A_1979\n",
    "replace siblings=. if siblings<0\n",
    "summarize siblings"
   ]
  },
  {
   "cell_type": "markdown",
   "id": "5df68407",
   "metadata": {},
   "source": [
    "Generate finalSample variable.  This indicates that on the necessary observations are available in the data."
   ]
  },
  {
   "cell_type": "code",
   "execution_count": 199,
   "id": "b160ffc0",
   "metadata": {},
   "outputs": [
    {
     "name": "stdout",
     "output_type": "stream",
     "text": [
      "\n",
      ". generate finalSample=(height81!=. & height85!=. & age96!=. & ///\n",
      ">                      momSchool!=. & momSkilled!=. & ///\n",
      ">                      dadSchool!=. & dadSkilled!=. & ///\n",
      ">                      siblings!=. & lnWage !=.)\n",
      "\n",
      ". tab finalSample\n",
      "\n",
      "finalSample |      Freq.     Percent        Cum.\n",
      "------------+-----------------------------------\n",
      "          0 |      2,158       70.80       70.80\n",
      "          1 |        890       29.20      100.00\n",
      "------------+-----------------------------------\n",
      "      Total |      3,048      100.00\n",
      "\n",
      ". \n"
     ]
    }
   ],
   "source": [
    "%%stata\n",
    "generate finalSample=(height81!=. & height85!=. & age96!=. & ///\n",
    "                     momSchool!=. & momSkilled!=. & ///\n",
    "                     dadSchool!=. & dadSkilled!=. & ///\n",
    "                     siblings!=. & lnWage !=.)\n",
    "tab finalSample"
   ]
  },
  {
   "cell_type": "code",
   "execution_count": 200,
   "id": "52a98b12",
   "metadata": {},
   "outputs": [
    {
     "name": "stdout",
     "output_type": "stream",
     "text": [
      "\n",
      ". // Create macro for family characteristics\n",
      ". global family \"age96 momSchool momSkilled dadSchool dadSkilled siblings everM\n",
      "> arried\"\n",
      "\n",
      ". summarize $family\n",
      "\n",
      "    Variable |        Obs        Mean    Std. dev.       Min        Max\n",
      "-------------+---------------------------------------------------------\n",
      "       age96 |      3,048    35.04101    2.363981         31         39\n",
      "   momSchool |      2,910    11.94845    2.359148          0         20\n",
      "  momSkilled |      1,791    .1970966     .397917          0          1\n",
      "   dadSchool |      2,838    12.21318    3.319548          0         20\n",
      "  dadSkilled |      2,521    .3220944    .4673716          0          1\n",
      "-------------+---------------------------------------------------------\n",
      "    siblings |      3,048    3.083005    2.055674          0         17\n",
      " everMarried |      3,048    .7847769    .4110445          0          1\n",
      "\n",
      ". \n"
     ]
    }
   ],
   "source": [
    "%%stata\n",
    "// Create macro for family characteristics\n",
    "global family \"age96 momSchool momSkilled dadSchool dadSkilled siblings everMarried\"\n",
    "summarize $family"
   ]
  },
  {
   "cell_type": "code",
   "execution_count": 218,
   "id": "57ad208a",
   "metadata": {},
   "outputs": [
    {
     "name": "stdout",
     "output_type": "stream",
     "text": [
      "\n",
      ". global adjX \"momSchool momSkilled dadSchool dadSkilled siblings\"\n",
      "\n",
      ". global criteria \"finalSample==1 & fulltime==1\"\n",
      "\n",
      ". \n"
     ]
    }
   ],
   "source": [
    "%%stata\n",
    "global adjX \"momSchool momSkilled dadSchool dadSkilled siblings\"\n",
    "global criteria \"finalSample==1 & fulltime==1\""
   ]
  },
  {
   "cell_type": "markdown",
   "id": "ef1d12bb",
   "metadata": {},
   "source": [
    "Generate modified Table 1 for unrestricted sample and finalSample ==1"
   ]
  },
  {
   "cell_type": "code",
   "execution_count": 201,
   "id": "6141b17c",
   "metadata": {},
   "outputs": [
    {
     "name": "stdout",
     "output_type": "stream",
     "text": [
      "\n",
      ". // Unrestricted sample\n",
      ". tabstat height81 height85 deltaHeight, statistics(mean q n sd) \n",
      "\n",
      "   Stats |  height81  height85  deltaH~t\n",
      "---------+------------------------------\n",
      "    Mean |  70.34552   70.6402  .2889084\n",
      "     p25 |        69        69         0\n",
      "     p50 |        71        71         0\n",
      "     p75 |        72        72         1\n",
      "       N |      2900      2343      2281\n",
      "      SD |  2.819987  2.778447  1.435852\n",
      "----------------------------------------\n",
      "\n",
      ". \n",
      ". // Restricted to finalSample == 1\n",
      ". tabstat height81 height85 deltaHeight if finalSample==1, statistics(mean q n \n",
      "> sd) \n",
      "\n",
      "   Stats |  height81  height85  deltaH~t\n",
      "---------+------------------------------\n",
      "    Mean |  70.34831  70.72472  .3764045\n",
      "     p25 |        69        69         0\n",
      "     p50 |        71        71         0\n",
      "     p75 |        72        72         1\n",
      "       N |       890       890       890\n",
      "      SD |  2.897581  2.737392  1.485174\n",
      "----------------------------------------\n",
      "\n",
      ". \n"
     ]
    }
   ],
   "source": [
    "%%stata\n",
    "// Unrestricted sample\n",
    "tabstat height81 height85 deltaHeight, statistics(mean q n sd) \n",
    "\n",
    "// Restricted to finalSample == 1\n",
    "tabstat height81 height85 deltaHeight if finalSample==1, statistics(mean q n sd) "
   ]
  },
  {
   "cell_type": "markdown",
   "id": "c9f7ee3d",
   "metadata": {},
   "source": [
    "Generate Modified table 2 that displays characteristics by above/below median height."
   ]
  },
  {
   "cell_type": "code",
   "execution_count": 202,
   "id": "92e7146b",
   "metadata": {},
   "outputs": [
    {
     "name": "stdout",
     "output_type": "stream",
     "text": [
      "\n",
      ". // Generate aboveMedian\n",
      ". generate aboveMedian=(height85>71)\n",
      "\n",
      ". \n"
     ]
    }
   ],
   "source": [
    "%%stata\n",
    "// Generate aboveMedian\n",
    "generate aboveMedian=(height85>71)"
   ]
  },
  {
   "cell_type": "code",
   "execution_count": 225,
   "id": "62170622",
   "metadata": {},
   "outputs": [
    {
     "name": "stdout",
     "output_type": "stream",
     "text": [
      "\n",
      ". // Generate information for the table\n",
      ". tabstat height81 height85 lnWage $family if $criteria, /// \n",
      ">     by(aboveMedian) statistics(mean sd n)\n",
      "\n",
      "Summary statistics: Mean, SD, N\n",
      "Group variable: aboveMedian \n",
      "\n",
      "aboveMedian |  height81  height85    lnWage     age96  momSch~l  momSki~d\n",
      "------------+------------------------------------------------------------\n",
      "          0 |  68.59792   68.8125  2.613508   34.4375  12.26042     .1875\n",
      "            |  2.306113  2.041902  .6007802  2.238459  2.455639  .3907196\n",
      "            |       480       480       480       480       480       480\n",
      "------------+------------------------------------------------------------\n",
      "          1 |  72.51842  73.09474  2.711577  34.48421  12.49474  .2157895\n",
      "            |  1.917061  1.269273  .6102725  2.319417  2.094716  .4119113\n",
      "            |       380       380       380       380       380       380\n",
      "------------+------------------------------------------------------------\n",
      "      Total |  70.33023  70.70465  2.656841  34.45814  12.36395        .2\n",
      "            |  2.895184  2.750168  .6065998   2.27337  2.304796  .4002328\n",
      "            |       860       860       860       860       860       860\n",
      "-------------------------------------------------------------------------\n",
      "\n",
      "aboveMedian |  dadSch~l  dadSki~d  siblings  everMa~d\n",
      "------------+----------------------------------------\n",
      "          0 |  12.49792    .31875  2.660417  .8666667\n",
      "            |  3.218552  .4664781  1.633194  .3402893\n",
      "            |       480       480       480       480\n",
      "------------+----------------------------------------\n",
      "          1 |  12.86316       .35  2.636842  .8973684\n",
      "            |  3.090066  .4775984  1.574772  .3038772\n",
      "            |       380       380       380       380\n",
      "------------+----------------------------------------\n",
      "      Total |   12.6593  .3325581      2.65  .8802326\n",
      "            |  3.165805  .4714039  1.606756  .3248783\n",
      "            |       860       860       860       860\n",
      "-----------------------------------------------------\n",
      "\n",
      ". \n"
     ]
    }
   ],
   "source": [
    "%%stata\n",
    "// Generate information for the table\n",
    "tabstat height81 height85 lnWage $family if $criteria, /// \n",
    "    by(aboveMedian) statistics(mean sd n)"
   ]
  },
  {
   "cell_type": "code",
   "execution_count": 224,
   "id": "806dd77d",
   "metadata": {},
   "outputs": [
    {
     "name": "stdout",
     "output_type": "stream",
     "text": [
      "\n",
      ". quietly foreach var of varlist height81 height85 lnWage $family{ \n",
      "\n",
      ". esttab height81Diff height85Diff age96Diff lnWageDiff, ///\n",
      ">     keep(1.aboveMedian) se\n",
      "\n",
      "----------------------------------------------------------------------------\n",
      "                      (1)             (2)             (3)             (4)   \n",
      "                 height81        height85           age96          lnWage   \n",
      "----------------------------------------------------------------------------\n",
      "1.aboveMed~n        3.921***        4.282***       0.0467          0.0981*  \n",
      "                  (0.144)         (0.114)         (0.157)        (0.0416)   \n",
      "----------------------------------------------------------------------------\n",
      "N                     860             860             860             860   \n",
      "----------------------------------------------------------------------------\n",
      "Standard errors in parentheses\n",
      "* p<0.05, ** p<0.01, *** p<0.001\n",
      "\n",
      ".     \n",
      ". esttab everMarriedDiff momSchoolDiff momSkilledDiff, ///\n",
      ">     keep(1.aboveMedian) se\n",
      "\n",
      "------------------------------------------------------------\n",
      "                      (1)             (2)             (3)   \n",
      "              everMarried       momSchool      momSkilled   \n",
      "------------------------------------------------------------\n",
      "1.aboveMed~n       0.0307           0.234          0.0283   \n",
      "                 (0.0220)         (0.155)        (0.0276)   \n",
      "------------------------------------------------------------\n",
      "N                     860             860             860   \n",
      "------------------------------------------------------------\n",
      "Standard errors in parentheses\n",
      "* p<0.05, ** p<0.01, *** p<0.001\n",
      "\n",
      ". \n",
      ". esttab dadSchoolDiff dadSkilledDiff, ///\n",
      ">     keep(1.aboveMedian) se\n",
      "\n",
      "--------------------------------------------\n",
      "                      (1)             (2)   \n",
      "                dadSchool      dadSkilled   \n",
      "--------------------------------------------\n",
      "1.aboveMed~n        0.365          0.0312   \n",
      "                  (0.216)        (0.0325)   \n",
      "--------------------------------------------\n",
      "N                     860             860   \n",
      "--------------------------------------------\n",
      "Standard errors in parentheses\n",
      "* p<0.05, ** p<0.01, *** p<0.001\n",
      "\n",
      ". \n"
     ]
    }
   ],
   "source": [
    "%%stata\n",
    "quietly foreach var of varlist height81 height85 lnWage $family{ \n",
    "    regress `var' i.aboveMedian if $criteria, robust\n",
    "    eststo `var'Diff\n",
    "}\n",
    "esttab height81Diff height85Diff age96Diff lnWageDiff, ///\n",
    "    keep(1.aboveMedian) se\n",
    "    \n",
    "esttab everMarriedDiff momSchoolDiff momSkilledDiff, ///\n",
    "    keep(1.aboveMedian) se\n",
    "\n",
    "esttab dadSchoolDiff dadSkilledDiff, ///\n",
    "    keep(1.aboveMedian) se"
   ]
  },
  {
   "cell_type": "markdown",
   "id": "2403b135",
   "metadata": {},
   "source": [
    "## Generate Estimates Table 3 (Estimates 5-8)"
   ]
  },
  {
   "cell_type": "code",
   "execution_count": 219,
   "id": "c715f6f0",
   "metadata": {},
   "outputs": [
    {
     "name": "stdout",
     "output_type": "stream",
     "text": [
      "\n",
      ". \n",
      ". regress lnWage height85 age96 if $criteria, robust\n",
      "\n",
      "Linear regression                               Number of obs     =        860\n",
      "                                                F(2, 857)         =      12.33\n",
      "                                                Prob > F          =     0.0000\n",
      "                                                R-squared         =     0.0296\n",
      "                                                Root MSE          =     .59824\n",
      "\n",
      "------------------------------------------------------------------------------\n",
      "             |               Robust\n",
      "      lnWage | Coefficient  std. err.      t    P>|t|     [95% conf. interval]\n",
      "-------------+----------------------------------------------------------------\n",
      "    height85 |   .0302781   .0076411     3.96   0.000     .0152807    .0452755\n",
      "       age96 |   .0271053   .0086977     3.12   0.002      .010034    .0441766\n",
      "       _cons |  -.4179611   .6256662    -0.67   0.504    -1.645979    .8100565\n",
      "------------------------------------------------------------------------------\n",
      "\n",
      ". eststo ols5\n",
      "\n",
      ". \n",
      ". regress lnWage height85 age96 $adjX if $criteria, robust\n",
      "\n",
      "Linear regression                               Number of obs     =        860\n",
      "                                                F(7, 852)         =      12.57\n",
      "                                                Prob > F          =     0.0000\n",
      "                                                R-squared         =     0.0934\n",
      "                                                Root MSE          =     .57994\n",
      "\n",
      "------------------------------------------------------------------------------\n",
      "             |               Robust\n",
      "      lnWage | Coefficient  std. err.      t    P>|t|     [95% conf. interval]\n",
      "-------------+----------------------------------------------------------------\n",
      "    height85 |    .022995   .0074702     3.08   0.002     .0083328    .0376573\n",
      "       age96 |    .027903   .0084881     3.29   0.001      .011243    .0445631\n",
      "   momSchool |   .0128622   .0124654     1.03   0.302    -.0116042    .0373287\n",
      "  momSkilled |  -.0224994   .0575201    -0.39   0.696     -.135397    .0903982\n",
      "   dadSchool |   .0285487   .0088734     3.22   0.001     .0111323     .045965\n",
      "  dadSkilled |   .1322076    .047771     2.77   0.006      .038445    .2259702\n",
      "    siblings |    -.01457   .0112921    -1.29   0.197    -.0367335    .0075935\n",
      "       _cons |  -.4517914   .6089722    -0.74   0.458    -1.647053      .74347\n",
      "------------------------------------------------------------------------------\n",
      "\n",
      ". eststo ols6\n",
      "\n",
      ". \n",
      ". regress lnWage height81 height85 age96 if $criteria, robust\n",
      "\n",
      "Linear regression                               Number of obs     =        860\n",
      "                                                F(3, 856)         =       9.00\n",
      "                                                Prob > F          =     0.0000\n",
      "                                                R-squared         =     0.0315\n",
      "                                                Root MSE          =     .59802\n",
      "\n",
      "------------------------------------------------------------------------------\n",
      "             |               Robust\n",
      "      lnWage | Coefficient  std. err.      t    P>|t|     [95% conf. interval]\n",
      "-------------+----------------------------------------------------------------\n",
      "    height81 |   .0184272   .0122739     1.50   0.134    -.0056633    .0425177\n",
      "    height85 |   .0135911   .0136251     1.00   0.319    -.0131514    .0403335\n",
      "       age96 |   .0240245    .008877     2.71   0.007     .0066012    .0414478\n",
      "       _cons |  -.4279396    .625755    -0.68   0.494    -1.656133    .8002542\n",
      "------------------------------------------------------------------------------\n",
      "\n",
      ". eststo ols7\n",
      "\n",
      ". \n",
      ". regress lnWage height81 height85 age $adjX if $criteria, robust\n",
      "\n",
      "Linear regression                               Number of obs     =        860\n",
      "                                                F(8, 851)         =      11.26\n",
      "                                                Prob > F          =     0.0000\n",
      "                                                R-squared         =     0.0951\n",
      "                                                Root MSE          =     .57973\n",
      "\n",
      "------------------------------------------------------------------------------\n",
      "             |               Robust\n",
      "      lnWage | Coefficient  std. err.      t    P>|t|     [95% conf. interval]\n",
      "-------------+----------------------------------------------------------------\n",
      "    height81 |   .0177903   .0112927     1.58   0.116    -.0043744    .0399551\n",
      "    height85 |   .0069351   .0124266     0.56   0.577    -.0174553    .0313255\n",
      "       age96 |   .0249047   .0086935     2.86   0.004     .0078415    .0419678\n",
      "   momSchool |   .0117136   .0123828     0.95   0.344    -.0125908    .0360179\n",
      "  momSkilled |  -.0200207   .0575128    -0.35   0.728    -.1329043    .0928629\n",
      "   dadSchool |   .0289465   .0088462     3.27   0.001     .0115835    .0463095\n",
      "  dadSkilled |   .1326124    .047771     2.78   0.006     .0388496    .2263753\n",
      "    siblings |   -.014686   .0112283    -1.31   0.191    -.0367245    .0073524\n",
      "       _cons |  -.4553143    .609329    -0.75   0.455    -1.651278    .7406495\n",
      "------------------------------------------------------------------------------\n",
      "\n",
      ". eststo ols8\n",
      "\n",
      ". \n"
     ]
    }
   ],
   "source": [
    "%%stata\n",
    "\n",
    "regress lnWage height85 age96 if $criteria, robust\n",
    "eststo ols5\n",
    "\n",
    "regress lnWage height85 age96 $adjX if $criteria, robust\n",
    "eststo ols6\n",
    "\n",
    "regress lnWage height81 height85 age96 if $criteria, robust\n",
    "eststo ols7\n",
    "\n",
    "regress lnWage height81 height85 age $adjX if $criteria, robust\n",
    "eststo ols8"
   ]
  },
  {
   "cell_type": "code",
   "execution_count": 223,
   "id": "28b95847",
   "metadata": {},
   "outputs": [
    {
     "name": "stdout",
     "output_type": "stream",
     "text": [
      "\n",
      ". /* Print Output of regressions to console*/\n",
      ". esttab ols*, ///\n",
      ">     noconstant se ar2 obslast scalars(F) ///\n",
      ">     order(height85 height81) ///\n",
      ">     coeflabels(height85 \"Adult Height (inches)\" ///\n",
      ">                height81 \"Youth height (inches)\" ///\n",
      ">                age96 \"Age\" ///\n",
      ">                momSchool \"Mother's years of schooling\" /// \n",
      ">                momSkilled \"Mother Skilled/Professional\" /// \n",
      ">                dadSchool \"Father's years of schooling\" ///\n",
      ">                dadSkilled \"Father Skilled/Professional\" ///\n",
      ">                siblings \"Number of siblings\")\n",
      "\n",
      "----------------------------------------------------------------------------\n",
      "                      (1)             (2)             (3)             (4)   \n",
      "                   lnWage          lnWage          lnWage          lnWage   \n",
      "----------------------------------------------------------------------------\n",
      "Adult Heig~)       0.0303***       0.0230**        0.0136         0.00694   \n",
      "                (0.00764)       (0.00747)        (0.0136)        (0.0124)   \n",
      "\n",
      "Youth heig~)                                       0.0184          0.0178   \n",
      "                                                 (0.0123)        (0.0113)   \n",
      "\n",
      "Age                0.0271**        0.0279**        0.0240**        0.0249** \n",
      "                (0.00870)       (0.00849)       (0.00888)       (0.00869)   \n",
      "\n",
      "Mother's y~g                       0.0129                          0.0117   \n",
      "                                 (0.0125)                        (0.0124)   \n",
      "\n",
      "Mother Ski~l                      -0.0225                         -0.0200   \n",
      "                                 (0.0575)                        (0.0575)   \n",
      "\n",
      "Father's y~g                       0.0285**                        0.0289** \n",
      "                                (0.00887)                       (0.00885)   \n",
      "\n",
      "Father Ski~l                        0.132**                         0.133** \n",
      "                                 (0.0478)                        (0.0478)   \n",
      "\n",
      "Number of ~s                      -0.0146                         -0.0147   \n",
      "                                 (0.0113)                        (0.0112)   \n",
      "----------------------------------------------------------------------------\n",
      "adj. R-sq           0.027           0.086           0.028           0.087   \n",
      "F                   12.33           12.57           8.995           11.26   \n",
      "N                     860             860             860             860   \n",
      "----------------------------------------------------------------------------\n",
      "Standard errors in parentheses\n",
      "* p<0.05, ** p<0.01, *** p<0.001\n",
      "\n",
      ".     \n",
      ". /* Print Output of regressions to file*/    \n",
      ". esttab ols* using $output/table3.tex, replace ///\n",
      ">     noconstant se ar2 obslast scalars(F) ///\n",
      ">     order(height85 height81) ///\n",
      ">     coeflabels(height85 \"Adult Height (inches)\" ///\n",
      ">                height81 \"Youth height (inches)\" ///\n",
      ">                age96 \"Age\" ///\n",
      ">                momSchool \"Mother's years of schooling\" /// \n",
      ">                momSkilled \"Mother Skilled/Professional\" /// \n",
      ">                dadSchool \"Father's years of schooling\" ///\n",
      ">                dadSkilled \"Father Skilled/Professional\" ///\n",
      ">                siblings \"Number of siblings\")\n",
      "(output written to Output/table3.tex)\n",
      "\n",
      ". \n"
     ]
    }
   ],
   "source": [
    "%%stata\n",
    "/* Print Output of regressions to console*/\n",
    "esttab ols*, ///\n",
    "    noconstant se ar2 obslast scalars(F) ///\n",
    "    order(height85 height81) ///\n",
    "    coeflabels(height85 \"Adult Height (inches)\" ///\n",
    "               height81 \"Youth height (inches)\" ///\n",
    "               age96 \"Age\" ///\n",
    "               momSchool \"Mother's years of schooling\" /// \n",
    "               momSkilled \"Mother Skilled/Professional\" /// \n",
    "               dadSchool \"Father's years of schooling\" ///\n",
    "               dadSkilled \"Father Skilled/Professional\" ///\n",
    "               siblings \"Number of siblings\")\n",
    "    \n",
    "/* Print Output of regressions to file*/    \n",
    "esttab ols* using $output/table3.tex, replace ///\n",
    "    noconstant se ar2 obslast scalars(F) ///\n",
    "    order(height85 height81) ///\n",
    "    coeflabels(height85 \"Adult Height (inches)\" ///\n",
    "               height81 \"Youth height (inches)\" ///\n",
    "               age96 \"Age\" ///\n",
    "               momSchool \"Mother's years of schooling\" /// \n",
    "               momSkilled \"Mother Skilled/Professional\" /// \n",
    "               dadSchool \"Father's years of schooling\" ///\n",
    "               dadSkilled \"Father Skilled/Professional\" ///\n",
    "               siblings \"Number of siblings\")"
   ]
  },
  {
   "cell_type": "code",
   "execution_count": null,
   "id": "14e189ae",
   "metadata": {},
   "outputs": [],
   "source": []
  }
 ],
 "metadata": {
  "kernelspec": {
   "display_name": "Python 3",
   "language": "python",
   "name": "python3"
  },
  "language_info": {
   "codemirror_mode": {
    "name": "ipython",
    "version": 3
   },
   "file_extension": ".py",
   "mimetype": "text/x-python",
   "name": "python",
   "nbconvert_exporter": "python",
   "pygments_lexer": "ipython3",
   "version": "3.8.1"
  }
 },
 "nbformat": 4,
 "nbformat_minor": 5
}
