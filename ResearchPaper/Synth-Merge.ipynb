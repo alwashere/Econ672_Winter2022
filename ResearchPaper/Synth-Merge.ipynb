{
 "cells": [
  {
   "cell_type": "markdown",
   "id": "3920fdd0",
   "metadata": {},
   "source": [
    "# Merges QCEW, FRED, and US Census into Single Dataset\n",
    "This is the final set of the data cleaning"
   ]
  },
  {
   "cell_type": "code",
   "execution_count": 1,
   "id": "921a3b70",
   "metadata": {},
   "outputs": [],
   "source": [
    "%%capture\n",
    "# Capture suppresses output to screen\n",
    "import stata_setup\n",
    "stata_setup.config(\"/Applications/Stata 17\", \"be\")"
   ]
  },
  {
   "cell_type": "code",
   "execution_count": 2,
   "id": "e5d24a98",
   "metadata": {},
   "outputs": [
    {
     "name": "stdout",
     "output_type": "stream",
     "text": [
      "\n",
      ". global data \"Data\"\n",
      "\n",
      ". global output \"Output\"\n",
      "\n",
      ". global processed \"$data/Processed\"\n",
      "\n",
      ". \n",
      ". global finalQCEWData \"$processed/QCEW/MergedQCEW.dta\"\n",
      "\n",
      ". global finalFredData \"$processed/FRED/MergedFred.dta\"\n",
      "\n",
      ". global finalCensusData \"$processed/US_Census/MergedCensus.dta\"\n",
      "\n",
      ". \n",
      ". global finalSynthData \"$processed/finalSynth.dta\"\n",
      "\n",
      ". \n"
     ]
    }
   ],
   "source": [
    "%%stata\n",
    "global data \"Data\"\n",
    "global output \"Output\"\n",
    "global processed \"$data/Processed\"\n",
    "\n",
    "global finalQCEWData \"$processed/QCEW/MergedQCEW.dta\"\n",
    "global finalFredData \"$processed/FRED/MergedFred.dta\"\n",
    "global finalCensusData \"$processed/US_Census/MergedCensus.dta\"\n",
    "\n",
    "global finalSynthData \"$processed/finalSynth.dta\""
   ]
  },
  {
   "cell_type": "code",
   "execution_count": 3,
   "id": "142d8f66",
   "metadata": {},
   "outputs": [],
   "source": [
    "%%capture\n",
    "%%stata\n",
    "log using \"$output/SynthMerge.log\", replace"
   ]
  },
  {
   "cell_type": "markdown",
   "id": "14e8a40e",
   "metadata": {},
   "source": [
    "## Read in QCEW data"
   ]
  },
  {
   "cell_type": "code",
   "execution_count": 4,
   "id": "a0b60788",
   "metadata": {},
   "outputs": [
    {
     "name": "stdout",
     "output_type": "stream",
     "text": [
      "\n",
      ". use \"$finalQCEWData\", clear\n",
      "\n",
      ". describe\n",
      "\n",
      "Contains data from Data/Processed/QCEW/MergedQCEW.dta\n",
      " Observations:           680                  \n",
      "    Variables:             6                  5 Feb 2022 16:28\n",
      "-------------------------------------------------------------------------------\n",
      "Variable      Storage   Display    Value\n",
      "    name         type    format    label      Variable label\n",
      "-------------------------------------------------------------------------------\n",
      "year            int     %10.0g                Year\n",
      "employment      long    %10.0g                Annual Reported Employment (NAICS\n",
      "                                                3364)\n",
      "state           str2    %9s                   \n",
      "annualPay       long    %10.0g                Average Annual Pay (USD) (NAICS\n",
      "                                                3364)\n",
      "lnEmployment    float   %9.0g                 \n",
      "lnAnnualPay     float   %9.0g                 \n",
      "-------------------------------------------------------------------------------\n",
      "Sorted by: \n",
      "\n",
      ". \n"
     ]
    }
   ],
   "source": [
    "%%stata\n",
    "use \"$finalQCEWData\", clear\n",
    "describe"
   ]
  },
  {
   "cell_type": "markdown",
   "id": "f93e87bb",
   "metadata": {},
   "source": [
    "## Merge QCEW and FRED data"
   ]
  },
  {
   "cell_type": "code",
   "execution_count": 5,
   "id": "4564197f",
   "metadata": {},
   "outputs": [
    {
     "name": "stdout",
     "output_type": "stream",
     "text": [
      "\n",
      "(variable year was int, now float to accommodate using data's values)\n",
      "\n",
      "    Result                      Number of obs\n",
      "    -----------------------------------------\n",
      "    Not matched                             0\n",
      "    Matched                               680  (_merge==3)\n",
      "    -----------------------------------------\n"
     ]
    }
   ],
   "source": [
    "%%stata\n",
    "merge 1:1 state year using $finalFredData"
   ]
  },
  {
   "cell_type": "markdown",
   "id": "4953ef89",
   "metadata": {},
   "source": [
    "## Merge QCEW/FRED with US Census data"
   ]
  },
  {
   "cell_type": "code",
   "execution_count": 6,
   "id": "c0c3b161",
   "metadata": {},
   "outputs": [
    {
     "name": "stdout",
     "output_type": "stream",
     "text": [
      "\n",
      ". drop _merge\n",
      "\n",
      ". merge 1:1 state year using $finalCensusData\n",
      "\n",
      "    Result                      Number of obs\n",
      "    -----------------------------------------\n",
      "    Not matched                           268\n",
      "        from master                        34  (_merge==1)\n",
      "        from using                        234  (_merge==2)\n",
      "\n",
      "    Matched                               646  (_merge==3)\n",
      "    -----------------------------------------\n",
      "\n",
      ". \n"
     ]
    }
   ],
   "source": [
    "%%stata\n",
    "drop _merge\n",
    "merge 1:1 state year using $finalCensusData"
   ]
  },
  {
   "cell_type": "markdown",
   "id": "1d876ecd",
   "metadata": {},
   "source": [
    "Year 2020 will be dropped from the data set due to the  \n",
    "2020-2021 COVID-19 pandemic."
   ]
  },
  {
   "cell_type": "code",
   "execution_count": 7,
   "id": "bc179deb",
   "metadata": {},
   "outputs": [
    {
     "name": "stdout",
     "output_type": "stream",
     "text": [
      "\n",
      "     +------------------------------------+\n",
      "     | state   year   annual~y   employ~t |\n",
      "     |------------------------------------|\n",
      " 20. |    AL   2020      93622      12820 |\n",
      " 40. |    AR   2020      62146       4192 |\n",
      " 60. |    AZ   2020     110968      30502 |\n",
      " 80. |    CA   2020     113819      75955 |\n",
      "100. |    CO   2020     143902       8593 |\n",
      "     |------------------------------------|\n",
      "120. |    CT   2020     117382      31263 |\n",
      "140. |    FL   2020     100174      26940 |\n",
      "160. |    GA   2020      95015      19484 |\n",
      "180. |    IL   2020      66578       3310 |\n",
      "200. |    IN   2020      94367       6076 |\n",
      "     |------------------------------------|\n",
      "220. |    KS   2020      78936      25793 |\n",
      "240. |    KY   2020      75035       3169 |\n",
      "260. |    MA   2020     150953      11028 |\n",
      "280. |    MD   2020      98354       3407 |\n",
      "300. |    MI   2020      77141       5171 |\n",
      "     |------------------------------------|\n",
      "320. |    MO   2020     105995      17814 |\n",
      "340. |    MS   2020      79860       1208 |\n",
      "360. |    NC   2020      88664       6299 |\n",
      "380. |    NH   2020      76128       1156 |\n",
      "400. |    NJ   2020      84505       1497 |\n",
      "     |------------------------------------|\n",
      "420. |    NM   2020      98123        687 |\n",
      "440. |    NY   2020      83221       4848 |\n",
      "460. |    OH   2020     108024      17935 |\n",
      "480. |    OK   2020      91067      12994 |\n",
      "500. |    OR   2020      91869       3148 |\n",
      "     |------------------------------------|\n",
      "520. |    PA   2020     107120      10160 |\n",
      "540. |    SC   2020      95118       6751 |\n",
      "560. |    TN   2020      66335       2130 |\n",
      "580. |    TX   2020     112614      48978 |\n",
      "600. |    UT   2020      84014       8102 |\n",
      "     |------------------------------------|\n",
      "620. |    VA   2020      91476       1991 |\n",
      "640. |    WA   2020     116955      80003 |\n",
      "660. |    WI   2020      72167       1290 |\n",
      "680. |    WV   2020      79924       2396 |\n",
      "     +------------------------------------+\n"
     ]
    }
   ],
   "source": [
    "%%stata\n",
    "list state year annualPay employment if _merge==1"
   ]
  },
  {
   "cell_type": "code",
   "execution_count": 8,
   "id": "7a294fdd",
   "metadata": {},
   "outputs": [
    {
     "name": "stdout",
     "output_type": "stream",
     "text": [
      "\n",
      ". drop if year==2020\n",
      "(34 observations deleted)\n",
      "\n",
      ". \n",
      ". /* QCEW dataset begins at 2001 */\n",
      ". drop if year==2000\n",
      "(36 observations deleted)\n",
      "\n",
      ". \n"
     ]
    }
   ],
   "source": [
    "%%stata\n",
    "drop if year==2020\n",
    "\n",
    "/* QCEW dataset begins at 2001 */\n",
    "drop if year==2000"
   ]
  },
  {
   "cell_type": "code",
   "execution_count": 9,
   "id": "2f05c19c",
   "metadata": {},
   "outputs": [
    {
     "name": "stdout",
     "output_type": "stream",
     "text": [
      "\n",
      "     +----------------------------------------------+\n",
      "     | state   year   annual~y   employ~t       pop |\n",
      "     |----------------------------------------------|\n",
      "647. |    AK   2010          .          .    713910 |\n",
      "648. |    AK   2011          .          .    722128 |\n",
      "649. |    AK   2012          .          .    730443 |\n",
      "650. |    AK   2013          .          .    737068 |\n",
      "651. |    AK   2014          .          .    736283 |\n",
      "     |----------------------------------------------|\n",
      "652. |    AK   2015          .          .    737498 |\n",
      "653. |    AK   2016          .          .    741456 |\n",
      "654. |    AK   2017          .          .    739700 |\n",
      "655. |    AK   2018          .          .    735139 |\n",
      "656. |    AK   2019          .          .    731545 |\n",
      "     |----------------------------------------------|\n",
      "657. |    DC   2010          .          .    605226 |\n",
      "658. |    DC   2011          .          .    619800 |\n",
      "659. |    DC   2012          .          .    634924 |\n",
      "660. |    DC   2013          .          .    650581 |\n",
      "661. |    DC   2014          .          .    662328 |\n",
      "     |----------------------------------------------|\n",
      "662. |    DC   2015          .          .    675400 |\n",
      "663. |    DC   2016          .          .    685815 |\n",
      "664. |    DC   2017          .          .    694906 |\n",
      "665. |    DC   2018          .          .    701547 |\n",
      "666. |    DC   2019          .          .    705749 |\n",
      "     |----------------------------------------------|\n",
      "667. |    DE   2001          .          .    795699 |\n",
      "668. |    DE   2002          .          .    806169 |\n",
      "669. |    DE   2003          .          .    818003 |\n",
      "670. |    DE   2004          .          .    830803 |\n",
      "671. |    DE   2005          .          .    845150 |\n",
      "     |----------------------------------------------|\n",
      "672. |    DE   2006          .          .    859268 |\n",
      "673. |    DE   2007          .          .    871749 |\n",
      "674. |    DE   2008          .          .    883874 |\n",
      "675. |    DE   2009          .          .    891730 |\n",
      "676. |    DE   2010          .          .    899593 |\n",
      "     |----------------------------------------------|\n",
      "677. |    DE   2011          .          .    907381 |\n",
      "678. |    DE   2012          .          .    915179 |\n",
      "679. |    DE   2013          .          .    923576 |\n",
      "680. |    DE   2014          .          .    932487 |\n",
      "681. |    DE   2015          .          .    941252 |\n",
      "     |----------------------------------------------|\n",
      "682. |    DE   2016          .          .    948921 |\n",
      "683. |    DE   2017          .          .    956823 |\n",
      "684. |    DE   2018          .          .    965479 |\n",
      "685. |    DE   2019          .          .    973764 |\n",
      "686. |    HI   2010          .          .   1363963 |\n",
      "     |----------------------------------------------|\n",
      "687. |    HI   2011          .          .   1379329 |\n",
      "688. |    HI   2012          .          .   1394804 |\n",
      "689. |    HI   2013          .          .   1408243 |\n",
      "690. |    HI   2014          .          .   1414538 |\n",
      "691. |    HI   2015          .          .   1422052 |\n",
      "     |----------------------------------------------|\n",
      "692. |    HI   2016          .          .   1427559 |\n",
      "693. |    HI   2017          .          .   1424393 |\n",
      "694. |    HI   2018          .          .   1420593 |\n",
      "695. |    HI   2019          .          .   1415872 |\n",
      "696. |    IA   2010          .          .   3050745 |\n",
      "     |----------------------------------------------|\n",
      "697. |    IA   2011          .          .   3066336 |\n",
      "698. |    IA   2012          .          .   3076190 |\n",
      "699. |    IA   2013          .          .   3092997 |\n",
      "700. |    IA   2014          .          .   3109350 |\n",
      "701. |    IA   2015          .          .   3120960 |\n",
      "     |----------------------------------------------|\n",
      "702. |    IA   2016          .          .   3131371 |\n",
      "703. |    IA   2017          .          .   3141550 |\n",
      "704. |    IA   2018          .          .   3148618 |\n",
      "705. |    IA   2019          .          .   3155070 |\n",
      "706. |    ID   2001          .          .   1319962 |\n",
      "     |----------------------------------------------|\n",
      "707. |    ID   2002          .          .   1340372 |\n",
      "708. |    ID   2003          .          .   1363380 |\n",
      "709. |    ID   2004          .          .   1391802 |\n",
      "710. |    ID   2005          .          .   1428241 |\n",
      "711. |    ID   2006          .          .   1468669 |\n",
      "     |----------------------------------------------|\n",
      "712. |    ID   2007          .          .   1505105 |\n",
      "713. |    ID   2008          .          .   1534320 |\n",
      "714. |    ID   2009          .          .   1554439 |\n",
      "715. |    ID   2010          .          .   1570746 |\n",
      "716. |    ID   2011          .          .   1583910 |\n",
      "     |----------------------------------------------|\n",
      "717. |    ID   2012          .          .   1595324 |\n",
      "718. |    ID   2013          .          .   1611206 |\n",
      "719. |    ID   2014          .          .   1631112 |\n",
      "720. |    ID   2015          .          .   1651059 |\n",
      "721. |    ID   2016          .          .   1682380 |\n",
      "     |----------------------------------------------|\n",
      "722. |    ID   2017          .          .   1717715 |\n",
      "723. |    ID   2018          .          .   1750536 |\n",
      "724. |    ID   2019          .          .   1787065 |\n",
      "725. |    LA   2010          .          .   4544532 |\n",
      "726. |    LA   2011          .          .   4575625 |\n",
      "     |----------------------------------------------|\n",
      "727. |    LA   2012          .          .   4600972 |\n",
      "728. |    LA   2013          .          .   4624527 |\n",
      "729. |    LA   2014          .          .   4644013 |\n",
      "730. |    LA   2015          .          .   4664628 |\n",
      "731. |    LA   2016          .          .   4678135 |\n",
      "     |----------------------------------------------|\n",
      "732. |    LA   2017          .          .   4670560 |\n",
      "733. |    LA   2018          .          .   4659690 |\n",
      "734. |    LA   2019          .          .   4648794 |\n",
      "735. |    ME   2010          .          .   1327629 |\n",
      "736. |    ME   2011          .          .   1328284 |\n",
      "     |----------------------------------------------|\n",
      "737. |    ME   2012          .          .   1327729 |\n",
      "738. |    ME   2013          .          .   1328009 |\n",
      "739. |    ME   2014          .          .   1330513 |\n",
      "740. |    ME   2015          .          .   1328262 |\n",
      "741. |    ME   2016          .          .   1331317 |\n",
      "     |----------------------------------------------|\n",
      "742. |    ME   2017          .          .   1334612 |\n",
      "743. |    ME   2018          .          .   1339057 |\n",
      "744. |    ME   2019          .          .   1344212 |\n",
      "745. |    MN   2010          .          .   5310828 |\n",
      "746. |    MN   2011          .          .   5346143 |\n",
      "     |----------------------------------------------|\n",
      "747. |    MN   2012          .          .   5376643 |\n",
      "748. |    MN   2013          .          .   5413479 |\n",
      "749. |    MN   2014          .          .   5451079 |\n",
      "750. |    MN   2015          .          .   5482032 |\n",
      "751. |    MN   2016          .          .   5522744 |\n",
      "     |----------------------------------------------|\n",
      "752. |    MN   2017          .          .   5566230 |\n",
      "753. |    MN   2018          .          .   5606249 |\n",
      "754. |    MN   2019          .          .   5639632 |\n",
      "755. |    MT   2010          .          .    990697 |\n",
      "756. |    MT   2011          .          .    997316 |\n",
      "     |----------------------------------------------|\n",
      "757. |    MT   2012          .          .   1003783 |\n",
      "758. |    MT   2013          .          .   1013569 |\n",
      "759. |    MT   2014          .          .   1021869 |\n",
      "760. |    MT   2015          .          .   1030475 |\n",
      "761. |    MT   2016          .          .   1040859 |\n",
      "     |----------------------------------------------|\n",
      "762. |    MT   2017          .          .   1052482 |\n",
      "763. |    MT   2018          .          .   1060665 |\n",
      "764. |    MT   2019          .          .   1068778 |\n",
      "765. |    ND   2010          .          .    674715 |\n",
      "766. |    ND   2011          .          .    685225 |\n",
      "     |----------------------------------------------|\n",
      "767. |    ND   2012          .          .    701176 |\n",
      "768. |    ND   2013          .          .    722036 |\n",
      "769. |    ND   2014          .          .    737401 |\n",
      "770. |    ND   2015          .          .    754066 |\n",
      "771. |    ND   2016          .          .    754434 |\n",
      "     |----------------------------------------------|\n",
      "772. |    ND   2017          .          .    754942 |\n",
      "773. |    ND   2018          .          .    758080 |\n",
      "774. |    ND   2019          .          .    762062 |\n",
      "775. |    NE   2010          .          .   1829542 |\n",
      "776. |    NE   2011          .          .   1840672 |\n",
      "     |----------------------------------------------|\n",
      "777. |    NE   2012          .          .   1853303 |\n",
      "778. |    NE   2013          .          .   1865279 |\n",
      "779. |    NE   2014          .          .   1879321 |\n",
      "780. |    NE   2015          .          .   1891277 |\n",
      "781. |    NE   2016          .          .   1905616 |\n",
      "     |----------------------------------------------|\n",
      "782. |    NE   2017          .          .   1915947 |\n",
      "783. |    NE   2018          .          .   1925614 |\n",
      "784. |    NE   2019          .          .   1934408 |\n",
      "785. |    NV   2010          .          .   2702405 |\n",
      "786. |    NV   2011          .          .   2712730 |\n",
      "     |----------------------------------------------|\n",
      "787. |    NV   2012          .          .   2743996 |\n",
      "788. |    NV   2013          .          .   2775970 |\n",
      "789. |    NV   2014          .          .   2817628 |\n",
      "790. |    NV   2015          .          .   2866939 |\n",
      "791. |    NV   2016          .          .   2917563 |\n",
      "     |----------------------------------------------|\n",
      "792. |    NV   2017          .          .   2969905 |\n",
      "793. |    NV   2018          .          .   3027341 |\n",
      "794. |    NV   2019          .          .   3080156 |\n",
      "795. |    PR   2010          .          .   3721525 |\n",
      "796. |    PR   2011          .          .   3678732 |\n",
      "     |----------------------------------------------|\n",
      "797. |    PR   2012          .          .   3634488 |\n",
      "798. |    PR   2013          .          .   3593077 |\n",
      "799. |    PR   2014          .          .   3534874 |\n",
      "800. |    PR   2015          .          .   3473232 |\n",
      "801. |    PR   2016          .          .   3406672 |\n",
      "     |----------------------------------------------|\n",
      "802. |    PR   2017          .          .   3325286 |\n",
      "803. |    PR   2018          .          .   3193354 |\n",
      "804. |    PR   2019          .          .   3193694 |\n",
      "805. |    RI   2010          .          .   1053959 |\n",
      "806. |    RI   2011          .          .   1053649 |\n",
      "     |----------------------------------------------|\n",
      "807. |    RI   2012          .          .   1054621 |\n",
      "808. |    RI   2013          .          .   1055081 |\n",
      "809. |    RI   2014          .          .   1055936 |\n",
      "810. |    RI   2015          .          .   1056065 |\n",
      "811. |    RI   2016          .          .   1056770 |\n",
      "     |----------------------------------------------|\n",
      "812. |    RI   2017          .          .   1055673 |\n",
      "813. |    RI   2018          .          .   1058287 |\n",
      "814. |    RI   2019          .          .   1059361 |\n",
      "815. |    SD   2010          .          .    816166 |\n",
      "816. |    SD   2011          .          .    823579 |\n",
      "     |----------------------------------------------|\n",
      "817. |    SD   2012          .          .    833566 |\n",
      "818. |    SD   2013          .          .    842316 |\n",
      "819. |    SD   2014          .          .    849129 |\n",
      "820. |    SD   2015          .          .    853988 |\n",
      "821. |    SD   2016          .          .    862996 |\n",
      "     |----------------------------------------------|\n",
      "822. |    SD   2017          .          .    872868 |\n",
      "823. |    SD   2018          .          .    878698 |\n",
      "824. |    SD   2019          .          .    884659 |\n",
      "825. |    VT   2010          .          .    625879 |\n",
      "826. |    VT   2011          .          .    627049 |\n",
      "     |----------------------------------------------|\n",
      "827. |    VT   2012          .          .    626090 |\n",
      "828. |    VT   2013          .          .    626210 |\n",
      "829. |    VT   2014          .          .    625214 |\n",
      "830. |    VT   2015          .          .    625216 |\n",
      "831. |    VT   2016          .          .    623657 |\n",
      "     |----------------------------------------------|\n",
      "832. |    VT   2017          .          .    624344 |\n",
      "833. |    VT   2018          .          .    624358 |\n",
      "834. |    VT   2019          .          .    623989 |\n",
      "835. |    WY   2010          .          .    564487 |\n",
      "836. |    WY   2011          .          .    567299 |\n",
      "     |----------------------------------------------|\n",
      "837. |    WY   2012          .          .    576305 |\n",
      "838. |    WY   2013          .          .    582122 |\n",
      "839. |    WY   2014          .          .    582531 |\n",
      "840. |    WY   2015          .          .    585613 |\n",
      "841. |    WY   2016          .          .    584215 |\n",
      "     |----------------------------------------------|\n",
      "842. |    WY   2017          .          .    578931 |\n",
      "843. |    WY   2018          .          .    577601 |\n",
      "844. |    WY   2019          .          .    578759 |\n",
      "     +----------------------------------------------+\n"
     ]
    }
   ],
   "source": [
    "%%stata\n",
    "list state year annualPay employment pop if _merge==2"
   ]
  },
  {
   "cell_type": "markdown",
   "id": "68b19fcf",
   "metadata": {},
   "source": [
    "Observations with _merge==2 do not have significant NAICS 3364 industries.  \n",
    "US population data for 2010-2019 contained all states and\n",
    "DC and Puerto Rico.  These will be dropped from the dataset"
   ]
  },
  {
   "cell_type": "code",
   "execution_count": 10,
   "id": "b818df25",
   "metadata": {},
   "outputs": [
    {
     "name": "stdout",
     "output_type": "stream",
     "text": [
      "\n",
      ". drop if _merge==2\n",
      "(198 observations deleted)\n",
      "\n",
      ". drop _merge\n",
      "\n",
      ". \n"
     ]
    }
   ],
   "source": [
    "%%stata\n",
    "drop if _merge==2\n",
    "drop _merge"
   ]
  },
  {
   "cell_type": "markdown",
   "id": "e49172cb",
   "metadata": {},
   "source": [
    "## Merge in FIPS codes"
   ]
  },
  {
   "cell_type": "code",
   "execution_count": 11,
   "id": "0e661a6a",
   "metadata": {},
   "outputs": [
    {
     "name": "stdout",
     "output_type": "stream",
     "text": [
      "\n",
      "    Result                      Number of obs\n",
      "    -----------------------------------------\n",
      "    Not matched                            18\n",
      "        from master                         0  (_merge==1)\n",
      "        from using                         18  (_merge==2)\n",
      "\n",
      "    Matched                               646  (_merge==3)\n",
      "    -----------------------------------------\n"
     ]
    }
   ],
   "source": [
    "%%stata\n",
    "merge m:1 state using \"$processed/StateCodes.dta\", keepusing(fips)"
   ]
  },
  {
   "cell_type": "code",
   "execution_count": 12,
   "id": "20cdde0f",
   "metadata": {},
   "outputs": [
    {
     "name": "stdout",
     "output_type": "stream",
     "text": [
      "\n",
      "     +-------+\n",
      "     | state |\n",
      "     |-------|\n",
      "647. |    AK |\n",
      "648. |    DC |\n",
      "649. |    DE |\n",
      "650. |    HI |\n",
      "651. |    IA |\n",
      "     |-------|\n",
      "652. |    ID |\n",
      "653. |    LA |\n",
      "654. |    ME |\n",
      "655. |    MN |\n",
      "656. |    MT |\n",
      "     |-------|\n",
      "657. |    ND |\n",
      "658. |    NE |\n",
      "659. |    NV |\n",
      "660. |    PR |\n",
      "661. |    RI |\n",
      "     |-------|\n",
      "662. |    SD |\n",
      "663. |    VT |\n",
      "664. |    WY |\n",
      "     +-------+\n"
     ]
    }
   ],
   "source": [
    "%%stata\n",
    "list state if _merge==2"
   ]
  },
  {
   "cell_type": "code",
   "execution_count": 13,
   "id": "63e73f06",
   "metadata": {},
   "outputs": [
    {
     "name": "stdout",
     "output_type": "stream",
     "text": [
      "\n",
      ". /* These states have no significant NAIC 3364 industry */\n",
      ". drop if _merge==2\n",
      "(18 observations deleted)\n",
      "\n",
      ". drop _merge\n",
      "\n",
      ". \n"
     ]
    }
   ],
   "source": [
    "%%stata\n",
    "/* These states have no significant NAIC 3364 industry */\n",
    "drop if _merge==2\n",
    "drop _merge"
   ]
  },
  {
   "cell_type": "markdown",
   "id": "a95182d9",
   "metadata": {},
   "source": [
    "## Generate Dummies for DID Analysis"
   ]
  },
  {
   "cell_type": "markdown",
   "id": "59e9c535",
   "metadata": {},
   "source": [
    "### Add indicator dummies for incentive year, leads and lags\n",
    "Tax incentive was passed in 2014 in WA.  In 2014 WA was selected as the expansion site."
   ]
  },
  {
   "cell_type": "code",
   "execution_count": 14,
   "id": "618035d4",
   "metadata": {},
   "outputs": [
    {
     "name": "stdout",
     "output_type": "stream",
     "text": [
      "\n",
      ". sort state year\n",
      "\n",
      ". by state: generate postIncentive=(year>=2014)\n",
      "\n",
      ". label variable postIncentive \"=1 if year >=2014\"\n",
      "\n",
      ". \n"
     ]
    }
   ],
   "source": [
    "%%stata\n",
    "sort state year\n",
    "by state: generate postIncentive=(year>=2014)\n",
    "label variable postIncentive \"=1 if year >=2014\""
   ]
  },
  {
   "cell_type": "code",
   "execution_count": 15,
   "id": "eb57ff6c",
   "metadata": {},
   "outputs": [
    {
     "name": "stdout",
     "output_type": "stream",
     "text": [
      "\n",
      ". // T0 to examine the pre and post trends\n",
      ". by state: generate t_0 = (postIncentive==1 & postIncentive[_n-1]==0) \n",
      "\n",
      ". \n",
      ". // Generate 4 years of lags and leads\n",
      ". foreach i of numlist -4/4 {\n",
      "  2.     if `i' < 0 {\n",
      "  3.         local var \"lag\"\n",
      "  4.     }\n",
      "  5.     if `i' > 0 {\n",
      "  6.         local var \"lead\"\n",
      "  7.     }\n",
      "  8.     \n",
      ".     // So the lag/lead numbers are always positive\n",
      ".     local j: display int(abs(`i'))\n",
      "  9.     \n",
      ".     /* \n",
      ">         Note: A negative value of i will result\n",
      ">             in lag.\n",
      ">     */\n",
      ".     by state: generate t_`var'`j'=(t_0[_n+`i']==1)\n",
      " 10. }\n",
      "\n",
      ". // Group all lags older than 4 year together\n",
      ". by state: replace t_lag4=1 if (t_lag4[_n-1]==1)\n",
      "(34 real changes made)\n",
      "\n",
      ". \n"
     ]
    }
   ],
   "source": [
    "%%stata\n",
    "// T0 to examine the pre and post trends\n",
    "by state: generate t_0 = (postIncentive==1 & postIncentive[_n-1]==0) \n",
    "\n",
    "// Generate 4 years of lags and leads\n",
    "foreach i of numlist -4/4 {\n",
    "    if `i' < 0 {\n",
    "        local var \"lag\"\n",
    "    }\n",
    "    if `i' > 0 {\n",
    "        local var \"lead\"\n",
    "    }\n",
    "    \n",
    "    // So the lag/lead numbers are always positive\n",
    "    local j: display int(abs(`i'))\n",
    "    \n",
    "    /* \n",
    "        Note: A negative value of i will result\n",
    "            in lag.\n",
    "    */\n",
    "    by state: generate t_`var'`j'=(t_0[_n+`i']==1)\n",
    "}\n",
    "// Group all lags older than 4 year together\n",
    "by state: replace t_lag4=1 if (t_lag4[_n-1]==1)"
   ]
  },
  {
   "cell_type": "code",
   "execution_count": 16,
   "id": "d5528ca4",
   "metadata": {},
   "outputs": [
    {
     "name": "stdout",
     "output_type": "stream",
     "text": [
      "\n",
      ". generate wa=(state==\"WA\")\n",
      "\n",
      ". label variable wa \"=1 if the state is WA\"\n",
      "\n",
      ". \n",
      ". generate treated = postIncentive*wa\n",
      "\n",
      ". label variable treated \"=1 if after 2014 and in WA\"\n",
      "\n",
      ". \n"
     ]
    }
   ],
   "source": [
    "%%stata\n",
    "generate wa=(state==\"WA\")\n",
    "label variable wa \"=1 if the state is WA\"\n",
    "\n",
    "generate treated = postIncentive*wa\n",
    "label variable treated \"=1 if after 2014 and in WA\""
   ]
  },
  {
   "cell_type": "markdown",
   "id": "b503b573",
   "metadata": {},
   "source": [
    "## Declare as Panel Dataset"
   ]
  },
  {
   "cell_type": "code",
   "execution_count": 17,
   "id": "4b1fb9ad",
   "metadata": {},
   "outputs": [
    {
     "name": "stdout",
     "output_type": "stream",
     "text": [
      "\n",
      ". sort fips year\n",
      "\n",
      ". xtset fips year\n",
      "\n",
      "Panel variable: fips (strongly balanced)\n",
      " Time variable: year, 2001 to 2019\n",
      "         Delta: 1 unit\n",
      "\n",
      ". \n"
     ]
    }
   ],
   "source": [
    "%%stata\n",
    "sort fips year\n",
    "xtset fips year"
   ]
  },
  {
   "cell_type": "markdown",
   "id": "1bf5bb39",
   "metadata": {},
   "source": [
    "## Save Dataset for Analysis"
   ]
  },
  {
   "cell_type": "code",
   "execution_count": 18,
   "id": "9c232a13",
   "metadata": {},
   "outputs": [
    {
     "name": "stdout",
     "output_type": "stream",
     "text": [
      "\n",
      "file Data/Processed/finalSynth.dta saved\n"
     ]
    }
   ],
   "source": [
    "%%stata\n",
    "save \"$finalSynthData\", replace"
   ]
  },
  {
   "cell_type": "code",
   "execution_count": 19,
   "id": "18da174f",
   "metadata": {},
   "outputs": [
    {
     "name": "stdout",
     "output_type": "stream",
     "text": [
      "\n",
      ". clear\n",
      "\n",
      ". log close\n",
      "      name:  <unnamed>\n",
      "       log:  /Users/alwashere/Documents/School Work/University of Maryland/MS A\n",
      "> pplied Economics/2022 1Q Winter/ECON 672 Program Evaluation/ResearchPaper/Out\n",
      "> put/SynthMerge.log\n",
      "  log type:  text\n",
      " closed on:   5 Feb 2022, 19:04:52\n",
      "-------------------------------------------------------------------------------\n",
      "\n",
      ". \n"
     ]
    }
   ],
   "source": [
    "%%stata\n",
    "clear\n",
    "log close"
   ]
  },
  {
   "cell_type": "code",
   "execution_count": null,
   "id": "dec5d570",
   "metadata": {},
   "outputs": [],
   "source": []
  }
 ],
 "metadata": {
  "kernelspec": {
   "display_name": "Python 3",
   "language": "python",
   "name": "python3"
  },
  "language_info": {
   "codemirror_mode": {
    "name": "ipython",
    "version": 3
   },
   "file_extension": ".py",
   "mimetype": "text/x-python",
   "name": "python",
   "nbconvert_exporter": "python",
   "pygments_lexer": "ipython3",
   "version": "3.8.1"
  }
 },
 "nbformat": 4,
 "nbformat_minor": 5
}
