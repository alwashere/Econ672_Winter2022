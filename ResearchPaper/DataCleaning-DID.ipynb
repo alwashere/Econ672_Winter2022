{
 "cells": [
  {
   "cell_type": "markdown",
   "id": "4a7e6b75",
   "metadata": {},
   "source": [
    "# Data Cleaning\n",
    "Data cleaning for ECON672 Project"
   ]
  },
  {
   "cell_type": "code",
   "execution_count": 118,
   "id": "f8f34192",
   "metadata": {},
   "outputs": [],
   "source": [
    "%%capture\n",
    "# Capture suppresses output to screen\n",
    "import stata_setup\n",
    "stata_setup.config(\"/Applications/Stata 17\", \"be\")"
   ]
  },
  {
   "cell_type": "code",
   "execution_count": 119,
   "id": "6516fe6c",
   "metadata": {},
   "outputs": [
    {
     "name": "stdout",
     "output_type": "stream",
     "text": [
      "\n",
      ". /* Define paths for data and output */\n",
      ". global data \"Data\"\n",
      "\n",
      ". global output \"Output\"\n",
      "\n",
      ". global raw \"$data/Raw\"\n",
      "\n",
      ". global processed \"$data/Processed\"\n",
      "\n",
      ". global finalData \"$processed/taxIncentives.dta\"\n",
      "\n",
      ". \n"
     ]
    }
   ],
   "source": [
    "%%stata\n",
    "/* Define paths for data and output */\n",
    "global data \"Data\"\n",
    "global output \"Output\"\n",
    "global raw \"$data/Raw\"\n",
    "global processed \"$data/Processed\"\n",
    "global finalData \"$processed/taxIncentives.dta\""
   ]
  },
  {
   "cell_type": "code",
   "execution_count": 120,
   "id": "3ae9b99a",
   "metadata": {},
   "outputs": [],
   "source": [
    "%%capture\n",
    "%%stata\n",
    "log using \"$output/dataClean.log\", replace"
   ]
  },
  {
   "cell_type": "markdown",
   "id": "93724ca3",
   "metadata": {},
   "source": [
    "## Import Wage and Workforce data\n",
    "Data is for NAICS 3364, Aircraft manufacturing from BLS QCEW\n",
    "\n",
    "| i.year | c.employ | c.wage | i.state |\n",
    "| --- | ---- | --- | --- |\n",
    "| year | employment | wage |  MO |\n",
    "| year | employment | wage |  WA |  "
   ]
  },
  {
   "cell_type": "code",
   "execution_count": 121,
   "id": "25bde691",
   "metadata": {},
   "outputs": [
    {
     "name": "stdout",
     "output_type": "stream",
     "text": [
      "\n",
      "total 208\n",
      "-rw-r--r--@ 1 alwashere  staff  24768 Jan 20 16:58 CensusPopEst2010to2019.xlsx\n",
      "-rw-r--r--@ 1 alwashere  staff  10278 Jan 20 16:48 MO_employment_QCEW.xlsx\n",
      "-rw-r--r--@ 1 alwashere  staff  10205 Jan 20 16:50 MO_wages_QCEW.xlsx\n",
      "-rw-r--r--@ 1 alwashere  staff  10287 Jan 20 16:44 WA_employment_QCEW.xlsx\n",
      "-rw-r--r--@ 1 alwashere  staff  10118 Jan 20 16:45 WA_wages_QCEW.xlsx\n",
      "-rw-r--r--@ 1 alwashere  staff  24987 Jan 26 20:26 unemploymentBLS.xlsx\n"
     ]
    }
   ],
   "source": [
    "%%stata\n",
    "ls $raw"
   ]
  },
  {
   "cell_type": "markdown",
   "id": "530d20b7",
   "metadata": {},
   "source": [
    "---"
   ]
  },
  {
   "cell_type": "markdown",
   "id": "3273b8dd",
   "metadata": {},
   "source": [
    "### Missouri QCEW"
   ]
  },
  {
   "cell_type": "code",
   "execution_count": 122,
   "id": "f0770e38",
   "metadata": {},
   "outputs": [
    {
     "name": "stdout",
     "output_type": "stream",
     "text": [
      "\n",
      ". import excel \"$raw/MO_employment_QCEW.xlsx\", /// \n",
      ">     sheet(\"BLS Data Series\") /// \n",
      ">     cellrange(A14:N34) /// \n",
      ">     firstrow ///\n",
      ">     clear\n",
      "(14 vars, 20 obs)\n",
      "\n",
      ". describe\n",
      "\n",
      "Contains data\n",
      " Observations:            20                  \n",
      "    Variables:            14                  \n",
      "-------------------------------------------------------------------------------\n",
      "Variable      Storage   Display    Value\n",
      "    name         type    format    label      Variable label\n",
      "-------------------------------------------------------------------------------\n",
      "Year            int     %10.0g                Year\n",
      "Jan             byte    %10.0g                Jan\n",
      "Feb             byte    %10.0g                Feb\n",
      "Mar             byte    %10.0g                Mar\n",
      "Apr             byte    %10.0g                Apr\n",
      "May             byte    %10.0g                May\n",
      "Jun             byte    %10.0g                Jun\n",
      "Jul             byte    %10.0g                Jul\n",
      "Aug             byte    %10.0g                Aug\n",
      "Sep             byte    %10.0g                Sep\n",
      "Oct             byte    %10.0g                Oct\n",
      "Nov             byte    %10.0g                Nov\n",
      "Dec             byte    %10.0g                Dec\n",
      "Annual          int     %10.0g                Annual\n",
      "-------------------------------------------------------------------------------\n",
      "Sorted by: \n",
      "     Note: Dataset has changed since last saved.\n",
      "\n",
      ". summarize\n",
      "\n",
      "    Variable |        Obs        Mean    Std. dev.       Min        Max\n",
      "-------------+---------------------------------------------------------\n",
      "        Year |         20      2010.5     5.91608       2001       2020\n",
      "         Jan |          0\n",
      "         Feb |          0\n",
      "         Mar |          0\n",
      "         Apr |          0\n",
      "-------------+---------------------------------------------------------\n",
      "         May |          0\n",
      "         Jun |          0\n",
      "         Jul |          0\n",
      "         Aug |          0\n",
      "         Sep |          0\n",
      "-------------+---------------------------------------------------------\n",
      "         Oct |          0\n",
      "         Nov |          0\n",
      "         Dec |          0\n",
      "      Annual |         20    15481.35    1482.552      12552      17814\n",
      "\n",
      ". \n"
     ]
    }
   ],
   "source": [
    "%%stata\n",
    "import excel \"$raw/MO_employment_QCEW.xlsx\", /// \n",
    "    sheet(\"BLS Data Series\") /// \n",
    "    cellrange(A14:N34) /// \n",
    "    firstrow ///\n",
    "    clear\n",
    "describe\n",
    "summarize"
   ]
  },
  {
   "cell_type": "markdown",
   "id": "5ade8103",
   "metadata": {},
   "source": [
    "Data is only at the annual level.  I will  drop the the month fields."
   ]
  },
  {
   "cell_type": "code",
   "execution_count": 123,
   "id": "ddbb9215",
   "metadata": {},
   "outputs": [
    {
     "name": "stdout",
     "output_type": "stream",
     "text": [
      "\n",
      ". keep Year Annual\n",
      "\n",
      ". rename Year year\n",
      "\n",
      ". rename Annual employment\n",
      "\n",
      ". label variable employment \"Annual Reported Employment (NAICS 3364)\"\n",
      "\n",
      ". \n"
     ]
    }
   ],
   "source": [
    "%%stata\n",
    "keep Year Annual\n",
    "rename Year year\n",
    "rename Annual employment\n",
    "label variable employment \"Annual Reported Employment (NAICS 3364)\""
   ]
  },
  {
   "cell_type": "markdown",
   "id": "6de0dc9b",
   "metadata": {},
   "source": [
    "Create \"working\" frame and change to \"working\".  \n",
    "The \"default\" frame with be merged with the \"working\" frame to \n",
    "create the primary dataset for analysis."
   ]
  },
  {
   "cell_type": "code",
   "execution_count": 124,
   "id": "aa0bee64",
   "metadata": {},
   "outputs": [
    {
     "name": "stdout",
     "output_type": "stream",
     "text": [
      "\n",
      ". frame create working\n",
      "\n",
      ". frame change working\n",
      "\n",
      ". \n"
     ]
    }
   ],
   "source": [
    "%%stata\n",
    "frame create working\n",
    "frame change working"
   ]
  },
  {
   "cell_type": "code",
   "execution_count": 125,
   "id": "93ed1eed",
   "metadata": {},
   "outputs": [
    {
     "name": "stdout",
     "output_type": "stream",
     "text": [
      "\n",
      ". // Import Missouri Wages\n",
      ". import excel \"$raw/MO_wages_QCEW.xlsx\", /// \n",
      ">     sheet(\"BLS Data Series\") /// \n",
      ">     cellrange(A14:B34) /// \n",
      ">     firstrow ///\n",
      ">     clear\n",
      "(2 vars, 20 obs)\n",
      "\n",
      ". describe\n",
      "\n",
      "Contains data\n",
      " Observations:            20                  \n",
      "    Variables:             2                  \n",
      "-------------------------------------------------------------------------------\n",
      "Variable      Storage   Display    Value\n",
      "    name         type    format    label      Variable label\n",
      "-------------------------------------------------------------------------------\n",
      "Year            int     %10.0g                Year\n",
      "Annual          long    %10.0g                Annual\n",
      "-------------------------------------------------------------------------------\n",
      "Sorted by: \n",
      "     Note: Dataset has changed since last saved.\n",
      "\n",
      ". summarize\n",
      "\n",
      "    Variable |        Obs        Mean    Std. dev.       Min        Max\n",
      "-------------+---------------------------------------------------------\n",
      "        Year |         20      2010.5     5.91608       2001       2020\n",
      "      Annual |         20    95128.15     16071.7      63203     118080\n",
      "\n",
      ". \n"
     ]
    }
   ],
   "source": [
    "%%stata\n",
    "// Import Missouri Wages\n",
    "import excel \"$raw/MO_wages_QCEW.xlsx\", /// \n",
    "    sheet(\"BLS Data Series\") /// \n",
    "    cellrange(A14:B34) /// \n",
    "    firstrow ///\n",
    "    clear\n",
    "describe\n",
    "summarize"
   ]
  },
  {
   "cell_type": "code",
   "execution_count": 126,
   "id": "73cdcbbd",
   "metadata": {},
   "outputs": [
    {
     "name": "stdout",
     "output_type": "stream",
     "text": [
      "\n",
      ". rename Year year\n",
      "\n",
      ". rename Annual wages\n",
      "\n",
      ". label variable wages \"Annual Reported Wages (USD) (NAICS 3364)\"\n",
      "\n",
      ". \n"
     ]
    }
   ],
   "source": [
    "%%stata\n",
    "rename Year year\n",
    "rename Annual wages\n",
    "label variable wages \"Annual Reported Wages (USD) (NAICS 3364)\""
   ]
  },
  {
   "cell_type": "code",
   "execution_count": 127,
   "id": "3b9ea3d2",
   "metadata": {},
   "outputs": [
    {
     "name": "stdout",
     "output_type": "stream",
     "text": [
      "\n",
      ". frame change default\n",
      "\n",
      ". // Create link to \"working\" frame by matching on year\n",
      ". frlink 1:1 year, frame(working)\n",
      "  (all observations in frame default matched)\n",
      "\n",
      ". frget wages, from(working)\n",
      "  (1 variable copied from linked frame)\n",
      "\n",
      ". \n"
     ]
    }
   ],
   "source": [
    "%%stata\n",
    "frame change default\n",
    "// Create link to \"working\" frame by matching on year\n",
    "frlink 1:1 year, frame(working)\n",
    "frget wages, from(working)"
   ]
  },
  {
   "cell_type": "code",
   "execution_count": 128,
   "id": "0655b39e",
   "metadata": {},
   "outputs": [
    {
     "name": "stdout",
     "output_type": "stream",
     "text": [
      "\n",
      ". generate state=\"MO\"\n",
      "\n",
      ". \n",
      ". // Drop frame link variable\n",
      ". drop working\n",
      "\n",
      ". \n"
     ]
    }
   ],
   "source": [
    "%%stata\n",
    "generate state=\"MO\"\n",
    "\n",
    "// Drop frame link variable\n",
    "drop working"
   ]
  },
  {
   "cell_type": "code",
   "execution_count": 129,
   "id": "14226754",
   "metadata": {},
   "outputs": [
    {
     "name": "stdout",
     "output_type": "stream",
     "text": [
      "\n",
      ". // Check data\n",
      ". list in 1/10\n",
      "\n",
      "     +---------------------------------+\n",
      "     | year   employ~t   wages   state |\n",
      "     |---------------------------------|\n",
      "  1. | 2001      13998   63203      MO |\n",
      "  2. | 2002      13556   70430      MO |\n",
      "  3. | 2003      12552   78051      MO |\n",
      "  4. | 2004      15900   76518      MO |\n",
      "  5. | 2005      15452   81340      MO |\n",
      "     |---------------------------------|\n",
      "  6. | 2006      15306   90639      MO |\n",
      "  7. | 2007      14560   86164      MO |\n",
      "  8. | 2008      14549   89035      MO |\n",
      "  9. | 2009      14922   87379      MO |\n",
      " 10. | 2010      14657   91617      MO |\n",
      "     +---------------------------------+\n",
      "\n",
      ". \n"
     ]
    }
   ],
   "source": [
    "%%stata\n",
    "// Check data\n",
    "list in 1/10"
   ]
  },
  {
   "cell_type": "code",
   "execution_count": 130,
   "id": "b16bd2cc",
   "metadata": {},
   "outputs": [
    {
     "name": "stdout",
     "output_type": "stream",
     "text": [
      "\n",
      ". // Save Missouri data\n",
      ". save \"$processed/missouri.dta\", replace\n",
      "file Data/Processed/missouri.dta saved\n",
      "\n",
      ". \n"
     ]
    }
   ],
   "source": [
    "%%stata\n",
    "// Save Missouri data\n",
    "save \"$processed/missouri.dta\", replace"
   ]
  },
  {
   "cell_type": "code",
   "execution_count": 131,
   "id": "d386d18f",
   "metadata": {},
   "outputs": [],
   "source": [
    "%%stata\n",
    "frame reset"
   ]
  },
  {
   "cell_type": "markdown",
   "id": "1c2a15c6",
   "metadata": {},
   "source": [
    "---"
   ]
  },
  {
   "cell_type": "markdown",
   "id": "05619e16",
   "metadata": {},
   "source": [
    "### Washington QCEW Data"
   ]
  },
  {
   "cell_type": "code",
   "execution_count": 132,
   "id": "1c39bdd4",
   "metadata": {},
   "outputs": [
    {
     "name": "stdout",
     "output_type": "stream",
     "text": [
      "\n",
      ". // Import Washington Employment\n",
      ". import excel \"$raw/WA_employment_QCEW.xlsx\", /// \n",
      ">     sheet(\"BLS Data Series\") /// \n",
      ">     cellrange(A14:N34) /// \n",
      ">     firstrow ///\n",
      ">     clear\n",
      "(14 vars, 20 obs)\n",
      "\n",
      ". describe\n",
      "\n",
      "Contains data\n",
      " Observations:            20                  \n",
      "    Variables:            14                  \n",
      "-------------------------------------------------------------------------------\n",
      "Variable      Storage   Display    Value\n",
      "    name         type    format    label      Variable label\n",
      "-------------------------------------------------------------------------------\n",
      "Year            int     %10.0g                Year\n",
      "Jan             byte    %10.0g                Jan\n",
      "Feb             byte    %10.0g                Feb\n",
      "Mar             byte    %10.0g                Mar\n",
      "Apr             byte    %10.0g                Apr\n",
      "May             byte    %10.0g                May\n",
      "Jun             byte    %10.0g                Jun\n",
      "Jul             byte    %10.0g                Jul\n",
      "Aug             byte    %10.0g                Aug\n",
      "Sep             byte    %10.0g                Sep\n",
      "Oct             byte    %10.0g                Oct\n",
      "Nov             byte    %10.0g                Nov\n",
      "Dec             byte    %10.0g                Dec\n",
      "Annual          long    %10.0g                Annual\n",
      "-------------------------------------------------------------------------------\n",
      "Sorted by: \n",
      "     Note: Dataset has changed since last saved.\n",
      "\n",
      ". summarize\n",
      "\n",
      "    Variable |        Obs        Mean    Std. dev.       Min        Max\n",
      "-------------+---------------------------------------------------------\n",
      "        Year |         20      2010.5     5.91608       2001       2020\n",
      "         Jan |          0\n",
      "         Feb |          0\n",
      "         Mar |          0\n",
      "         Apr |          0\n",
      "-------------+---------------------------------------------------------\n",
      "         May |          0\n",
      "         Jun |          0\n",
      "         Jul |          0\n",
      "         Aug |          0\n",
      "         Sep |          0\n",
      "-------------+---------------------------------------------------------\n",
      "         Oct |          0\n",
      "         Nov |          0\n",
      "         Dec |          0\n",
      "      Annual |         20     82336.3    10008.09      61384      96012\n",
      "\n",
      ". \n"
     ]
    }
   ],
   "source": [
    "%%stata\n",
    "// Import Washington Employment\n",
    "import excel \"$raw/WA_employment_QCEW.xlsx\", /// \n",
    "    sheet(\"BLS Data Series\") /// \n",
    "    cellrange(A14:N34) /// \n",
    "    firstrow ///\n",
    "    clear\n",
    "describe\n",
    "summarize"
   ]
  },
  {
   "cell_type": "markdown",
   "id": "f54fd383",
   "metadata": {},
   "source": [
    "Data is only at the annual level.  I will  drop the the month fields."
   ]
  },
  {
   "cell_type": "code",
   "execution_count": 133,
   "id": "edf542df",
   "metadata": {},
   "outputs": [
    {
     "name": "stdout",
     "output_type": "stream",
     "text": [
      "\n",
      ". keep Year Annual\n",
      "\n",
      ". rename Year year\n",
      "\n",
      ". rename Annual employment\n",
      "\n",
      ". label variable employment \"Annual Reported Employment (NAICS 3364)\"\n",
      "\n",
      ". \n"
     ]
    }
   ],
   "source": [
    "%%stata\n",
    "keep Year Annual\n",
    "rename Year year\n",
    "rename Annual employment\n",
    "label variable employment \"Annual Reported Employment (NAICS 3364)\""
   ]
  },
  {
   "cell_type": "code",
   "execution_count": 134,
   "id": "154f02b1",
   "metadata": {},
   "outputs": [
    {
     "name": "stdout",
     "output_type": "stream",
     "text": [
      "\n",
      ". // Create and change to working frame\n",
      ". frame create working\n",
      "\n",
      ". frame change working\n",
      "\n",
      ". \n"
     ]
    }
   ],
   "source": [
    "%%stata\n",
    "// Create and change to working frame\n",
    "frame create working\n",
    "frame change working"
   ]
  },
  {
   "cell_type": "code",
   "execution_count": 135,
   "id": "9b6590a6",
   "metadata": {},
   "outputs": [
    {
     "name": "stdout",
     "output_type": "stream",
     "text": [
      "\n",
      ". // Import Washington Wages\n",
      ". import excel \"$raw/WA_wages_QCEW.xlsx\", /// \n",
      ">     sheet(\"BLS Data Series\") /// \n",
      ">     cellrange(A14:B34) /// \n",
      ">     firstrow ///\n",
      ">     clear\n",
      "(2 vars, 20 obs)\n",
      "\n",
      ". describe\n",
      "\n",
      "Contains data\n",
      " Observations:            20                  \n",
      "    Variables:             2                  \n",
      "-------------------------------------------------------------------------------\n",
      "Variable      Storage   Display    Value\n",
      "    name         type    format    label      Variable label\n",
      "-------------------------------------------------------------------------------\n",
      "Year            int     %10.0g                Year\n",
      "Annual          long    %10.0g                Annual\n",
      "-------------------------------------------------------------------------------\n",
      "Sorted by: \n",
      "     Note: Dataset has changed since last saved.\n",
      "\n",
      ". summarize\n",
      "\n",
      "    Variable |        Obs        Mean    Std. dev.       Min        Max\n",
      "-------------+---------------------------------------------------------\n",
      "        Year |         20      2010.5     5.91608       2001       2020\n",
      "      Annual |         20    95211.55    16449.26      65162     119650\n",
      "\n",
      ". \n"
     ]
    }
   ],
   "source": [
    "%%stata\n",
    "// Import Washington Wages\n",
    "import excel \"$raw/WA_wages_QCEW.xlsx\", /// \n",
    "    sheet(\"BLS Data Series\") /// \n",
    "    cellrange(A14:B34) /// \n",
    "    firstrow ///\n",
    "    clear\n",
    "describe\n",
    "summarize"
   ]
  },
  {
   "cell_type": "code",
   "execution_count": 136,
   "id": "5791d78a",
   "metadata": {},
   "outputs": [
    {
     "name": "stdout",
     "output_type": "stream",
     "text": [
      "\n",
      ". rename Year year\n",
      "\n",
      ". rename Annual wages\n",
      "\n",
      ". label variable wages \"Annual Reported Wages (USD) (NAICS 3364)\"\n",
      "\n",
      ". \n"
     ]
    }
   ],
   "source": [
    "%%stata\n",
    "rename Year year\n",
    "rename Annual wages\n",
    "label variable wages \"Annual Reported Wages (USD) (NAICS 3364)\""
   ]
  },
  {
   "cell_type": "code",
   "execution_count": 137,
   "id": "3a6f4dff",
   "metadata": {},
   "outputs": [
    {
     "name": "stdout",
     "output_type": "stream",
     "text": [
      "\n",
      ". // Rebuild the link using current dataset and pull data into primary frame.\n",
      ". frame change default\n",
      "\n",
      ". frlink 1:1 year, frame(working)\n",
      "  (all observations in frame default matched)\n",
      "\n",
      ". frget wages, from(working)\n",
      "  (1 variable copied from linked frame)\n",
      "\n",
      ". \n"
     ]
    }
   ],
   "source": [
    "%%stata\n",
    "// Rebuild the link using current dataset and pull data into primary frame.\n",
    "frame change default\n",
    "frlink 1:1 year, frame(working)\n",
    "frget wages, from(working)"
   ]
  },
  {
   "cell_type": "markdown",
   "id": "c56a9958",
   "metadata": {},
   "source": [
    "---"
   ]
  },
  {
   "cell_type": "code",
   "execution_count": 138,
   "id": "b7120015",
   "metadata": {},
   "outputs": [
    {
     "name": "stdout",
     "output_type": "stream",
     "text": [
      "\n",
      ". generate state=\"WA\"\n",
      "\n",
      ". drop working\n",
      "\n",
      ". \n"
     ]
    }
   ],
   "source": [
    "%%stata\n",
    "generate state=\"WA\"\n",
    "drop working"
   ]
  },
  {
   "cell_type": "code",
   "execution_count": 139,
   "id": "62510b51",
   "metadata": {
    "scrolled": true
   },
   "outputs": [
    {
     "name": "stdout",
     "output_type": "stream",
     "text": [
      "\n",
      "     +---------------------------------+\n",
      "     | year   employ~t   wages   state |\n",
      "     |---------------------------------|\n",
      "  1. | 2001      87243   65162      WA |\n",
      "  2. | 2002      75653   71465      WA |\n",
      "  3. | 2003      65274   73460      WA |\n",
      "  4. | 2004      61384   77747      WA |\n",
      "  5. | 2005      65616   84146      WA |\n",
      "     |---------------------------------|\n",
      "  6. | 2006      73180   90155      WA |\n",
      "  7. | 2007      80036   86735      WA |\n",
      "  8. | 2008      82932   87114      WA |\n",
      "  9. | 2009      82920   87887      WA |\n",
      " 10. | 2010      80762   91526      WA |\n",
      "     +---------------------------------+\n"
     ]
    }
   ],
   "source": [
    "%%stata\n",
    "list in 1/10"
   ]
  },
  {
   "cell_type": "code",
   "execution_count": 140,
   "id": "1e18c4c1",
   "metadata": {},
   "outputs": [
    {
     "name": "stdout",
     "output_type": "stream",
     "text": [
      "\n",
      ". // Save Washington data\n",
      ". save \"$processed/washington.dta\", replace\n",
      "file Data/Processed/washington.dta saved\n",
      "\n",
      ". \n"
     ]
    }
   ],
   "source": [
    "%%stata\n",
    "// Save Washington data\n",
    "save \"$processed/washington.dta\", replace"
   ]
  },
  {
   "cell_type": "code",
   "execution_count": 141,
   "id": "63ec6b79",
   "metadata": {},
   "outputs": [
    {
     "name": "stdout",
     "output_type": "stream",
     "text": [
      "\n",
      ". // Clean up frame space, drop link\n",
      ". frame reset\n",
      "\n",
      ". \n"
     ]
    }
   ],
   "source": [
    "%%stata\n",
    "// Clean up frame space, drop link\n",
    "frame reset"
   ]
  },
  {
   "cell_type": "markdown",
   "id": "f4a7007f",
   "metadata": {},
   "source": [
    "### Append Missouri and Washington QCEW data"
   ]
  },
  {
   "cell_type": "code",
   "execution_count": 142,
   "id": "9ebfd6b6",
   "metadata": {},
   "outputs": [
    {
     "name": "stdout",
     "output_type": "stream",
     "text": [
      "\n",
      ". use $processed/missouri, clear\n",
      "\n",
      ". append using $processed/washington\n",
      "(variable employment was int, now long to accommodate using data's values)\n",
      "\n",
      ". \n",
      ". // Sort by year and state and check first 10 rows.\n",
      ". sort year state\n",
      "\n",
      ". list in 1/10\n",
      "\n",
      "     +---------------------------------+\n",
      "     | year   employ~t   wages   state |\n",
      "     |---------------------------------|\n",
      "  1. | 2001      13998   63203      MO |\n",
      "  2. | 2001      87243   65162      WA |\n",
      "  3. | 2002      13556   70430      MO |\n",
      "  4. | 2002      75653   71465      WA |\n",
      "  5. | 2003      12552   78051      MO |\n",
      "     |---------------------------------|\n",
      "  6. | 2003      65274   73460      WA |\n",
      "  7. | 2004      15900   76518      MO |\n",
      "  8. | 2004      61384   77747      WA |\n",
      "  9. | 2005      15452   81340      MO |\n",
      " 10. | 2005      65616   84146      WA |\n",
      "     +---------------------------------+\n",
      "\n",
      ". \n"
     ]
    }
   ],
   "source": [
    "%%stata\n",
    "use $processed/missouri, clear\n",
    "append using $processed/washington\n",
    "\n",
    "// Sort by year and state and check first 10 rows.\n",
    "sort year state\n",
    "list in 1/10"
   ]
  },
  {
   "cell_type": "code",
   "execution_count": 143,
   "id": "837a998c",
   "metadata": {},
   "outputs": [
    {
     "name": "stdout",
     "output_type": "stream",
     "text": [
      "\n",
      ". // Save intermediate file\n",
      ". save \"$finalData\", replace\n",
      "file Data/Processed/taxIncentives.dta saved\n",
      "\n",
      ". \n"
     ]
    }
   ],
   "source": [
    "%%stata\n",
    "// Save intermediate file\n",
    "save \"$finalData\", replace"
   ]
  },
  {
   "cell_type": "markdown",
   "id": "5f998dd4",
   "metadata": {},
   "source": [
    "---"
   ]
  },
  {
   "cell_type": "markdown",
   "id": "08302078",
   "metadata": {},
   "source": [
    "### Add Washington and Missouri Census Data"
   ]
  },
  {
   "cell_type": "code",
   "execution_count": 144,
   "id": "3df71970",
   "metadata": {},
   "outputs": [
    {
     "name": "stdout",
     "output_type": "stream",
     "text": [
      "\n",
      ". import excel \"$raw/CensusPopEst2010to2019.xlsx\", ///\n",
      ">     sheet(\"Data\") ///\n",
      ">     firstrow ///\n",
      ">     clear\n",
      "(13 vars, 3 obs)\n",
      "\n",
      ". \n",
      ". /*\n",
      ">     Drop B which is\"2010 Census population\"\n",
      ">     Drop C which is the estimate base\n",
      ">     Data will only include population estimates \n",
      ">       July 2010- July 2019\n",
      "> */\n",
      ". drop B C\n",
      "\n",
      ". \n",
      ". // Drop row 1 which is also header\n",
      ". keep in 2/3\n",
      "(1 observation deleted)\n",
      "\n",
      ". \n"
     ]
    }
   ],
   "source": [
    "%%stata\n",
    "import excel \"$raw/CensusPopEst2010to2019.xlsx\", ///\n",
    "    sheet(\"Data\") ///\n",
    "    firstrow ///\n",
    "    clear\n",
    "\n",
    "/*\n",
    "    Drop B which is\"2010 Census population\"\n",
    "    Drop C which is the estimate base\n",
    "    Data will only include population estimates \n",
    "      July 2010- July 2019\n",
    "*/\n",
    "drop B C\n",
    "\n",
    "// Drop row 1 which is also header\n",
    "keep in 2/3"
   ]
  },
  {
   "cell_type": "code",
   "execution_count": 145,
   "id": "9aa8aa35",
   "metadata": {},
   "outputs": [
    {
     "name": "stdout",
     "output_type": "stream",
     "text": [
      "\n",
      ". rename A state\n",
      "\n",
      ". replace state=\"WA\" if state==\"Washington\"\n",
      "(1 real change made)\n",
      "\n",
      ". replace state=\"MO\" if state==\"Missouri\"\n",
      "(1 real change made)\n",
      "\n",
      ". \n",
      ". // Rename each of the population for reshape cmd\n",
      ". scalar i = 2010\n",
      "\n",
      ". foreach var of varlist D-M{\n",
      "  2.     local j: display int(i)\n",
      "  3.     rename `var' pop`j'\n",
      "  4.     scalar i = i + 1\n",
      "  5. }\n",
      "\n",
      ". \n"
     ]
    }
   ],
   "source": [
    "%%stata\n",
    "rename A state\n",
    "replace state=\"WA\" if state==\"Washington\"\n",
    "replace state=\"MO\" if state==\"Missouri\"\n",
    "\n",
    "// Rename each of the population for reshape cmd\n",
    "scalar i = 2010\n",
    "foreach var of varlist D-M{\n",
    "    local j: display int(i)\n",
    "    rename `var' pop`j'\n",
    "    scalar i = i + 1\n",
    "}"
   ]
  },
  {
   "cell_type": "code",
   "execution_count": 146,
   "id": "e92740fb",
   "metadata": {},
   "outputs": [
    {
     "name": "stdout",
     "output_type": "stream",
     "text": [
      "(j = 2010 2011 2012 2013 2014 2015 2016 2017 2018 2019)\n",
      "\n",
      "Data                               Wide   ->   Long\n",
      "-----------------------------------------------------------------------------\n",
      "Number of observations                2   ->   20          \n",
      "Number of variables                  11   ->   3           \n",
      "j variable (10 values)                    ->   year\n",
      "xij variables:\n",
      "            pop2010 pop2011 ... pop2019   ->   pop\n",
      "-----------------------------------------------------------------------------\n"
     ]
    }
   ],
   "source": [
    "%%stata\n",
    "reshape long pop, i(state) j(year) "
   ]
  },
  {
   "cell_type": "code",
   "execution_count": 147,
   "id": "dd5df9f6",
   "metadata": {},
   "outputs": [
    {
     "name": "stdout",
     "output_type": "stream",
     "text": [
      "\n",
      ". /* \n",
      "> Convert to Strings by ignoring the \",\".  \n",
      ">   Raw data is formated with comma separator for thousands\n",
      ">   and millions.\n",
      "> */\n",
      ". destring(pop), replace ignore(\",\")\n",
      "pop: character , removed; replaced as long\n",
      "\n",
      ". label variable pop \"US Census Population Estimate\"\n",
      "\n",
      ". by state: list\n",
      "\n",
      "-------------------------------------------------------------------------------\n",
      "-> state = MO\n",
      "\n",
      "     +------------------------+\n",
      "     | state   year       pop |\n",
      "     |------------------------|\n",
      "  1. |    MO   2010   5995974 |\n",
      "  2. |    MO   2011   6010275 |\n",
      "  3. |    MO   2012   6024367 |\n",
      "  4. |    MO   2013   6040715 |\n",
      "  5. |    MO   2014   6056202 |\n",
      "     |------------------------|\n",
      "  6. |    MO   2015   6071732 |\n",
      "  7. |    MO   2016   6087135 |\n",
      "  8. |    MO   2017   6106670 |\n",
      "  9. |    MO   2018   6121623 |\n",
      " 10. |    MO   2019   6137428 |\n",
      "     +------------------------+\n",
      "\n",
      "-------------------------------------------------------------------------------\n",
      "-> state = WA\n",
      "\n",
      "     +------------------------+\n",
      "     | state   year       pop |\n",
      "     |------------------------|\n",
      "  1. |    WA   2010   6742830 |\n",
      "  2. |    WA   2011   6826627 |\n",
      "  3. |    WA   2012   6897058 |\n",
      "  4. |    WA   2013   6963985 |\n",
      "  5. |    WA   2014   7054655 |\n",
      "     |------------------------|\n",
      "  6. |    WA   2015   7163657 |\n",
      "  7. |    WA   2016   7294771 |\n",
      "  8. |    WA   2017   7423362 |\n",
      "  9. |    WA   2018   7523869 |\n",
      " 10. |    WA   2019   7614893 |\n",
      "     +------------------------+\n",
      "\n",
      "\n",
      ". \n"
     ]
    }
   ],
   "source": [
    "%%stata\n",
    "/* \n",
    "Convert to Strings by ignoring the \",\".  \n",
    "  Raw data is formated with comma separator for thousands\n",
    "  and millions.\n",
    "*/\n",
    "destring(pop), replace ignore(\",\")\n",
    "label variable pop \"US Census Population Estimate\"\n",
    "by state: list"
   ]
  },
  {
   "cell_type": "markdown",
   "id": "2e9f32fa",
   "metadata": {},
   "source": [
    "---"
   ]
  },
  {
   "cell_type": "markdown",
   "id": "44134209",
   "metadata": {},
   "source": [
    "## Merge Census and QCEW Data"
   ]
  },
  {
   "cell_type": "code",
   "execution_count": 148,
   "id": "fd601235",
   "metadata": {},
   "outputs": [
    {
     "name": "stdout",
     "output_type": "stream",
     "text": [
      "\n",
      "    Result                      Number of obs\n",
      "    -----------------------------------------\n",
      "    Not matched                            20\n",
      "        from master                         0  (_merge==1)\n",
      "        from using                         20  (_merge==2)\n",
      "\n",
      "    Matched                                20  (_merge==3)\n",
      "    -----------------------------------------\n"
     ]
    }
   ],
   "source": [
    "%%stata\n",
    "merge 1:1 state year using $finalData"
   ]
  },
  {
   "cell_type": "code",
   "execution_count": 149,
   "id": "19956ecd",
   "metadata": {},
   "outputs": [],
   "source": [
    "%%stata\n",
    "drop _merge"
   ]
  },
  {
   "cell_type": "code",
   "execution_count": 150,
   "id": "eef51f74",
   "metadata": {},
   "outputs": [
    {
     "name": "stdout",
     "output_type": "stream",
     "text": [
      "\n",
      ". // Check Data\n",
      ". sort state year\n",
      "\n",
      ". by state: list year pop employment wages if year>2008\n",
      "\n",
      "-------------------------------------------------------------------------------\n",
      "-> state = MO\n",
      "\n",
      "     +------------------------------------+\n",
      "     | year       pop   employ~t    wages |\n",
      "     |------------------------------------|\n",
      "  9. | 2009         .      14922    87379 |\n",
      " 10. | 2010   5995974      14657    91617 |\n",
      " 11. | 2011   6010275      14490    97100 |\n",
      " 12. | 2012   6024367      14235   102881 |\n",
      " 13. | 2013   6040715      17689   105111 |\n",
      "     |------------------------------------|\n",
      " 14. | 2014   6056202      17778   111073 |\n",
      " 15. | 2015   6071732      16778   108757 |\n",
      " 16. | 2016   6087135      16044   108886 |\n",
      " 17. | 2017   6106670      15814   114566 |\n",
      " 18. | 2018   6121623      16127   118080 |\n",
      "     |------------------------------------|\n",
      " 19. | 2019   6137428      17406   115738 |\n",
      " 20. | 2020         .      17814   105995 |\n",
      "     +------------------------------------+\n",
      "\n",
      "-------------------------------------------------------------------------------\n",
      "-> state = WA\n",
      "\n",
      "     +------------------------------------+\n",
      "     | year       pop   employ~t    wages |\n",
      "     |------------------------------------|\n",
      "  9. | 2009         .      82920    87887 |\n",
      " 10. | 2010   6742830      80762    91526 |\n",
      " 11. | 2011   6826627      86577    97215 |\n",
      " 12. | 2012   6897058      94224    96688 |\n",
      " 13. | 2013   6963985      96012   100105 |\n",
      "     |------------------------------------|\n",
      " 14. | 2014   7054655      93889   110016 |\n",
      " 15. | 2015   7163657      93816   107138 |\n",
      " 16. | 2016   7294771      90845   108274 |\n",
      " 17. | 2017   7423362      83998   113798 |\n",
      " 18. | 2018   7523869      83879   119650 |\n",
      "     |------------------------------------|\n",
      " 19. | 2019   7614893      88483   118995 |\n",
      " 20. | 2020         .      80003   116955 |\n",
      "     +------------------------------------+\n",
      "\n",
      "\n",
      ". \n"
     ]
    }
   ],
   "source": [
    "%%stata\n",
    "// Check Data\n",
    "sort state year\n",
    "by state: list year pop employment wages if year>2008"
   ]
  },
  {
   "cell_type": "markdown",
   "id": "3d96804e",
   "metadata": {},
   "source": [
    "---"
   ]
  },
  {
   "cell_type": "markdown",
   "id": "2d99dd40",
   "metadata": {},
   "source": [
    "## Generate Calculated Parameters"
   ]
  },
  {
   "cell_type": "markdown",
   "id": "0e4b4239",
   "metadata": {},
   "source": [
    "### Add indicator dummies for incentive year, leads and lags\n",
    "Tax incentive was passed in 2014 in WA.  In 2014 WA was selected as the expansion site."
   ]
  },
  {
   "cell_type": "code",
   "execution_count": 151,
   "id": "b3fe0dfd",
   "metadata": {
    "scrolled": true
   },
   "outputs": [
    {
     "name": "stdout",
     "output_type": "stream",
     "text": [
      "\n",
      ". sort state year\n",
      "\n",
      ". by state: generate postIncentive=(year>=2014)\n",
      "\n",
      ". label variable postIncentive \"=1 if year >=2014\"\n",
      "\n",
      ". \n"
     ]
    }
   ],
   "source": [
    "%%stata\n",
    "sort state year\n",
    "by state: generate postIncentive=(year>=2014)\n",
    "label variable postIncentive \"=1 if year >=2014\""
   ]
  },
  {
   "cell_type": "code",
   "execution_count": 152,
   "id": "03f1a305",
   "metadata": {},
   "outputs": [
    {
     "name": "stdout",
     "output_type": "stream",
     "text": [
      "\n",
      ". // T0 to examine the pre and post trends\n",
      ". by state: generate t_0 = (postIncentive==1 & postIncentive[_n-1]==0) \n",
      "\n",
      ". \n",
      ". // Generate 4 years of lags and leads\n",
      ". foreach i of numlist -4/4 {\n",
      "  2.     if `i' < 0 {\n",
      "  3.         local var \"lag\"\n",
      "  4.     }\n",
      "  5.     if `i' > 0 {\n",
      "  6.         local var \"lead\"\n",
      "  7.     }\n",
      "  8.     \n",
      ".     // So the lag/lead numbers are always positive\n",
      ".     local j: display int(abs(`i'))\n",
      "  9.     \n",
      ".     /* \n",
      ">         Note: A negative value of i will result\n",
      ">             in lag.\n",
      ">     */\n",
      ".     by state: generate t_`var'`j'=(t_0[_n+`i']==1)\n",
      " 10. }\n",
      "\n",
      ". // Group all lags older than 4 year together\n",
      ". by state: replace t_lag4=1 if (t_lag4[_n-1]==1)\n",
      "(4 real changes made)\n",
      "\n",
      ". \n"
     ]
    }
   ],
   "source": [
    "%%stata\n",
    "// T0 to examine the pre and post trends\n",
    "by state: generate t_0 = (postIncentive==1 & postIncentive[_n-1]==0) \n",
    "\n",
    "// Generate 4 years of lags and leads\n",
    "foreach i of numlist -4/4 {\n",
    "    if `i' < 0 {\n",
    "        local var \"lag\"\n",
    "    }\n",
    "    if `i' > 0 {\n",
    "        local var \"lead\"\n",
    "    }\n",
    "    \n",
    "    // So the lag/lead numbers are always positive\n",
    "    local j: display int(abs(`i'))\n",
    "    \n",
    "    /* \n",
    "        Note: A negative value of i will result\n",
    "            in lag.\n",
    "    */\n",
    "    by state: generate t_`var'`j'=(t_0[_n+`i']==1)\n",
    "}\n",
    "// Group all lags older than 4 year together\n",
    "by state: replace t_lag4=1 if (t_lag4[_n-1]==1)"
   ]
  },
  {
   "cell_type": "code",
   "execution_count": 153,
   "id": "949bdb92",
   "metadata": {
    "scrolled": true
   },
   "outputs": [
    {
     "name": "stdout",
     "output_type": "stream",
     "text": [
      "\n",
      ". // Check the data\n",
      ". by state: list state year t_lead2 t_lead1 t_0 t_lag1 t_lag2, sepby(t_0) \n",
      "\n",
      "-------------------------------------------------------------------------------\n",
      "-> state = MO\n",
      "\n",
      "     +----------------------------------------------------------+\n",
      "     | state   year   t_lead2   t_lead1   t_0   t_lag1   t_lag2 |\n",
      "     |----------------------------------------------------------|\n",
      "  1. |    MO   2001         0         0     0        0        0 |\n",
      "  2. |    MO   2002         0         0     0        0        0 |\n",
      "  3. |    MO   2003         0         0     0        0        0 |\n",
      "  4. |    MO   2004         0         0     0        0        0 |\n",
      "  5. |    MO   2005         0         0     0        0        0 |\n",
      "  6. |    MO   2006         0         0     0        0        0 |\n",
      "  7. |    MO   2007         0         0     0        0        0 |\n",
      "  8. |    MO   2008         0         0     0        0        0 |\n",
      "  9. |    MO   2009         0         0     0        0        0 |\n",
      " 10. |    MO   2010         0         0     0        0        0 |\n",
      " 11. |    MO   2011         0         0     0        0        0 |\n",
      " 12. |    MO   2012         1         0     0        0        0 |\n",
      " 13. |    MO   2013         0         1     0        0        0 |\n",
      "     |----------------------------------------------------------|\n",
      " 14. |    MO   2014         0         0     1        0        0 |\n",
      "     |----------------------------------------------------------|\n",
      " 15. |    MO   2015         0         0     0        1        0 |\n",
      " 16. |    MO   2016         0         0     0        0        1 |\n",
      " 17. |    MO   2017         0         0     0        0        0 |\n",
      " 18. |    MO   2018         0         0     0        0        0 |\n",
      " 19. |    MO   2019         0         0     0        0        0 |\n",
      " 20. |    MO   2020         0         0     0        0        0 |\n",
      "     +----------------------------------------------------------+\n",
      "\n",
      "-------------------------------------------------------------------------------\n",
      "-> state = WA\n",
      "\n",
      "     +----------------------------------------------------------+\n",
      "     | state   year   t_lead2   t_lead1   t_0   t_lag1   t_lag2 |\n",
      "     |----------------------------------------------------------|\n",
      "  1. |    WA   2001         0         0     0        0        0 |\n",
      "  2. |    WA   2002         0         0     0        0        0 |\n",
      "  3. |    WA   2003         0         0     0        0        0 |\n",
      "  4. |    WA   2004         0         0     0        0        0 |\n",
      "  5. |    WA   2005         0         0     0        0        0 |\n",
      "  6. |    WA   2006         0         0     0        0        0 |\n",
      "  7. |    WA   2007         0         0     0        0        0 |\n",
      "  8. |    WA   2008         0         0     0        0        0 |\n",
      "  9. |    WA   2009         0         0     0        0        0 |\n",
      " 10. |    WA   2010         0         0     0        0        0 |\n",
      " 11. |    WA   2011         0         0     0        0        0 |\n",
      " 12. |    WA   2012         1         0     0        0        0 |\n",
      " 13. |    WA   2013         0         1     0        0        0 |\n",
      "     |----------------------------------------------------------|\n",
      " 14. |    WA   2014         0         0     1        0        0 |\n",
      "     |----------------------------------------------------------|\n",
      " 15. |    WA   2015         0         0     0        1        0 |\n",
      " 16. |    WA   2016         0         0     0        0        1 |\n",
      " 17. |    WA   2017         0         0     0        0        0 |\n",
      " 18. |    WA   2018         0         0     0        0        0 |\n",
      " 19. |    WA   2019         0         0     0        0        0 |\n",
      " 20. |    WA   2020         0         0     0        0        0 |\n",
      "     +----------------------------------------------------------+\n",
      "\n",
      "\n",
      ". \n"
     ]
    }
   ],
   "source": [
    "%%stata\n",
    "// Check the data\n",
    "by state: list state year t_lead2 t_lead1 t_0 t_lag1 t_lag2, sepby(t_0) "
   ]
  },
  {
   "cell_type": "markdown",
   "id": "0dedbb8e",
   "metadata": {},
   "source": [
    "### Add ln(\\*) for *pop*, *employment*, and *wages*"
   ]
  },
  {
   "cell_type": "code",
   "execution_count": 154,
   "id": "a796e502",
   "metadata": {},
   "outputs": [
    {
     "name": "stdout",
     "output_type": "stream",
     "text": [
      "\n",
      ". generate lnPop=ln(pop)\n",
      "(20 missing values generated)\n",
      "\n",
      ". generate lnEmployment=ln(employment)\n",
      "\n",
      ". generate lnWages = ln(wages)\n",
      "\n",
      ". \n",
      ". generate wa=(state==\"WA\")\n",
      "\n",
      ". label variable wa \"=1 if the state is WA\"\n",
      "\n",
      ". \n",
      ". generate treated = postIncentive*wa\n",
      "\n",
      ". label variable treated \"=1 if after 2014 and in WA\"\n",
      "\n",
      ". \n"
     ]
    }
   ],
   "source": [
    "%%stata\n",
    "generate lnPop=ln(pop)\n",
    "generate lnEmployment=ln(employment)\n",
    "generate lnWages = ln(wages)\n",
    "\n",
    "generate wa=(state==\"WA\")\n",
    "label variable wa \"=1 if the state is WA\"\n",
    "\n",
    "generate treated = postIncentive*wa\n",
    "label variable treated \"=1 if after 2014 and in WA\""
   ]
  },
  {
   "cell_type": "markdown",
   "id": "cd19fb4d",
   "metadata": {},
   "source": [
    "## Save Final Data"
   ]
  },
  {
   "cell_type": "code",
   "execution_count": 155,
   "id": "c867dfaf",
   "metadata": {},
   "outputs": [
    {
     "name": "stdout",
     "output_type": "stream",
     "text": [
      "\n",
      "file Data/Processed/taxIncentives.dta saved\n"
     ]
    }
   ],
   "source": [
    "%%stata\n",
    "save $finalData, replace"
   ]
  },
  {
   "cell_type": "code",
   "execution_count": 156,
   "id": "36fee827",
   "metadata": {},
   "outputs": [],
   "source": [
    "%%capture\n",
    "%%stata\n",
    "clear\n",
    "log close"
   ]
  },
  {
   "cell_type": "code",
   "execution_count": null,
   "id": "88ef437a",
   "metadata": {},
   "outputs": [],
   "source": []
  }
 ],
 "metadata": {
  "kernelspec": {
   "display_name": "Python 3",
   "language": "python",
   "name": "python3"
  },
  "language_info": {
   "codemirror_mode": {
    "name": "ipython",
    "version": 3
   },
   "file_extension": ".py",
   "mimetype": "text/x-python",
   "name": "python",
   "nbconvert_exporter": "python",
   "pygments_lexer": "ipython3",
   "version": "3.8.1"
  }
 },
 "nbformat": 4,
 "nbformat_minor": 5
}
